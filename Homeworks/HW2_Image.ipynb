{
 "cells": [
  {
   "cell_type": "markdown",
   "metadata": {},
   "source": [
    "# Fallow from the Other Side\n",
    "\n",
    "In this assignment you will examine fallow patterns in the state of California. \"Fallowing\" is when a land is left uncropped for one or more season, usually for the purpose of preserving soil health. You have two years of Cropland Data Layer (CDL), 2017 and 2018, from which to examine how common the phenomenon is in the Central Valley of California. \n",
    "\n",
    "> NOTE: You will need to make use of the CDL documentation to answer many of these questions.\n"
   ]
  },
  {
   "cell_type": "code",
   "execution_count": null,
   "metadata": {},
   "outputs": [],
   "source": [
    "import numpy as np\n",
    "import matplotlib.pyplot as plt\n",
    "import geopandas\n",
    "import pyproj\n",
    "import rasterio\n",
    "import rasterstats\n",
    "import pandas as pd\n",
    "import json\n",
    "from rasterio.mask import mask\n",
    "from rasterio.plot import show\n",
    "import matplotlib.colors as pltc\n",
    "from matplotlib.patches import Patch\n",
    "from matplotlib.lines import Line2D\n",
    "import matplotlib\n",
    "from rasterio.warp import calculate_default_transform, reproject, Resampling\n",
    "from rasterstats import zonal_stats\n",
    "\n",
    "def getFeatures(gdf):\n",
    "    \"\"\"Function to parse features from GeoDataFrame in such a manner that rasterio wants them\"\"\"\n",
    "    import json\n",
    "    return [json.loads(gdf.to_json())['features'][0]['geometry']]"
   ]
  },
  {
   "cell_type": "markdown",
   "metadata": {},
   "source": [
    "### **Formatting (2 points)**\n",
    "- Label each of your questions with a header like below (\"Question 1\"), putting the code cells below each header.\n",
    "    - See Homework 1 Solution for an example\n",
    "- Link each header to a Table of Contents which you'll create at the top of your document, using these instructions:\n",
    "    - https://www.geeksforgeeks.org/how-to-add-a-table-of-contents-in-the-jupyter-notebook/\n",
    "    - See Homework 1 Solution for an example\n",
    "- Within each header, make subheaders that link to specific outputs.\n",
    "    - e.g. \"Plot of 2017 and 2018 Rasters\" under Question 1"
   ]
  },
  {
   "cell_type": "markdown",
   "metadata": {},
   "source": [
    "### **Question 1 (2 points)**\n",
    "\n",
    "Clip the 2017 and 2018 CDL rasters of the Central Valley to the state of California. Plot both rasters next to each other with the California shapefile."
   ]
  },
  {
   "cell_type": "markdown",
   "metadata": {},
   "source": [
    "### **Question 2 (2 points)**\n",
    "Summarize the top land uses in California in each year with a pie chart or other visualization. Specifically, make the following categorization using the CDL documentation to summarize the pixels in each year: \n",
    "- Crops (including Fallowed Land)\n",
    "- Forest\n",
    "- Grassland/Pasture\n",
    "- Shrubland\n",
    "- Developed Land\n",
    "- Other\n",
    "    \n",
    "For the category \"Crops,\" make an **additional graph** showing the decomposition of this category in each year."
   ]
  },
  {
   "cell_type": "markdown",
   "metadata": {},
   "source": [
    "### **Question 3 (2 points)**\n",
    "\n",
    "Create two rasters for each year: \n",
    "- 1 if pixel is cropped, 0 otherwise\n",
    "- 1 if pixel is fallowed, 0 otherwise\n",
    "    \n",
    "__Plot all four of them with the shape file of California.__"
   ]
  },
  {
   "cell_type": "markdown",
   "metadata": {},
   "source": [
    "### **Question 4 ( 2 points)**\n",
    "\n",
    "Describe the degree of fallowing rotation between 2017 and 2018. How much crop land became fallowed? How much fallow land became cropped? \n",
    "\n",
    "__Make a table or figure that conveys this information.__"
   ]
  },
  {
   "cell_type": "markdown",
   "metadata": {},
   "source": [
    "### **Question 5 (4 points)**\n",
    "\n",
    "Create a raster using the CDL layers where each pixel is labeled: \n",
    "- 1 = crop stayed crop\n",
    "- 2 = fallowed stayed fallowed\n",
    "- 3 = crop changed to fallowed\n",
    "- 4 = fallowed changed to crop\n",
    "- 0 = any other case.\n",
    "    \n",
    "Then **visualize the raster** on top of the California shapefile. __Note any patterns you see in land use change and your thoughts on the cause of the patterns.__\n",
    "    \n",
    "> **Extra Credit**: Put a markdown cell above your graph code that says \"**My Submission**\" (1 point)"
   ]
  },
  {
   "cell_type": "markdown",
   "metadata": {},
   "source": [
    "### **Question 6 (4 points)**\n",
    "\n",
    "Using the `rasterstats` package, calculate the county-level percentage of crop/fallow pixels which transitioned from fallow to crops and vice-versa. \n",
    "\n",
    "Make two [choropleth maps](https://en.wikipedia.org/wiki/Choropleth_map) of the county-averages for these two variables. \n",
    "\n",
    "**Hint: you will need to use a keyword called \"nodata\" to correctly do the calculation**\n",
    "\n",
    "> **Extra Credit**: ( 1 point)\n",
    ">    * Read in the PRISM annual precipitation raster for 2017 and calculate the county-level average for precipitation in that year. \n",
    ">    * Calculate the correlation between these annual rainfall measures and the two measures you calculated above at the county level\n"
   ]
  },
  {
   "cell_type": "markdown",
   "metadata": {},
   "source": [
    "### **Question 7 (2 points)** \n",
    "\n",
    "Suppose we want to answer the following question: \n",
    "\n",
    "**What effect did rainfall in 2017 have on conversion of fallowed land to crop land in 2018?**\n",
    "   \n",
    "__Describe how you might answer this question, specifically:__\n",
    "- What data sources you would need in addition to the data you have now.\n",
    "- How you would manipulate the data.\n",
    "- What statistics you would calculate or model you would run on this data.\n",
    "- How you might present your findings.\n",
    "       \n",
    "Finally, __what factors would make it difficult to accurately answer this question? List three and explain why they might make answering the question difficult.__ \n"
   ]
  }
 ],
 "metadata": {
  "kernelspec": {
   "display_name": "Python 3 (ipykernel)",
   "language": "python",
   "name": "python3"
  },
  "language_info": {
   "codemirror_mode": {
    "name": "ipython",
    "version": 3
   },
   "file_extension": ".py",
   "mimetype": "text/x-python",
   "name": "python",
   "nbconvert_exporter": "python",
   "pygments_lexer": "ipython3",
   "version": "3.11.7"
  }
 },
 "nbformat": 4,
 "nbformat_minor": 4
}
