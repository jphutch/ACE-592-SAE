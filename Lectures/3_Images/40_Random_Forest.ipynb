{
 "cells": [
  {
   "cell_type": "markdown",
   "metadata": {
    "slideshow": {
     "slide_type": "slide"
    }
   },
   "source": [
    "# The Cropland Data Layer (CDL) and Random Forest\n",
    "\n",
    "A raster dataset available from the USDA that identifies crops and land uses from satelite imagery.\n",
    "\n",
    "- 30m resolution\n",
    "- Entire U.S.\n",
    "- All states from 2008 till today.\n",
    "\n",
    "A \"census by satelite.\""
   ]
  },
  {
   "cell_type": "markdown",
   "metadata": {
    "slideshow": {
     "slide_type": "slide"
    }
   },
   "source": [
    "### How do they identify land uses?\n",
    "\n",
    "An application of __supervised machine learning!__\n",
    "\n",
    "After extensive data is collected from several satelites (AWiFS and MODIS) and geological survey data (Landsat TM) the task is to use these measurments to do a classification. The goal is to classify a single pixel into one of the categories of land use.\n",
    "\n",
    "The following slides are from [this presentation](https://www.nass.usda.gov/Research_and_Science/Cropland/Method/cropland.pdf) from the USDA."
   ]
  },
  {
   "cell_type": "markdown",
   "metadata": {
    "slideshow": {
     "slide_type": "slide"
    }
   },
   "source": [
    "<center>\n",
    "<img src=\"cdl-inputs.png\" width=\"500\">\n",
    "</center>\n",
    "\n",
    "__So they have the X, where is the y?__\n"
   ]
  },
  {
   "cell_type": "markdown",
   "metadata": {
    "slideshow": {
     "slide_type": "slide"
    }
   },
   "source": [
    "<center>\n",
    "<img src=\"ag-ground.png\" width=\"500\">\n",
    "</center>\n",
    "\n",
    "The Farm Service Agency provides the \"on-the-ground truth\" of which pixel is what kind of crop."
   ]
  },
  {
   "cell_type": "markdown",
   "metadata": {
    "slideshow": {
     "slide_type": "slide"
    }
   },
   "source": [
    "<center>\n",
    "<img src=\"non-ag-ground.png\" width=\"500\">\n",
    "</center>\n",
    "The US Geological Service provides the \"on-the-ground truth\" for non-crop pixels."
   ]
  },
  {
   "cell_type": "markdown",
   "metadata": {
    "slideshow": {
     "slide_type": "slide"
    }
   },
   "source": [
    "### Prediction Works This Way:\n",
    "<center>\n",
    "<img src=\"prediction.png\" width=\"700\">\n",
    "</center>\n",
    "According to their presentation, they hold out 30% of the sample to do training."
   ]
  },
  {
   "cell_type": "markdown",
   "metadata": {
    "slideshow": {
     "slide_type": "slide"
    }
   },
   "source": [
    "### What algorithm do they use?\n",
    "\n",
    "From what I can tell, the CDL uses __decision trees__.\n",
    "\n",
    "How to use decision trees for prediction is a whole class by itself, but let's start with a brief explanation about the  concepts."
   ]
  },
  {
   "cell_type": "markdown",
   "metadata": {
    "slideshow": {
     "slide_type": "slide"
    }
   },
   "source": [
    "### Decision Trees: A Bin Estimator Explanation.\n",
    "\n",
    "Suppose I have three discrete levels of one variable, altitude, while I will call $X$. The levels are $x_1, x_2, x_3$.\n",
    "\n",
    "Now suppose I have a variable that represents whether a pixel is a coffee plant or no. Call it $y=\\{0,1\\}$."
   ]
  },
  {
   "cell_type": "markdown",
   "metadata": {
    "slideshow": {
     "slide_type": "slide"
    }
   },
   "source": [
    "\n",
    "If I were looking at data like this:\n",
    "\n",
    "\n",
    "|  |     |     |          ||\n",
    "|:-|:-|:-|:-|:-|\n",
    "|X   |$x_1$  |$x_2$  |$x_3$  |$x_1$|  \n",
    "|y   | 0     | 0     | 1     | 0     |\n",
    "\n",
    "What might we conclude about using $X$ to predict $y$?"
   ]
  },
  {
   "cell_type": "markdown",
   "metadata": {
    "slideshow": {
     "slide_type": "slide"
    }
   },
   "source": [
    "Now suppose we have more data:\n",
    "\n",
    "|  |     |     |          ||||\n",
    "|:-|:-|:-|:-|:-|:-|:-|\n",
    "|X   |$x_1$  |$x_2$  |$x_3$  |$x_1$|$x_2$| $x_3$|  \n",
    "|y   | 0     | 0     | 1     | 0     | 1 | 1|\n",
    "\n",
    "\n",
    "How has it changed?"
   ]
  },
  {
   "cell_type": "markdown",
   "metadata": {
    "slideshow": {
     "slide_type": "slide"
    }
   },
   "source": [
    "It looks like now the relationship is not so clear. Coffee is sometimes grown at $x_3$ and sometimes not...\n",
    "\n",
    "So to understand it better, I might try including another variable $Z$.\n",
    "\n",
    "|  |     |     |          ||||\n",
    "|:-|:-|:-|:-|:-|:-|:-|\n",
    "| Z  |$z_1$  |$z_1$  |$z_1$  |$z_2$|$z_2$| $z_2$|  \n",
    "|X   |$x_1$  |$x_2$  |$x_3$  |$x_1$|$x_2$| $x_3$|  \n",
    "|y   | 0     | 0     | 1     | 0     | 1 | 1|\n",
    "\n",
    "\n",
    "Now how has our view changed?"
   ]
  },
  {
   "cell_type": "markdown",
   "metadata": {
    "slideshow": {
     "slide_type": "slide"
    }
   },
   "source": [
    "So to make a good predictor of $y$, we could essentially just start splitting things into bins.\n",
    "\n",
    "For example:\n",
    "\n",
    "$z_1$ or $z_2$?\n",
    "- if $z_1$, \n",
    "    + is $x\\neq x_3$? then $y=0$\n",
    "    + is $x=x_3$? then $y=1$\n",
    "- if $z_2$\n",
    "    + is $x=x_1$? then $y=0$\n",
    "    + is $x \\neq x_1$? then $y=1$\n",
    "        \n",
    "This would be a perfectly acceptable estimator of $y$, and is in fact a __decision tree estimator__."
   ]
  },
  {
   "cell_type": "markdown",
   "metadata": {
    "slideshow": {
     "slide_type": "slide"
    }
   },
   "source": [
    "#### An example algorithm:\n",
    "- Make an initial split, which produces \"leaves.\"\n",
    "- Is the value of the dependent variable all one value?\n",
    "    - if yes, end that leaf.\n",
    "    - if no, do another split.\n",
    "- Continue until a certain condition is met or the algorithm perfectly predicts.\n",
    "\n",
    "__What may be the problem with an algorithm that perfectly predicts?__"
   ]
  },
  {
   "cell_type": "markdown",
   "metadata": {
    "slideshow": {
     "slide_type": "slide"
    }
   },
   "source": [
    "__That algorithm is probably overfitting the data__.\n",
    "\n",
    "For example, it may be coffee plants in a certain area are grown with specific conditions. The algorithm might mistakenly then identify __anything__ grown in those conditions as a coffee plant. Thus the algorithm \"overfits\" the data by making its identification too specific to the data it has.\n",
    "\n",
    "This is why we do K-fold cross validation, for example."
   ]
  },
  {
   "cell_type": "markdown",
   "metadata": {
    "slideshow": {
     "slide_type": "slide"
    }
   },
   "source": [
    "<center>\n",
    "<img src=\"decision_tree_diagram.png\" width=\"600\">\n",
    "</center>\n",
    "    \n",
    "\n",
    "[From this article](https://towardsdatascience.com/decision-tree-intuition-from-concept-to-application-530744294bb6), which is cited in [this presentation](https://docs.google.com/presentation/d/1AB2Adsf0akogIisth58prYRrLXzBYshBkLYvZUqnlhk/edit#slide=id.g75470aa6df_0_0)"
   ]
  },
  {
   "cell_type": "markdown",
   "metadata": {
    "slideshow": {
     "slide_type": "slide"
    }
   },
   "source": [
    "### Decision tree terminology:\n",
    "- Leaf: the final category after splitting.\n",
    "- Splitting: subsetting the target variable based on the features.\n",
    "- Max depth: the maximum depth of the tree.\n",
    "- Node: the decision node at which the split is being made."
   ]
  },
  {
   "cell_type": "markdown",
   "metadata": {
    "slideshow": {
     "slide_type": "slide"
    }
   },
   "source": [
    "#### How does it know when to split?\n",
    "\n",
    "Essentially, its looking for an \"information gain\" from splitting. One metric it can use is __Entropy:__ $ -\\sum^N_i p_i log_2(p_i)$ where there are $N$ labels to predict and $p_i$ is the probability of label $i$. \n",
    "<center>\n",
    "<img src=\"entropy.png\" width=\"400\">\n",
    "</center>\n",
    "\n",
    "[figure source](https://towardsdatascience.com/entropy-how-decision-trees-make-decisions-2946b9c18c8)"
   ]
  },
  {
   "cell_type": "markdown",
   "metadata": {
    "slideshow": {
     "slide_type": "slide"
    }
   },
   "source": [
    "Entropy is highest the more mixed a set of targets is. If the probability were always 1, then the entropy score would be zero (as it would be if the probability were always zero).\n",
    "\n",
    "Thus if our leaves are more \"ordered\" after a split, we made an __entropy gain__. An entropy gain is essentially: $Ent(y) - Ent(y|x)$ where $E$ is a measure of entropy.\n",
    "\n",
    "__The analog for a continuous $y$ would be mean squared error (MSE)__"
   ]
  },
  {
   "cell_type": "markdown",
   "metadata": {
    "slideshow": {
     "slide_type": "slide"
    }
   },
   "source": [
    "### Random Forest\n",
    "Recall that to find information gains the algorithm is just splitting features until it finds something. What if it splits the wrong way? How can we correct this?\n",
    "\n",
    "Since one decision tree could make errors, often times the predictions of several trees are averaged together to make a __random forest__. Since we are randomly splitting, the trees are arguably __uncorrelated__. It ends up working a lot like a bootstrap estimator.\n",
    "\n",
    "Also will stop it from __overfitting__ too much.\n",
    "\n",
    "Other methods for combining trees are __boosting__ and __ensembling__."
   ]
  },
  {
   "cell_type": "markdown",
   "metadata": {
    "slideshow": {
     "slide_type": "slide"
    }
   },
   "source": [
    "An example from [this link](https://blog.hyperiondev.com/index.php/2019/02/18/machine-learning/) where each image contains a number, specifically numbers from street signs. The data set is the [Street View House Numbers dataset](http://ufldl.stanford.edu/housenumbers/) and is managed by Stanford."
   ]
  },
  {
   "cell_type": "code",
   "execution_count": 4,
   "metadata": {
    "slideshow": {
     "slide_type": "-"
    }
   },
   "outputs": [
    {
     "name": "stdout",
     "output_type": "stream",
     "text": [
      "[4]\n"
     ]
    },
    {
     "data": {
      "image/png": "[encoded data removed]",
      "text/plain": [
       "<Figure size 640x480 with 1 Axes>"
      ]
     },
     "metadata": {},
     "output_type": "display_data"
    }
   ],
   "source": [
    "import scipy.io\n",
    "import numpy as np\n",
    "import matplotlib.pyplot as plt\n",
    "\n",
    "data_dir=\"C:/Users/jhtchns2/Box/ACE_592_SAE/Class_Examples/2_Images/\"\n",
    "\n",
    "# \n",
    "train_data = scipy.io.loadmat(data_dir + 'train_32x32.mat')\n",
    "# \n",
    "X = train_data['X']\n",
    "y = train_data['y']\n",
    "# \n",
    "img_index = 26\n",
    "plt.imshow(X[:,:,:,img_index])\n",
    "# \n",
    "print(y[img_index])"
   ]
  },
  {
   "cell_type": "code",
   "execution_count": 5,
   "metadata": {},
   "outputs": [
    {
     "name": "stdout",
     "output_type": "stream",
     "text": [
      "(32, 32, 3, 73257)\n"
     ]
    }
   ],
   "source": [
    "print(X.shape)"
   ]
  },
  {
   "cell_type": "markdown",
   "metadata": {
    "slideshow": {
     "slide_type": "slide"
    }
   },
   "source": [
    "So these are small images (32x32) with RGB chanels. There are 73k of them in this dataset.\n",
    "\n",
    "This size will not work for the Random Forest algorithm, as we need a 2-dimensional array instead."
   ]
  },
  {
   "cell_type": "code",
   "execution_count": 6,
   "metadata": {
    "slideshow": {
     "slide_type": "slide"
    }
   },
   "outputs": [],
   "source": [
    "# The arguments of reshape are:\n",
    "#\n",
    "#\n",
    "X_re = X.reshape(X.shape[0]*X.shape[1]*X.shape[2],X.shape[3]).T\n",
    "#\n",
    "y_re = y.reshape(y.shape[0],)"
   ]
  },
  {
   "cell_type": "code",
   "execution_count": 7,
   "metadata": {
    "slideshow": {
     "slide_type": "-"
    }
   },
   "outputs": [
    {
     "data": {
      "text/plain": [
       "(73257, 3072)"
      ]
     },
     "execution_count": 7,
     "metadata": {},
     "output_type": "execute_result"
    }
   ],
   "source": [
    "X_re.shape"
   ]
  },
  {
   "cell_type": "markdown",
   "metadata": {
    "slideshow": {
     "slide_type": "-"
    }
   },
   "source": [
    "__What are the features now?__"
   ]
  },
  {
   "cell_type": "markdown",
   "metadata": {
    "slideshow": {
     "slide_type": "slide"
    }
   },
   "source": [
    "Technically every possible pixel of the image (in each band) is its own feature. It does not seem intuitive that this would work..."
   ]
  },
  {
   "cell_type": "code",
   "execution_count": 8,
   "metadata": {
    "slideshow": {
     "slide_type": "-"
    }
   },
   "outputs": [],
   "source": [
    "from sklearn.ensemble import RandomForestClassifier\n",
    "clf = RandomForestClassifier(n_estimators=10) # Giving it 10 trees, \n",
    "                                                   # which is one of the hyperparameters we can use."
   ]
  },
  {
   "cell_type": "markdown",
   "metadata": {
    "slideshow": {
     "slide_type": "slide"
    }
   },
   "source": [
    "Let's now do the split that the CDL uses: 30% test data and 70% training data."
   ]
  },
  {
   "cell_type": "code",
   "execution_count": 9,
   "metadata": {
    "slideshow": {
     "slide_type": "-"
    }
   },
   "outputs": [
    {
     "data": {
      "text/html": [
       "<style>#sk-container-id-1 {color: black;}#sk-container-id-1 pre{padding: 0;}#sk-container-id-1 div.sk-toggleable {background-color: white;}#sk-container-id-1 label.sk-toggleable__label {cursor: pointer;display: block;width: 100%;margin-bottom: 0;padding: 0.3em;box-sizing: border-box;text-align: center;}#sk-container-id-1 label.sk-toggleable__label-arrow:before {content: \"▸\";float: left;margin-right: 0.25em;color: #696969;}#sk-container-id-1 label.sk-toggleable__label-arrow:hover:before {color: black;}#sk-container-id-1 div.sk-estimator:hover label.sk-toggleable__label-arrow:before {color: black;}#sk-container-id-1 div.sk-toggleable__content {max-height: 0;max-width: 0;overflow: hidden;text-align: left;background-color: #f0f8ff;}#sk-container-id-1 div.sk-toggleable__content pre {margin: 0.2em;color: black;border-radius: 0.25em;background-color: #f0f8ff;}#sk-container-id-1 input.sk-toggleable__control:checked~div.sk-toggleable__content {max-height: 200px;max-width: 100%;overflow: auto;}#sk-container-id-1 input.sk-toggleable__control:checked~label.sk-toggleable__label-arrow:before {content: \"▾\";}#sk-container-id-1 div.sk-estimator input.sk-toggleable__control:checked~label.sk-toggleable__label {background-color: #d4ebff;}#sk-container-id-1 div.sk-label input.sk-toggleable__control:checked~label.sk-toggleable__label {background-color: #d4ebff;}#sk-container-id-1 input.sk-hidden--visually {border: 0;clip: rect(1px 1px 1px 1px);clip: rect(1px, 1px, 1px, 1px);height: 1px;margin: -1px;overflow: hidden;padding: 0;position: absolute;width: 1px;}#sk-container-id-1 div.sk-estimator {font-family: monospace;background-color: #f0f8ff;border: 1px dotted black;border-radius: 0.25em;box-sizing: border-box;margin-bottom: 0.5em;}#sk-container-id-1 div.sk-estimator:hover {background-color: #d4ebff;}#sk-container-id-1 div.sk-parallel-item::after {content: \"\";width: 100%;border-bottom: 1px solid gray;flex-grow: 1;}#sk-container-id-1 div.sk-label:hover label.sk-toggleable__label {background-color: #d4ebff;}#sk-container-id-1 div.sk-serial::before {content: \"\";position: absolute;border-left: 1px solid gray;box-sizing: border-box;top: 0;bottom: 0;left: 50%;z-index: 0;}#sk-container-id-1 div.sk-serial {display: flex;flex-direction: column;align-items: center;background-color: white;padding-right: 0.2em;padding-left: 0.2em;position: relative;}#sk-container-id-1 div.sk-item {position: relative;z-index: 1;}#sk-container-id-1 div.sk-parallel {display: flex;align-items: stretch;justify-content: center;background-color: white;position: relative;}#sk-container-id-1 div.sk-item::before, #sk-container-id-1 div.sk-parallel-item::before {content: \"\";position: absolute;border-left: 1px solid gray;box-sizing: border-box;top: 0;bottom: 0;left: 50%;z-index: -1;}#sk-container-id-1 div.sk-parallel-item {display: flex;flex-direction: column;z-index: 1;position: relative;background-color: white;}#sk-container-id-1 div.sk-parallel-item:first-child::after {align-self: flex-end;width: 50%;}#sk-container-id-1 div.sk-parallel-item:last-child::after {align-self: flex-start;width: 50%;}#sk-container-id-1 div.sk-parallel-item:only-child::after {width: 0;}#sk-container-id-1 div.sk-dashed-wrapped {border: 1px dashed gray;margin: 0 0.4em 0.5em 0.4em;box-sizing: border-box;padding-bottom: 0.4em;background-color: white;}#sk-container-id-1 div.sk-label label {font-family: monospace;font-weight: bold;display: inline-block;line-height: 1.2em;}#sk-container-id-1 div.sk-label-container {text-align: center;}#sk-container-id-1 div.sk-container {/* jupyter's `normalize.less` sets `[hidden] { display: none; }` but bootstrap.min.css set `[hidden] { display: none !important; }` so we also need the `!important` here to be able to override the default hidden behavior on the sphinx rendered scikit-learn.org. See: https://github.com/scikit-learn/scikit-learn/issues/21755 */display: inline-block !important;position: relative;}#sk-container-id-1 div.sk-text-repr-fallback {display: none;}</style><div id=\"sk-container-id-1\" class=\"sk-top-container\"><div class=\"sk-text-repr-fallback\"><pre>RandomForestClassifier(n_estimators=10)</pre><b>In a Jupyter environment, please rerun this cell to show the HTML representation or trust the notebook. <br />On GitHub, the HTML representation is unable to render, please try loading this page with nbviewer.org.</b></div><div class=\"sk-container\" hidden><div class=\"sk-item\"><div class=\"sk-estimator sk-toggleable\"><input class=\"sk-toggleable__control sk-hidden--visually\" id=\"sk-estimator-id-1\" type=\"checkbox\" checked><label for=\"sk-estimator-id-1\" class=\"sk-toggleable__label sk-toggleable__label-arrow\">RandomForestClassifier</label><div class=\"sk-toggleable__content\"><pre>RandomForestClassifier(n_estimators=10)</pre></div></div></div></div></div>"
      ],
      "text/plain": [
       "RandomForestClassifier(n_estimators=10)"
      ]
     },
     "execution_count": 9,
     "metadata": {},
     "output_type": "execute_result"
    }
   ],
   "source": [
    "from sklearn.model_selection import train_test_split\n",
    "#\n",
    "X_train, X_test, y_train, y_test = train_test_split(X_re, y_re, #\n",
    "                                                    test_size=0.3, # \n",
    "                                                    random_state=42) #\n",
    "#\n",
    "clf.fit(X_train, y_train)"
   ]
  },
  {
   "cell_type": "code",
   "execution_count": 11,
   "metadata": {
    "slideshow": {
     "slide_type": "slide"
    }
   },
   "outputs": [
    {
     "name": "stdout",
     "output_type": "stream",
     "text": [
      "Accuracy: 0.5626080626080626\n"
     ]
    }
   ],
   "source": [
    "from sklearn.metrics import accuracy_score\n",
    "#\n",
    "preds = clf.predict(X_test)\n",
    "#\n",
    "print(\"Accuracy:\", accuracy_score(y_test,preds))"
   ]
  },
  {
   "cell_type": "markdown",
   "metadata": {
    "slideshow": {
     "slide_type": "-"
    }
   },
   "source": [
    "Not bad! But what about different amounts of trees?"
   ]
  },
  {
   "cell_type": "code",
   "execution_count": 12,
   "metadata": {
    "slideshow": {
     "slide_type": "slide"
    }
   },
   "outputs": [],
   "source": [
    "def tree_test(number_of_trees):\n",
    "    #\n",
    "    clf = RandomForestClassifier(n_estimators=number_of_trees)\n",
    "    #\n",
    "    X_train, X_test, y_train, y_test = train_test_split(X_re, y_re, test_size=0.3, random_state=42)\n",
    "    #\n",
    "    clf.fit(X_train, y_train)\n",
    "    #\n",
    "    preds = clf.predict(X_test)\n",
    "    #\n",
    "    return accuracy_score(y_test,preds)"
   ]
  },
  {
   "cell_type": "code",
   "execution_count": null,
   "metadata": {
    "slideshow": {
     "slide_type": "-"
    }
   },
   "outputs": [],
   "source": [
    "#\n",
    "tree_grid = np.arange(1,111,10)\n",
    "#\n",
    "vals = [tree_test(x) for x in tree_grid]"
   ]
  },
  {
   "cell_type": "markdown",
   "metadata": {
    "slideshow": {
     "slide_type": "slide"
    }
   },
   "source": [
    "### The \"Elbow Rule\""
   ]
  },
  {
   "cell_type": "code",
   "execution_count": null,
   "metadata": {
    "slideshow": {
     "slide_type": "-"
    }
   },
   "outputs": [],
   "source": [
    "#\n",
    "plt.plot(tree_grid,vals)\n",
    "plt.ylabel(\"Accuracy\")\n",
    "plt.xlabel(\"Number of Trees\")"
   ]
  },
  {
   "cell_type": "markdown",
   "metadata": {
    "slideshow": {
     "slide_type": "-"
    }
   },
   "source": [
    "Which value should we use?"
   ]
  },
  {
   "cell_type": "markdown",
   "metadata": {
    "slideshow": {
     "slide_type": "slide"
    }
   },
   "source": [
    "The __\"Elbow Rule\"__ is an informal heuristic for choosing hyperparameters.\n",
    "\n",
    "Choose the value at which your marginal rate of improvement starts to approach zero. Usually it doesn't go back down, so just pick the point where it starts to level off.\n",
    "\n",
    "### What are some ways I can improve the prediction even more?"
   ]
  },
  {
   "cell_type": "markdown",
   "metadata": {
    "slideshow": {
     "slide_type": "slide"
    }
   },
   "source": [
    "- Train it using cross-validation\n",
    "    - In the above example I'm only splitting it once. K-fold cross-validation would split it K times and take the average performance.\n",
    "- Train different hyperparameters\n",
    "    - I'm only doing optimization over one dimension, but I could choose more hyper parameters.\n",
    "- __Boost__ instead of __bagging__\n",
    "    - Random forest uses bagging, which is aggregating performance over trees in parallel. Boosting does it sequentially, making each new tree use the residuals of the previous tree."
   ]
  },
  {
   "cell_type": "markdown",
   "metadata": {
    "slideshow": {
     "slide_type": "slide"
    }
   },
   "source": [
    "While the algorithm seems naive, as you can see it can be quite powerful. Some advantages of Random Forest:\n",
    "1. It is __intuitive__, unlike other supervised ML algorithms.\n",
    "    - The mechanics of how it works can be easily understood.\n",
    "2. It is __versatile__, in that it can do classification and regression.\n",
    "    - $y$ can be continuous or discrete.\n",
    "3. It is __fast__, in that it can train on large datasets with lots of features.\n",
    "    - Also easy to parallelize.\n",
    "4. No preprocessing needed (like normalization for example).\n"
   ]
  },
  {
   "cell_type": "markdown",
   "metadata": {
    "slideshow": {
     "slide_type": "slide"
    }
   },
   "source": [
    "Some drawbacks:\n",
    "1. No model interpretation (like most ML algorithms).\n",
    "2. Tends to overfit, meaning make sure you tune hyperparameters.\n",
    "3. Seems to be dumped in favor of neural nets more and more, possibly because:\n",
    "    - Neural nets can handle more types of data.\n",
    "    - Neural nets often outperform most algorithms.\n",
    "    \n",
    "However, it seems like Random Forests in general need less data than neural networks."
   ]
  }
 ],
 "metadata": {
  "celltoolbar": "Slideshow",
  "kernelspec": {
   "display_name": "Python 3 (ipykernel)",
   "language": "python",
   "name": "python3"
  },
  "language_info": {
   "codemirror_mode": {
    "name": "ipython",
    "version": 3
   },
   "file_extension": ".py",
   "mimetype": "text/x-python",
   "name": "python",
   "nbconvert_exporter": "python",
   "pygments_lexer": "ipython3",
   "version": "3.11.7"
  },
  "rise": {
   "height": "80%",
   "transition": "none"
  }
 },
 "nbformat": 4,
 "nbformat_minor": 4
}
