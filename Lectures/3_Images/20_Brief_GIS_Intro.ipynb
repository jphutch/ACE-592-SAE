{
 "cells": [
  {
   "cell_type": "markdown",
   "metadata": {
    "slideshow": {
     "slide_type": "slide"
    }
   },
   "source": [
    "# <center> Spatial Data Types </center>\n",
    "\n",
    "## <center> A Brief Introduction </center>"
   ]
  },
  {
   "cell_type": "markdown",
   "metadata": {
    "slideshow": {
     "slide_type": "slide"
    }
   },
   "source": [
    "## Satelite Images\n",
    "<img src=\"satelite.png\" width=\"600\">\n",
    "\n",
    "Without the text labels, I could just read this in as an image like last class.\n",
    "\n",
    "The issue is, I would be missing information...\n"
   ]
  },
  {
   "cell_type": "markdown",
   "metadata": {
    "slideshow": {
     "slide_type": "slide"
    }
   },
   "source": [
    "__Example__: what if I read in an image from Chicago and one from Champaign? Could I relate them in any way?\n",
    "\n",
    "Numpy arrays are not enough because I need to __reference what I'm seeing with everything else in the world.__\n",
    "\n",
    "How do we solve this \"referencing problem\"? A system! \n",
    "\n",
    "Hence why we have __Coordinate Reference Systems__ (CRS).\n"
   ]
  },
  {
   "cell_type": "markdown",
   "metadata": {
    "slideshow": {
     "slide_type": "slide"
    }
   },
   "source": [
    "## How to Make a Reference System\n",
    "Imagine a world where no maps exist but we have two images of Champaign and Chicago. How would we make a system that allows us to find the distance between them?"
   ]
  },
  {
   "cell_type": "markdown",
   "metadata": {
    "slideshow": {
     "slide_type": "slide"
    }
   },
   "source": [
    "1. Measure the earth.\n",
    "    - We would want to understand the entire planet and what its dimensions are.\n",
    "2. Make a useful approximation of the earth.\n",
    "    - We could mock up a sphere, ellipsoid, or other shape that roughly approximates the earth.\n",
    "3. Project your three-dimensional earth onto a two dimensional surface.\n",
    "    - We use some formula to translate the geographic coordinates to a grid system."
   ]
  },
  {
   "cell_type": "markdown",
   "metadata": {
    "slideshow": {
     "slide_type": "slide"
    }
   },
   "source": [
    "1. Measure the earth.\n",
    "    - Called __geodosy__, the study of the measurement of the earth.\n",
    "2. Make a useful approximation of the earth.\n",
    "    - A three dimensional model results in a __geographic coordinate system__.\n",
    "    - These coordinates are degrees, not distance. A popular measurement is angular distance from a fixed point such as \"latitude\" and \"longitude.\"\n",
    "3. Project your three-dimensional earth onto a two dimensional surface.\n",
    "    - An approximation of 3-dimensions onto 2-dimensions is a __projected coordinate system__."
   ]
  },
  {
   "cell_type": "markdown",
   "metadata": {
    "slideshow": {
     "slide_type": "slide"
    }
   },
   "source": [
    "### Geographic Reference System\n",
    "<center>\n",
    "<img src=\"GRS.png\" width=\"400\">\n",
    "</center>\n",
    "\n",
    "[figure source](https://en.wikipedia.org/wiki/Geographic_coordinate_system#/media/File:ECEF.svg)\n",
    "\n",
    "- With a reference ellipsoid, a coordinate system can simply be angular distance from some reference point.\n"
   ]
  },
  {
   "cell_type": "markdown",
   "metadata": {
    "slideshow": {
     "slide_type": "slide"
    }
   },
   "source": [
    "- __Note__: the Earth is NOT a perfect sphere or ellipsoid. It is instead a lumpy, awkward rock floating through space.\n",
    "- What this means: over large distances a sphere is a good approximation. Over short distances you should get distortions due to the lumpiness of the Earth.\n",
    "- Different reference ellipsoids (called __datums__) can be used for different parts of the earth to correct for this."
   ]
  },
  {
   "cell_type": "markdown",
   "metadata": {
    "slideshow": {
     "slide_type": "slide"
    }
   },
   "source": [
    "<center>\n",
    "<img src=\"GRS_details.png\" width=\"400\">\n",
    "</center>\n",
    "\n",
    "[figure source](https://www.esri.com/arcgis-blog/products/arcgis-pro/mapping/coordinate-systems-difference/)\n",
    "\n",
    "This is the kind of information that goes into a GRS, for example __WGS 1984__ (a very popular one)."
   ]
  },
  {
   "cell_type": "markdown",
   "metadata": {
    "slideshow": {
     "slide_type": "slide"
    }
   },
   "source": [
    "### A way to solve the \"distance problem\"\n",
    "#### Haversine Distance\n",
    "[figure source](https://github.com/DaniilSydorenko/haversine-geolocation)\n",
    "<center>\n",
    "<img src=\"haversine.png\" width=\"400\">\n",
    "</center>\n",
    "\n",
    "- A mathematical approach to calculating distance on a sphere which accepts lat and long.\n",
    "- Assumes a perfect sphere, which works well enough at some distances."
   ]
  },
  {
   "cell_type": "markdown",
   "metadata": {
    "slideshow": {
     "slide_type": "slide"
    }
   },
   "source": [
    "## Projected Reference Systems\n",
    "\n",
    "<center>\n",
    "<img src=\"CRS.png\" width=\"400\">\n",
    "</center>\n",
    "\n",
    "[figure source](https://docs.qgis.org/3.16/en/docs/gentle_gis_introduction/coordinate_reference_systems.html)\n",
    "\n",
    "They are always technically wrong. Three things PRS has to balance:\n",
    "- Angluar conformity\n",
    "- Distance\n",
    "- Area"
   ]
  },
  {
   "cell_type": "markdown",
   "metadata": {
    "slideshow": {
     "slide_type": "slide"
    }
   },
   "source": [
    "### Angular Conformity Preserving\n",
    "The __Mercator Projection__ preserves angles since it was used by Europeans to sail across oceans in the 16th century.\n",
    "<center>\n",
    "<img src=\"mercator.jpg\" width=\"400\">\n",
    "</center>\n"
   ]
  },
  {
   "cell_type": "markdown",
   "metadata": {
    "slideshow": {
     "slide_type": "slide"
    }
   },
   "source": [
    "As a result, it severely distorts the relative sizes of countries that are far away from the equator.\n",
    "\n",
    "<center>\n",
    "<img src=\"mercator-vs-truesize.gif\" width=\"600\">\n",
    "</center>\n"
   ]
  },
  {
   "cell_type": "markdown",
   "metadata": {
    "slideshow": {
     "slide_type": "slide"
    }
   },
   "source": [
    "### Distance Preserving\n",
    "#### Plate-Carree Equidistant Cylindrical\n",
    "\n",
    "This one preserves distances, and has become near universal standard for raster data sets.\n",
    "<center>\n",
    "<img src=\"plateecaree.jpg\" width=\"400\">\n",
    "</center>\n"
   ]
  },
  {
   "cell_type": "markdown",
   "metadata": {
    "slideshow": {
     "slide_type": "slide"
    }
   },
   "source": [
    "### Area Preserving\n",
    "#### Albers Equal Area Conic\n",
    "\n",
    "This one preserves area of objects (important for area calculations and densities). Used by Census Bureau and most Atlas of the US.\n",
    "\n",
    "<center>\n",
    "<img src=\"albers.jpg\" width=\"400\">\n",
    "</center>\n",
    "\n",
    "\n"
   ]
  },
  {
   "cell_type": "markdown",
   "metadata": {
    "slideshow": {
     "slide_type": "slide"
    }
   },
   "source": [
    "### A Compromise\n",
    "#### UTM Zones\n",
    "The Universal Transverse Mercator (UTM) coordinate system is a Mercator projection which can be projected into 60 different zones. The idea is that there are less distortions within its UTM zone.\n",
    "\n",
    "<center>\n",
    "<img src=\"utm_zones.png\" width=\"600\">\n",
    "</center>\n"
   ]
  },
  {
   "cell_type": "markdown",
   "metadata": {
    "slideshow": {
     "slide_type": "slide"
    }
   },
   "source": [
    "## So... who cares?\n",
    "\n",
    "- Since all projections have their own issues, which one you need depends on what you want to do.\n",
    "- For area calculations will want an equal area and for distances want an equal distance projection.\n",
    "\n",
    "__However__, in most applications we end up using the __WGS84__ GRS (EPGS: 4326) which has become a standard GRS for storing the data.\n",
    "\n",
    "When projecting, __Plate-Carree__ PRS (EPSG: 54001) is used for most rastermaps. \n",
    "\n",
    "Google projects all of its maps in __Pseudo-Mercator__ (EPSG: 3857) since 2005, as does Mapbox, OpenStreetMap, and basically every other mapping app. Its now known as \"Web Mercator\" since it is the standard for web apps."
   ]
  },
  {
   "cell_type": "markdown",
   "metadata": {
    "slideshow": {
     "slide_type": "slide"
    }
   },
   "source": [
    "### Common pitfalls:\n",
    "- Trying to find \"distance\" with only a GRS.\n",
    "    - In this case, either project to an equi-distance projection or use haversine distance.\n",
    "- __Using two files that are not the same CRS__.\n",
    "    - A check that needs to be in every workflow is \"are they the same CRS\"?"
   ]
  },
  {
   "cell_type": "markdown",
   "metadata": {
    "slideshow": {
     "slide_type": "slide"
    }
   },
   "source": [
    "## Spatial Data Types\n",
    "- Rasters\n",
    "    - Essentially the pixels of an image that is geo-referenced.\n",
    "    - Attributes: CRS, resolution (e.g. 100 km grid).\n",
    "    - Usually Stored as .tiff\n",
    "\n",
    "- Vectors\n",
    "    - Either points, lines, or polygons made up of vertices.\n",
    "    - Attributes: CRS.\n",
    "    - Usually stored as .shp or .geojson\n"
   ]
  },
  {
   "cell_type": "markdown",
   "metadata": {
    "slideshow": {
     "slide_type": "slide"
    }
   },
   "source": [
    "### Python Packages\n",
    "- Rasters: `rasterio`.\n",
    "- Vectors: `shapely`, `fiona`.\n",
    "- Vector statistics (zonal statistics): `rasterstats`.\n",
    "- Handling spatial data: `geopandas`.\n",
    "\n",
    "Most of these use the packages `gdal` or `osgeo` as dependencies."
   ]
  },
  {
   "cell_type": "markdown",
   "metadata": {
    "slideshow": {
     "slide_type": "slide"
    }
   },
   "source": [
    "### Installing packages\n",
    "<img src=\"gdal_meme.jpeg\">"
   ]
  },
  {
   "cell_type": "markdown",
   "metadata": {
    "slideshow": {
     "slide_type": "slide"
    }
   },
   "source": [
    "### Geospatial package setup in Python\n",
    "\n",
    "These packages tend to depend on older dependencies. The effect of this is that, for example, using newest `numpy` will not allow `geopandas` to work.\n",
    "\n",
    "Typical ways to take care of this problem:\n",
    "- Build packages from source (annoying).\n",
    "- Create a new conda environment and install __geopandas first__.\n",
    "    - This allows it to specifically install the versions it wants to use.\n",
    "\n",
    "I typically have a seperate environment in Python for geospatial work altogether because of this."
   ]
  },
  {
   "cell_type": "markdown",
   "metadata": {
    "slideshow": {
     "slide_type": "slide"
    }
   },
   "source": [
    "## Other Tools for GIS\n",
    "\n",
    "We have barely gone over all the tools we could possibly use in GIS at this point. Here are some things that might be worth looking into:"
   ]
  },
  {
   "cell_type": "markdown",
   "metadata": {
    "slideshow": {
     "slide_type": "slide"
    }
   },
   "source": [
    "### Advanced Topics\n",
    "That we didn't have time for:\n",
    "- Making buffers\n",
    "- Polygonizing rasters\n",
    "- Calculating \"hub distance\"\n",
    "\n",
    "The hope is that with the baseline knowledge you have here you can figure these out on your own."
   ]
  },
  {
   "cell_type": "markdown",
   "metadata": {
    "slideshow": {
     "slide_type": "slide"
    }
   },
   "source": [
    "### Better Plotting Libraries\n",
    "- [plotly](https://plotly.com/python/maps/): very nice and easy to use plotting that can make your geographic plots interactive fairly easily.\n",
    "- [bokeh](https://docs.bokeh.org/en/latest/docs/user_guide/geo.html): similar capabilities to plotly, but not as expansive.\n",
    "\n",
    "Some of these can be deployed to websites to be interactive.\n",
    "\n",
    "__We will return to some of these packages later in the semester__\n"
   ]
  },
  {
   "cell_type": "markdown",
   "metadata": {
    "slideshow": {
     "slide_type": "slide"
    }
   },
   "source": [
    "### Google Maps API\n",
    "Conditional on paying for it, Google Maps has some nice functionality for geolocating or getting directions.\n",
    "\n",
    "It can also calculate things like road distance between points as opposed to straight distance.\n",
    "\n",
    "The problem is that you need to pay for it (though it isn't super expensive)."
   ]
  },
  {
   "cell_type": "markdown",
   "metadata": {
    "slideshow": {
     "slide_type": "slide"
    }
   },
   "source": [
    "### OpenStreetMap\n",
    "The open source version of Google Maps.\n",
    "\n",
    "Has some great functionality for large cities where things are well identified.\n",
    "\n",
    "One of its main features is being able to identify \"amenities\" (restaurants, hospitals, etc.) and also road networks.\n",
    "\n",
    "From my own experience, powerful but it has a steep learning curve."
   ]
  },
  {
   "cell_type": "markdown",
   "metadata": {
    "slideshow": {
     "slide_type": "slide"
    }
   },
   "source": [
    "OpenStreetMap can be accessed using the [Overpass API](https://wiki.openstreetmap.org/wiki/Overpass_API/Language_Guide).\n",
    "\n",
    "One promising way to learn to use this API would be fooling around with [Overpass turbo](https://overpass-turbo.eu/) which can help with construction of queries."
   ]
  },
  {
   "cell_type": "markdown",
   "metadata": {
    "slideshow": {
     "slide_type": "slide"
    }
   },
   "source": [
    "#### OpenStreetMap Example\n",
    "\n",
    "I've extracted the \"bounding box\" for the CU area.\n",
    "\n",
    "I can run a query to find all the tres in the area:\n",
    "\n"
   ]
  },
  {
   "cell_type": "code",
   "execution_count": null,
   "metadata": {
    "slideshow": {
     "slide_type": "-"
    }
   },
   "outputs": [],
   "source": [
    "import overpy\n",
    "import pandas as pd \n",
    "\n",
    "api = overpy.Overpass()\n",
    "r = api.query(\"\"\"\n",
    "node(40.03602, -88.32493, 40.17404, -88.1076)\n",
    "    [natural=tree];\n",
    "out;\n",
    "\"\"\")"
   ]
  },
  {
   "cell_type": "code",
   "execution_count": null,
   "metadata": {
    "slideshow": {
     "slide_type": "slide"
    }
   },
   "outputs": [],
   "source": [
    "[x for x in r.nodes]"
   ]
  },
  {
   "cell_type": "code",
   "execution_count": null,
   "metadata": {},
   "outputs": [],
   "source": [
    "len(r.nodes)"
   ]
  },
  {
   "cell_type": "markdown",
   "metadata": {
    "slideshow": {
     "slide_type": "slide"
    }
   },
   "source": [
    "Each of these nodes is a tree with information:"
   ]
  },
  {
   "cell_type": "code",
   "execution_count": null,
   "metadata": {
    "slideshow": {
     "slide_type": "-"
    }
   },
   "outputs": [],
   "source": [
    "r.nodes[50].tags"
   ]
  },
  {
   "cell_type": "markdown",
   "metadata": {
    "slideshow": {
     "slide_type": "slide"
    }
   },
   "source": [
    "#### Finding Restaurants\n",
    "What about all of the restaurants in the area?"
   ]
  },
  {
   "cell_type": "code",
   "execution_count": null,
   "metadata": {
    "slideshow": {
     "slide_type": "-"
    }
   },
   "outputs": [],
   "source": [
    "r = api.query(\"\"\"\n",
    "node(40.03602, -88.32493, 40.17404, -88.1076)\n",
    "    [\"amenity\"=\"restaurant\"];\n",
    "out;\n",
    "\"\"\")"
   ]
  },
  {
   "cell_type": "markdown",
   "metadata": {
    "slideshow": {
     "slide_type": "slide"
    }
   },
   "source": [
    "Each node looks like this"
   ]
  },
  {
   "cell_type": "code",
   "execution_count": null,
   "metadata": {
    "scrolled": true,
    "slideshow": {
     "slide_type": "-"
    }
   },
   "outputs": [],
   "source": [
    "r.nodes[0]"
   ]
  },
  {
   "cell_type": "markdown",
   "metadata": {
    "slideshow": {
     "slide_type": "-"
    }
   },
   "source": [
    "Each of these nodes has a tag"
   ]
  },
  {
   "cell_type": "code",
   "execution_count": null,
   "metadata": {
    "slideshow": {
     "slide_type": "-"
    }
   },
   "outputs": [],
   "source": [
    "r.nodes[11].tags"
   ]
  },
  {
   "cell_type": "markdown",
   "metadata": {
    "slideshow": {
     "slide_type": "slide"
    }
   },
   "source": [
    "I can make a dataframe from these tags, one row at a time."
   ]
  },
  {
   "cell_type": "code",
   "execution_count": null,
   "metadata": {
    "slideshow": {
     "slide_type": "-"
    }
   },
   "outputs": [],
   "source": [
    "pd.DataFrame(r.nodes[11].tags,index=[0])"
   ]
  },
  {
   "cell_type": "markdown",
   "metadata": {
    "slideshow": {
     "slide_type": "slide"
    }
   },
   "source": [
    "Get a list of these rows with a list comprehension."
   ]
  },
  {
   "cell_type": "code",
   "execution_count": null,
   "metadata": {
    "slideshow": {
     "slide_type": "-"
    }
   },
   "outputs": [],
   "source": [
    "DFs = [pd.DataFrame(r.nodes[x].tags,index=[0]) \\\n",
    "       for x in range(len(r.nodes))]"
   ]
  },
  {
   "cell_type": "markdown",
   "metadata": {
    "slideshow": {
     "slide_type": "-"
    }
   },
   "source": [
    "Now concatenate them together:"
   ]
  },
  {
   "cell_type": "code",
   "execution_count": null,
   "metadata": {
    "slideshow": {
     "slide_type": "-"
    }
   },
   "outputs": [],
   "source": [
    "rest_df = pd.concat(DFs,axis=0)"
   ]
  },
  {
   "cell_type": "code",
   "execution_count": null,
   "metadata": {
    "slideshow": {
     "slide_type": "slide"
    }
   },
   "outputs": [],
   "source": [
    "rest_df"
   ]
  },
  {
   "cell_type": "markdown",
   "metadata": {
    "slideshow": {
     "slide_type": "slide"
    }
   },
   "source": [
    "### What is the most popular cuisine in Chambana?"
   ]
  },
  {
   "cell_type": "code",
   "execution_count": null,
   "metadata": {
    "slideshow": {
     "slide_type": "-"
    }
   },
   "outputs": [],
   "source": [
    "rest_df['cuisine'].value_counts().head()"
   ]
  },
  {
   "cell_type": "code",
   "execution_count": null,
   "metadata": {
    "slideshow": {
     "slide_type": "slide"
    }
   },
   "outputs": [],
   "source": [
    "rest_df[rest_df['cuisine'] == \"mexican\"]"
   ]
  },
  {
   "cell_type": "markdown",
   "metadata": {
    "slideshow": {
     "slide_type": "-"
    }
   },
   "source": [
    "We're missing a few restaurants here."
   ]
  },
  {
   "cell_type": "markdown",
   "metadata": {
    "slideshow": {
     "slide_type": "slide"
    }
   },
   "source": [
    "### What area should we search?"
   ]
  },
  {
   "cell_type": "code",
   "execution_count": null,
   "metadata": {},
   "outputs": [],
   "source": [
    "r = api.query(\"\"\"\n",
    "node(39.5051, 115.92773, 40.19251, 117.08679)\n",
    "    [\"amenity\"=\"restaurant\"];\n",
    "out;\n",
    "\"\"\")"
   ]
  },
  {
   "cell_type": "code",
   "execution_count": null,
   "metadata": {},
   "outputs": [],
   "source": [
    "DFs = [pd.DataFrame(r.nodes[x].tags,index=[0]) \\\n",
    "       for x in range(len(r.nodes))]\n",
    "\n",
    "rest_df = pd.concat(DFs,axis=0)"
   ]
  },
  {
   "cell_type": "code",
   "execution_count": null,
   "metadata": {},
   "outputs": [],
   "source": [
    "rest_df['cuisine'].value_counts().head(10)"
   ]
  }
 ],
 "metadata": {
  "celltoolbar": "Slideshow",
  "kernelspec": {
   "display_name": "Python 3 (ipykernel)",
   "language": "python",
   "name": "python3"
  },
  "language_info": {
   "codemirror_mode": {
    "name": "ipython",
    "version": 3
   },
   "file_extension": ".py",
   "mimetype": "text/x-python",
   "name": "python",
   "nbconvert_exporter": "python",
   "pygments_lexer": "ipython3",
   "version": "3.11.7"
  },
  "rise": {
   "height": "80%",
   "transition": "none"
  }
 },
 "nbformat": 4,
 "nbformat_minor": 4
}
