{
 "cells": [
  {
   "cell_type": "markdown",
   "metadata": {
    "slideshow": {
     "slide_type": "slide"
    }
   },
   "source": [
    "# <center> Spatial Data Types </center>\n",
    "\n",
    "## <center> A Brief Introduction </center>"
   ]
  },
  {
   "cell_type": "markdown",
   "metadata": {
    "slideshow": {
     "slide_type": "slide"
    }
   },
   "source": [
    "## Satelite Images\n",
    "<img src=\"satelite.png\" width=\"600\">\n",
    "\n",
    "Without the text labels, I could just read this in as an image like last class.\n",
    "\n",
    "The issue is, I would be missing information...\n"
   ]
  },
  {
   "cell_type": "markdown",
   "metadata": {
    "slideshow": {
     "slide_type": "slide"
    }
   },
   "source": [
    "__Example__: what if I read in an image from Chicago and one from Champaign? Could I relate them in any way?\n",
    "\n",
    "Numpy arrays are not enough because I need to __reference what I'm seeing with everything else in the world.__\n",
    "\n",
    "How do we solve this \"referencing problem\"? A system! \n",
    "\n",
    "Hence why we have __Coordinate Reference Systems__ (CRS).\n"
   ]
  },
  {
   "cell_type": "markdown",
   "metadata": {
    "slideshow": {
     "slide_type": "slide"
    }
   },
   "source": [
    "## How to Make a Reference System\n",
    "Imagine a world where no maps exist but we have two images of Champaign and Chicago. How would we make a system that allows us to find the distance between them?"
   ]
  },
  {
   "cell_type": "markdown",
   "metadata": {
    "slideshow": {
     "slide_type": "slide"
    }
   },
   "source": [
    "1. Measure the earth.\n",
    "    - We would want to understand the entire planet and what its dimensions are.\n",
    "2. Make a useful approximation of the earth.\n",
    "    - We could mock up a sphere, ellipsoid, or other shape that roughly approximates the earth.\n",
    "3. Project your three-dimensional earth onto a two dimensional surface.\n",
    "    - We use some formula to translate the geographic coordinates to a grid system."
   ]
  },
  {
   "cell_type": "markdown",
   "metadata": {
    "slideshow": {
     "slide_type": "slide"
    }
   },
   "source": [
    "1. Measure the earth.\n",
    "    - Called __geodosy__, the study of the measurement of the earth.\n",
    "2. Make a useful approximation of the earth.\n",
    "    - A three dimensional model results in a __geographic coordinate system__.\n",
    "    - These coordinates are degrees, not distance. A popular measurement is angular distance from a fixed point such as \"latitude\" and \"longitude.\"\n",
    "3. Project your three-dimensional earth onto a two dimensional surface.\n",
    "    - An approximation of 3-dimensions onto 2-dimensions is a __projected coordinate system__."
   ]
  },
  {
   "cell_type": "markdown",
   "metadata": {
    "slideshow": {
     "slide_type": "slide"
    }
   },
   "source": [
    "### Geographic Reference System\n",
    "<center>\n",
    "<img src=\"GRS.png\" width=\"400\">\n",
    "</center>\n",
    "\n",
    "[figure source](https://en.wikipedia.org/wiki/Geographic_coordinate_system#/media/File:ECEF.svg)\n",
    "\n",
    "- With a reference ellipsoid, a coordinate system can simply be angular distance from some reference point.\n"
   ]
  },
  {
   "cell_type": "markdown",
   "metadata": {
    "slideshow": {
     "slide_type": "slide"
    }
   },
   "source": [
    "- __Note__: the Earth is NOT a perfect sphere or ellipsoid. It is instead a lumpy, awkward rock floating through space.\n",
    "- What this means: over large distances a sphere is a good approximation. Over short distances you should get distortions due to the lumpiness of the Earth.\n",
    "- Different reference ellipsoids (called __datums__) can be used for different parts of the earth to correct for this."
   ]
  },
  {
   "cell_type": "markdown",
   "metadata": {
    "slideshow": {
     "slide_type": "slide"
    }
   },
   "source": [
    "<center>\n",
    "<img src=\"GRS_details.png\" width=\"400\">\n",
    "</center>\n",
    "\n",
    "[figure source](https://www.esri.com/arcgis-blog/products/arcgis-pro/mapping/coordinate-systems-difference/)\n",
    "\n",
    "This is the kind of information that goes into a GRS, for example __WGS 1984__ (a very popular one)."
   ]
  },
  {
   "cell_type": "markdown",
   "metadata": {
    "slideshow": {
     "slide_type": "slide"
    }
   },
   "source": [
    "### A way to solve the \"distance problem\"\n",
    "#### Haversine Distance\n",
    "[figure source](https://github.com/DaniilSydorenko/haversine-geolocation)\n",
    "<center>\n",
    "<img src=\"haversine.png\" width=\"400\">\n",
    "</center>\n",
    "\n",
    "- A mathematical approach to calculating distance on a sphere which accepts lat and long.\n",
    "- Assumes a perfect sphere, which works well enough at some distances."
   ]
  },
  {
   "cell_type": "markdown",
   "metadata": {
    "slideshow": {
     "slide_type": "slide"
    }
   },
   "source": [
    "## Projected Reference Systems\n",
    "\n",
    "<center>\n",
    "<img src=\"CRS.png\" width=\"400\">\n",
    "</center>\n",
    "\n",
    "[figure source](https://docs.qgis.org/3.16/en/docs/gentle_gis_introduction/coordinate_reference_systems.html)\n",
    "\n",
    "They are always technically wrong. Three things PRS has to balance:\n",
    "- Angluar conformity\n",
    "- Distance\n",
    "- Area"
   ]
  },
  {
   "cell_type": "markdown",
   "metadata": {
    "slideshow": {
     "slide_type": "slide"
    }
   },
   "source": [
    "### Angular Conformity Preserving\n",
    "The __Mercator Projection__ preserves angles since it was used by Europeans to sail across oceans in the 16th century.\n",
    "<center>\n",
    "<img src=\"mercator.jpg\" width=\"400\">\n",
    "</center>\n"
   ]
  },
  {
   "cell_type": "markdown",
   "metadata": {
    "slideshow": {
     "slide_type": "slide"
    }
   },
   "source": [
    "As a result, it severely distorts the relative sizes of countries that are far away from the equator.\n",
    "\n",
    "<center>\n",
    "<img src=\"mercator-vs-truesize.gif\" width=\"600\">\n",
    "</center>\n"
   ]
  },
  {
   "cell_type": "markdown",
   "metadata": {
    "slideshow": {
     "slide_type": "slide"
    }
   },
   "source": [
    "### Distance Preserving\n",
    "#### Plate-Carree Equidistant Cylindrical\n",
    "\n",
    "This one preserves distances, and has become near universal standard for raster data sets.\n",
    "<center>\n",
    "<img src=\"plateecaree.jpg\" width=\"400\">\n",
    "</center>\n"
   ]
  },
  {
   "cell_type": "markdown",
   "metadata": {
    "slideshow": {
     "slide_type": "slide"
    }
   },
   "source": [
    "### Area Preserving\n",
    "#### Albers Equal Area Conic\n",
    "\n",
    "This one preserves area of objects (important for area calculations and densities). Used by Census Bureau and most Atlas of the US.\n",
    "\n",
    "<center>\n",
    "<img src=\"albers.jpg\" width=\"400\">\n",
    "</center>\n",
    "\n",
    "\n"
   ]
  },
  {
   "cell_type": "markdown",
   "metadata": {
    "slideshow": {
     "slide_type": "slide"
    }
   },
   "source": [
    "### A Compromise\n",
    "#### UTM Zones\n",
    "The Universal Transverse Mercator (UTM) coordinate system is a Mercator projection which can be projected into 60 different zones. The idea is that there are less distortions within its UTM zone.\n",
    "\n",
    "<center>\n",
    "<img src=\"utm_zones.png\" width=\"600\">\n",
    "</center>\n"
   ]
  },
  {
   "cell_type": "markdown",
   "metadata": {
    "slideshow": {
     "slide_type": "slide"
    }
   },
   "source": [
    "## So... who cares?\n",
    "\n",
    "- Since all projections have their own issues, which one you need depends on what you want to do.\n",
    "- For area calculations will want an equal area and for distances want an equal distance projection.\n",
    "\n",
    "__However__, in most applications we end up using the __WGS84__ GRS (EPGS: 4326) which has become a standard GRS for storing the data.\n",
    "\n",
    "When projecting, __Plate-Carree__ PRS (EPSG: 54001) is used for most rastermaps. \n",
    "\n",
    "Google projects all of its maps in __Pseudo-Mercator__ (EPSG: 3857) since 2005, as does Mapbox, OpenStreetMap, and basically every other mapping app. Its now known as \"Web Mercator\" since it is the standard for web apps."
   ]
  },
  {
   "cell_type": "markdown",
   "metadata": {
    "slideshow": {
     "slide_type": "slide"
    }
   },
   "source": [
    "### Common pitfalls:\n",
    "- Trying to find \"distance\" with only a GRS.\n",
    "    - In this case, either project to an equi-distance projection or use haversine distance.\n",
    "- __Using two files that are not the same CRS__.\n",
    "    - A check that needs to be in every workflow is \"are they the same CRS\"?"
   ]
  },
  {
   "cell_type": "markdown",
   "metadata": {
    "slideshow": {
     "slide_type": "slide"
    }
   },
   "source": [
    "## Spatial Data Types\n",
    "- Rasters\n",
    "    - Essentially the pixels of an image that is geo-referenced.\n",
    "    - Attributes: CRS, resolution (e.g. 100 km grid).\n",
    "    - Usually Stored as .tiff\n",
    "\n",
    "- Vectors\n",
    "    - Either points, lines, or polygons made up of vertices.\n",
    "    - Attributes: CRS.\n",
    "    - Usually stored as .shp or .geojson\n"
   ]
  },
  {
   "cell_type": "markdown",
   "metadata": {
    "slideshow": {
     "slide_type": "slide"
    }
   },
   "source": [
    "### Python Packages\n",
    "- Rasters: `rasterio`.\n",
    "- Vectors: `shapely`, `fiona`.\n",
    "- Vector statistics (zonal statistics): `rasterstats`.\n",
    "- Handling spatial data: `geopandas`.\n",
    "\n",
    "Most of these use the packages `gdal` or `osgeo` as dependencies."
   ]
  },
  {
   "cell_type": "markdown",
   "metadata": {
    "slideshow": {
     "slide_type": "slide"
    }
   },
   "source": [
    "### Installing packages\n",
    "<img src=\"gdal_meme.jpeg\">"
   ]
  },
  {
   "cell_type": "markdown",
   "metadata": {
    "slideshow": {
     "slide_type": "slide"
    }
   },
   "source": [
    "### Geospatial package setup in Python\n",
    "\n",
    "These packages tend to depend on older dependencies. The effect of this is that, for example, using newest `numpy` will not allow `geopandas` to work.\n",
    "\n",
    "Typical ways to take care of this problem:\n",
    "- Build packages from source (annoying).\n",
    "- Create a new conda environment and install __geopandas first__.\n",
    "    - This allows it to specifically install the versions it wants to use.\n",
    "\n",
    "I typically have a seperate environment in Python for geospatial work altogether because of this."
   ]
  },
  {
   "cell_type": "markdown",
   "metadata": {
    "slideshow": {
     "slide_type": "slide"
    }
   },
   "source": [
    "## Other Tools for GIS\n",
    "\n",
    "We have barely gone over all the tools we could possibly use in GIS at this point. Here are some things that might be worth looking into:"
   ]
  },
  {
   "cell_type": "markdown",
   "metadata": {
    "slideshow": {
     "slide_type": "slide"
    }
   },
   "source": [
    "### Advanced Topics\n",
    "That we didn't have time for:\n",
    "- Making buffers\n",
    "- Polygonizing rasters\n",
    "- Calculating \"hub distance\"\n",
    "\n",
    "The hope is that with the baseline knowledge you have here you can figure these out on your own."
   ]
  },
  {
   "cell_type": "markdown",
   "metadata": {
    "slideshow": {
     "slide_type": "slide"
    }
   },
   "source": [
    "### Better Plotting Libraries\n",
    "- [plotly](https://plotly.com/python/maps/): very nice and easy to use plotting that can make your geographic plots interactive fairly easily.\n",
    "- [bokeh](https://docs.bokeh.org/en/latest/docs/user_guide/geo.html): similar capabilities to plotly, but not as expansive.\n",
    "\n",
    "Some of these can be deployed to websites to be interactive.\n",
    "\n",
    "__We will return to some of these packages later in the semester__\n"
   ]
  },
  {
   "cell_type": "markdown",
   "metadata": {
    "slideshow": {
     "slide_type": "slide"
    }
   },
   "source": [
    "### Google Maps API\n",
    "Conditional on paying for it, Google Maps has some nice functionality for geolocating or getting directions.\n",
    "\n",
    "It can also calculate things like road distance between points as opposed to straight distance.\n",
    "\n",
    "The problem is that you need to pay for it (though it isn't super expensive)."
   ]
  },
  {
   "cell_type": "markdown",
   "metadata": {
    "slideshow": {
     "slide_type": "slide"
    }
   },
   "source": [
    "### OpenStreetMap\n",
    "The open source version of Google Maps.\n",
    "\n",
    "Has some great functionality for large cities where things are well identified.\n",
    "\n",
    "One of its main features is being able to identify \"amenities\" (restaurants, hospitals, etc.) and also road networks.\n",
    "\n",
    "From my own experience, powerful but it has a steep learning curve."
   ]
  },
  {
   "cell_type": "markdown",
   "metadata": {
    "slideshow": {
     "slide_type": "slide"
    }
   },
   "source": [
    "OpenStreetMap can be accessed using the [Overpass API](https://wiki.openstreetmap.org/wiki/Overpass_API/Language_Guide).\n",
    "\n",
    "One promising way to learn to use this API would be fooling around with [Overpass turbo](https://overpass-turbo.eu/) which can help with construction of queries."
   ]
  },
  {
   "cell_type": "markdown",
   "metadata": {
    "slideshow": {
     "slide_type": "slide"
    }
   },
   "source": [
    "#### OpenStreetMap Example\n",
    "\n",
    "I've extracted the \"bounding box\" for the CU area.\n",
    "\n",
    "I can run a query to find all the tres in the area:\n",
    "\n"
   ]
  },
  {
   "cell_type": "code",
   "execution_count": 1,
   "metadata": {
    "slideshow": {
     "slide_type": "-"
    }
   },
   "outputs": [],
   "source": [
    "import overpy\n",
    "import pandas as pd \n",
    "\n",
    "api = overpy.Overpass()\n",
    "r = api.query(\"\"\"\n",
    "node(40.03602, -88.32493, 40.17404, -88.1076)\n",
    "    [natural=tree];\n",
    "out;\n",
    "\"\"\")"
   ]
  },
  {
   "cell_type": "code",
   "execution_count": 2,
   "metadata": {
    "slideshow": {
     "slide_type": "slide"
    }
   },
   "outputs": [
    {
     "data": {
      "text/plain": [
       "[<overpy.Node id=38040799 lat=40.0908484 lon=-88.2732766>,\n",
       " <overpy.Node id=3603476177 lat=40.0933996 lon=-88.3187209>,\n",
       " <overpy.Node id=3624181219 lat=40.1320683 lon=-88.2528260>,\n",
       " <overpy.Node id=3624181220 lat=40.1320689 lon=-88.2680456>,\n",
       " <overpy.Node id=3624181221 lat=40.1320811 lon=-88.2660013>,\n",
       " <overpy.Node id=3624181222 lat=40.1320840 lon=-88.2716764>,\n",
       " <overpy.Node id=3624181223 lat=40.1320872 lon=-88.2685168>,\n",
       " <overpy.Node id=3624181224 lat=40.1320938 lon=-88.2756467>,\n",
       " <overpy.Node id=3624181225 lat=40.1321066 lon=-88.2713504>,\n",
       " <overpy.Node id=3624181226 lat=40.1321081 lon=-88.2978471>,\n",
       " <overpy.Node id=3624181227 lat=40.1321097 lon=-88.2414131>,\n",
       " <overpy.Node id=3624181228 lat=40.1321115 lon=-88.2414536>,\n",
       " <overpy.Node id=3624181229 lat=40.1321245 lon=-88.2661704>,\n",
       " <overpy.Node id=3624181230 lat=40.1321361 lon=-88.2981694>,\n",
       " <overpy.Node id=3624181231 lat=40.1321362 lon=-88.2983646>,\n",
       " <overpy.Node id=3624181232 lat=40.1321385 lon=-88.2682098>,\n",
       " <overpy.Node id=3624181233 lat=40.1321412 lon=-88.2760675>,\n",
       " <overpy.Node id=3624181234 lat=40.1321578 lon=-88.2682752>,\n",
       " <overpy.Node id=3624181235 lat=40.1321663 lon=-88.2635525>,\n",
       " <overpy.Node id=3624181236 lat=40.1321716 lon=-88.2528254>,\n",
       " <overpy.Node id=3624181237 lat=40.1321780 lon=-88.2663195>,\n",
       " <overpy.Node id=3624181238 lat=40.1321821 lon=-88.2715449>,\n",
       " <overpy.Node id=3624181239 lat=40.1321864 lon=-88.2687447>,\n",
       " <overpy.Node id=3624181240 lat=40.1321982 lon=-88.2659575>,\n",
       " <overpy.Node id=3624181241 lat=40.1322035 lon=-88.2663908>,\n",
       " <overpy.Node id=3624181242 lat=40.1322050 lon=-88.2544442>,\n",
       " <overpy.Node id=3624181243 lat=40.1322076 lon=-88.2984826>,\n",
       " <overpy.Node id=3624181244 lat=40.1322081 lon=-88.2684177>,\n",
       " <overpy.Node id=3624181245 lat=40.1322090 lon=-88.2741949>,\n",
       " <overpy.Node id=3624181246 lat=40.1322121 lon=-88.2477053>,\n",
       " <overpy.Node id=3624181247 lat=40.1322153 lon=-88.2418983>,\n",
       " <overpy.Node id=3624181248 lat=40.1322239 lon=-88.2418623>,\n",
       " <overpy.Node id=3624181249 lat=40.1322245 lon=-88.2965284>,\n",
       " <overpy.Node id=3624181250 lat=40.1322261 lon=-88.2758852>,\n",
       " <overpy.Node id=3624181251 lat=40.1322337 lon=-88.2981081>,\n",
       " <overpy.Node id=3624181252 lat=40.1322390 lon=-88.2717022>,\n",
       " <overpy.Node id=3624181253 lat=40.1322392 lon=-88.2758841>,\n",
       " <overpy.Node id=3624181254 lat=40.1322519 lon=-88.2685434>,\n",
       " <overpy.Node id=3624181255 lat=40.1322548 lon=-88.2758840>,\n",
       " <overpy.Node id=3624181256 lat=40.1322586 lon=-88.2689425>,\n",
       " <overpy.Node id=3624181257 lat=40.1322688 lon=-88.2758874>,\n",
       " <overpy.Node id=3624181258 lat=40.1322745 lon=-88.2743800>,\n",
       " <overpy.Node id=3624181259 lat=40.1322748 lon=-88.2721929>,\n",
       " <overpy.Node id=3624181260 lat=40.1322792 lon=-88.2758885>,\n",
       " <overpy.Node id=3624181261 lat=40.1322875 lon=-88.2760590>,\n",
       " <overpy.Node id=3624181262 lat=40.1322876 lon=-88.2666261>,\n",
       " <overpy.Node id=3624181263 lat=40.1322883 lon=-88.2690934>,\n",
       " <overpy.Node id=3624181264 lat=40.1322889 lon=-88.2963945>,\n",
       " <overpy.Node id=3624181265 lat=40.1322923 lon=-88.2758885>,\n",
       " <overpy.Node id=3624181266 lat=40.1322947 lon=-88.2983804>,\n",
       " <overpy.Node id=3624181267 lat=40.1322989 lon=-88.2464358>,\n",
       " <overpy.Node id=3624181268 lat=40.1323018 lon=-88.2758897>,\n",
       " <overpy.Node id=3624181269 lat=40.1323029 lon=-88.2645207>,\n",
       " <overpy.Node id=3624181270 lat=40.1323105 lon=-88.2758885>,\n",
       " <overpy.Node id=3624181271 lat=40.1323169 lon=-88.2591178>,\n",
       " <overpy.Node id=3624181272 lat=40.1323172 lon=-88.2745300>,\n",
       " <overpy.Node id=3624181273 lat=40.1323183 lon=-88.2758896>,\n",
       " <overpy.Node id=3624181274 lat=40.1323190 lon=-88.2687480>,\n",
       " <overpy.Node id=3624181275 lat=40.1323231 lon=-88.2691756>,\n",
       " <overpy.Node id=3624181276 lat=40.1323248 lon=-88.2738655>,\n",
       " <overpy.Node id=3624181277 lat=40.1323252 lon=-88.2662773>,\n",
       " <overpy.Node id=3624181278 lat=40.1323304 lon=-88.2543915>,\n",
       " <overpy.Node id=3624181279 lat=40.1323349 lon=-88.2758896>,\n",
       " <overpy.Node id=3624181280 lat=40.1323372 lon=-88.2719799>,\n",
       " <overpy.Node id=3624181281 lat=40.1323450 lon=-88.2737018>,\n",
       " <overpy.Node id=3624181282 lat=40.1323453 lon=-88.2758908>,\n",
       " <overpy.Node id=3624181283 lat=40.1323465 lon=-88.2626549>,\n",
       " <overpy.Node id=3624181284 lat=40.1323479 lon=-88.2760623>,\n",
       " <overpy.Node id=3624181285 lat=40.1323565 lon=-88.2668118>,\n",
       " <overpy.Node id=3624181286 lat=40.1323575 lon=-88.2758919>,\n",
       " <overpy.Node id=3624181287 lat=40.1323654 lon=-88.2742651>,\n",
       " <overpy.Node id=3624181288 lat=40.1323714 lon=-88.2758919>,\n",
       " <overpy.Node id=3624181289 lat=40.1323765 lon=-88.2980898>,\n",
       " <overpy.Node id=3624181290 lat=40.1323773 lon=-88.2467011>,\n",
       " <overpy.Node id=3624181291 lat=40.1323785 lon=-88.2721076>,\n",
       " <overpy.Node id=3624181292 lat=40.1323788 lon=-88.2603141>,\n",
       " <overpy.Node id=3624223720 lat=40.0847338 lon=-88.2878133>,\n",
       " <overpy.Node id=3624223721 lat=40.0847356 lon=-88.3202245>,\n",
       " <overpy.Node id=3624223722 lat=40.0847407 lon=-88.2812339>,\n",
       " <overpy.Node id=3624223723 lat=40.0847418 lon=-88.3201481>,\n",
       " <overpy.Node id=3624223724 lat=40.0847444 lon=-88.3200809>,\n",
       " <overpy.Node id=3624223725 lat=40.0847470 lon=-88.3199942>,\n",
       " <overpy.Node id=3624223726 lat=40.0847514 lon=-88.2833818>,\n",
       " <overpy.Node id=3624223727 lat=40.0847567 lon=-88.3205642>,\n",
       " <overpy.Node id=3624223728 lat=40.0847607 lon=-88.2803684>,\n",
       " <overpy.Node id=3624223729 lat=40.0847608 lon=-88.3184553>,\n",
       " <overpy.Node id=3624223730 lat=40.0847654 lon=-88.3198517>,\n",
       " <overpy.Node id=3624223731 lat=40.0847662 lon=-88.3164427>,\n",
       " <overpy.Node id=3624223732 lat=40.0847663 lon=-88.2615367>,\n",
       " <overpy.Node id=3624223733 lat=40.0847679 lon=-88.2582537>,\n",
       " <overpy.Node id=3624223734 lat=40.0847689 lon=-88.2769303>,\n",
       " <overpy.Node id=3624223735 lat=40.0847689 lon=-88.3167607>,\n",
       " <overpy.Node id=3624223736 lat=40.0847716 lon=-88.3170788>,\n",
       " <overpy.Node id=3624223737 lat=40.0847716 lon=-88.3206474>,\n",
       " <overpy.Node id=3624223738 lat=40.0847744 lon=-88.2802270>,\n",
       " <overpy.Node id=3624223739 lat=40.0847752 lon=-88.2824360>,\n",
       " <overpy.Node id=3624223740 lat=40.0847795 lon=-88.3208321>,\n",
       " <overpy.Node id=3624223741 lat=40.0847813 lon=-88.3216825>,\n",
       " <overpy.Node id=3624223742 lat=40.0847849 lon=-88.2822936>,\n",
       " <overpy.Node id=3624223743 lat=40.0847907 lon=-88.2844257>,\n",
       " <overpy.Node id=3624223744 lat=40.0847907 lon=-88.3196363>,\n",
       " <overpy.Node id=3624223745 lat=40.0847942 lon=-88.3160767>,\n",
       " <overpy.Node id=3624223746 lat=40.0847979 lon=-88.2603252>,\n",
       " <overpy.Node id=3624223747 lat=40.0848002 lon=-88.2866482>,\n",
       " <overpy.Node id=3624223748 lat=40.0848020 lon=-88.3189466>,\n",
       " <overpy.Node id=3624223749 lat=40.0848056 lon=-88.3194721>,\n",
       " <overpy.Node id=3624223750 lat=40.0848089 lon=-88.2879561>,\n",
       " <overpy.Node id=3624223751 lat=40.0848090 lon=-88.3191837>,\n",
       " <overpy.Node id=3624223752 lat=40.0848108 lon=-88.3192407>,\n",
       " <overpy.Node id=3624223753 lat=40.0848133 lon=-88.2603192>,\n",
       " <overpy.Node id=3624223754 lat=40.0848154 lon=-88.2624313>,\n",
       " <overpy.Node id=3624223755 lat=40.0848295 lon=-88.2877419>,\n",
       " <overpy.Node id=3624223756 lat=40.0848298 lon=-88.2878508>,\n",
       " <overpy.Node id=3624223757 lat=40.0848326 lon=-88.2583882>,\n",
       " <overpy.Node id=3624223758 lat=40.0848365 lon=-88.2674016>,\n",
       " <overpy.Node id=3624223759 lat=40.0848471 lon=-88.2793610>,\n",
       " <overpy.Node id=3624223760 lat=40.0848500 lon=-88.2546075>,\n",
       " <overpy.Node id=3624223761 lat=40.0848505 lon=-88.2822999>,\n",
       " <overpy.Node id=3624223762 lat=40.0848631 lon=-88.2832552>,\n",
       " <overpy.Node id=3624223763 lat=40.0848687 lon=-88.2792223>,\n",
       " <overpy.Node id=3624223764 lat=40.0848716 lon=-88.2582556>,\n",
       " <overpy.Node id=3624223765 lat=40.0848733 lon=-88.2604420>,\n",
       " <overpy.Node id=3624223766 lat=40.0848744 lon=-88.2814141>,\n",
       " <overpy.Node id=3624223767 lat=40.0848821 lon=-88.2547793>,\n",
       " <overpy.Node id=3624223768 lat=40.0848829 lon=-88.2842833>,\n",
       " <overpy.Node id=3624223769 lat=40.0848865 lon=-88.2812622>,\n",
       " <overpy.Node id=3624223770 lat=40.0848958 lon=-88.2626769>,\n",
       " <overpy.Node id=3624223771 lat=40.0848968 lon=-88.2624277>,\n",
       " <overpy.Node id=3624223772 lat=40.0849047 lon=-88.3170274>,\n",
       " <overpy.Node id=3624223773 lat=40.0849109 lon=-88.2854650>,\n",
       " <overpy.Node id=3624223774 lat=40.0849189 lon=-88.2880186>,\n",
       " <overpy.Node id=3624223775 lat=40.0849213 lon=-88.2495913>,\n",
       " <overpy.Node id=3624223776 lat=40.0849318 lon=-88.2602677>,\n",
       " <overpy.Node id=3624223777 lat=40.0849420 lon=-88.2582515>,\n",
       " <overpy.Node id=3624223778 lat=40.0849482 lon=-88.2834386>,\n",
       " <overpy.Node id=3624223779 lat=40.0849560 lon=-88.2854650>,\n",
       " <overpy.Node id=3624223780 lat=40.0849599 lon=-88.2545500>,\n",
       " <overpy.Node id=3624223781 lat=40.0849608 lon=-88.2614212>,\n",
       " <overpy.Node id=3624223782 lat=40.0849580 lon=-88.2498011>,\n",
       " <overpy.Node id=3624223783 lat=40.0849622 lon=-88.3154873>,\n",
       " <overpy.Node id=3624223784 lat=40.0849802 lon=-88.2844224>,\n",
       " <overpy.Node id=3624223785 lat=40.0849817 lon=-88.2823251>,\n",
       " <overpy.Node id=3624223786 lat=40.0849840 lon=-88.2495280>,\n",
       " <overpy.Node id=3624223787 lat=40.0849855 lon=-88.2615629>,\n",
       " <overpy.Node id=3624223788 lat=40.0849868 lon=-88.2865089>,\n",
       " <overpy.Node id=3624223789 lat=40.0850010 lon=-88.2880628>,\n",
       " <overpy.Node id=3624223790 lat=40.0850011 lon=-88.2627600>,\n",
       " <overpy.Node id=3624223791 lat=40.0850021 lon=-88.2631360>,\n",
       " <overpy.Node id=3624223792 lat=40.0850042 lon=-88.2629185>,\n",
       " <overpy.Node id=3624245541 lat=40.0624480 lon=-88.2730824>,\n",
       " <overpy.Node id=3624245542 lat=40.0645334 lon=-88.2733035>,\n",
       " <overpy.Node id=3624245543 lat=40.0648953 lon=-88.2731898>,\n",
       " <overpy.Node id=3624245544 lat=40.0656555 lon=-88.2735040>,\n",
       " <overpy.Node id=3624245545 lat=40.0657617 lon=-88.2738957>,\n",
       " <overpy.Node id=3624245546 lat=40.0682163 lon=-88.2723191>,\n",
       " <overpy.Node id=3624245547 lat=40.0682200 lon=-88.2720830>,\n",
       " <overpy.Node id=3624245548 lat=40.0683279 lon=-88.2720917>,\n",
       " <overpy.Node id=3624245549 lat=40.0683314 lon=-88.2723102>,\n",
       " <overpy.Node id=3624245550 lat=40.0684469 lon=-88.2720903>,\n",
       " <overpy.Node id=3624245551 lat=40.0684543 lon=-88.2723088>,\n",
       " <overpy.Node id=3624245552 lat=40.0685646 lon=-88.2723062>,\n",
       " <overpy.Node id=3624245553 lat=40.0685650 lon=-88.2720852>,\n",
       " <overpy.Node id=3624245554 lat=40.0686830 lon=-88.2720913>,\n",
       " <overpy.Node id=3624245555 lat=40.0687010 lon=-88.2723111>,\n",
       " <overpy.Node id=3624245556 lat=40.0687875 lon=-88.2720875>,\n",
       " <overpy.Node id=3624245557 lat=40.0687988 lon=-88.2723022>,\n",
       " <overpy.Node id=3624245558 lat=40.0689037 lon=-88.2723021>,\n",
       " <overpy.Node id=3624245559 lat=40.0689065 lon=-88.2720849>,\n",
       " <overpy.Node id=3624245560 lat=40.0695571 lon=-88.2854155>,\n",
       " <overpy.Node id=3624245561 lat=40.0696373 lon=-88.2855224>,\n",
       " <overpy.Node id=3624245562 lat=40.0696447 lon=-88.2918135>,\n",
       " <overpy.Node id=3624245563 lat=40.0696877 lon=-88.2854212>,\n",
       " <overpy.Node id=3624245564 lat=40.0696948 lon=-88.2918135>,\n",
       " <overpy.Node id=3624245565 lat=40.0697456 lon=-88.2918145>,\n",
       " <overpy.Node id=3624245566 lat=40.0698016 lon=-88.2855286>,\n",
       " <overpy.Node id=3624245567 lat=40.0698080 lon=-88.2918166>,\n",
       " <overpy.Node id=3624245568 lat=40.0698120 lon=-88.2854200>,\n",
       " <overpy.Node id=3624245569 lat=40.0698613 lon=-88.2918166>,\n",
       " <overpy.Node id=3624245570 lat=40.0699122 lon=-88.2918262>,\n",
       " <overpy.Node id=3624245571 lat=40.0699390 lon=-88.2854288>,\n",
       " <overpy.Node id=3624245572 lat=40.0699595 lon=-88.2855326>,\n",
       " <overpy.Node id=3624245573 lat=40.0699607 lon=-88.2909092>,\n",
       " <overpy.Node id=3624245574 lat=40.0699655 lon=-88.2918368>,\n",
       " <overpy.Node id=3624245575 lat=40.0699994 lon=-88.2873060>,\n",
       " <overpy.Node id=3624245576 lat=40.0700173 lon=-88.2918442>,\n",
       " <overpy.Node id=3624245577 lat=40.0700456 lon=-88.2865017>,\n",
       " <overpy.Node id=3624245578 lat=40.0700482 lon=-88.2868699>,\n",
       " <overpy.Node id=3624245579 lat=40.0700490 lon=-88.2870973>,\n",
       " <overpy.Node id=3624245580 lat=40.0700720 lon=-88.2862606>,\n",
       " <overpy.Node id=3624245581 lat=40.0700860 lon=-88.2874008>,\n",
       " <overpy.Node id=3624245582 lat=40.0700905 lon=-88.2885963>,\n",
       " <overpy.Node id=3624245583 lat=40.0701034 lon=-88.2907585>,\n",
       " <overpy.Node id=3624245584 lat=40.0701454 lon=-88.2873956>,\n",
       " <overpy.Node id=3624245585 lat=40.0701585 lon=-88.2883448>,\n",
       " <overpy.Node id=3624245586 lat=40.0701587 lon=-88.2867269>,\n",
       " <overpy.Node id=3624245587 lat=40.0701685 lon=-88.2871076>,\n",
       " <overpy.Node id=3624245588 lat=40.0701769 lon=-88.2861396>,\n",
       " <overpy.Node id=3624245589 lat=40.0701782 lon=-88.2909956>,\n",
       " <overpy.Node id=3624245590 lat=40.0701830 lon=-88.2930068>,\n",
       " <overpy.Node id=3624245591 lat=40.0701920 lon=-88.2907702>,\n",
       " <overpy.Node id=3624245592 lat=40.0702182 lon=-88.2871973>,\n",
       " <overpy.Node id=3624245708 lat=40.0788910 lon=-88.2978594>,\n",
       " <overpy.Node id=3624245709 lat=40.0788946 lon=-88.2979676>,\n",
       " <overpy.Node id=3624245710 lat=40.0789010 lon=-88.2939467>,\n",
       " <overpy.Node id=3624245711 lat=40.0789021 lon=-88.2878088>,\n",
       " <overpy.Node id=3624245712 lat=40.0789024 lon=-88.2940927>,\n",
       " <overpy.Node id=3624245713 lat=40.0789106 lon=-88.2984188>,\n",
       " <overpy.Node id=3624245714 lat=40.0789167 lon=-88.2959276>,\n",
       " <overpy.Node id=3624245715 lat=40.0789192 lon=-88.2876460>,\n",
       " <overpy.Node id=3624245716 lat=40.0789230 lon=-88.3005725>,\n",
       " <overpy.Node id=3624245717 lat=40.0789249 lon=-88.2638141>,\n",
       " <overpy.Node id=3624245718 lat=40.0789271 lon=-88.2658769>,\n",
       " <overpy.Node id=3624245719 lat=40.0789410 lon=-88.2647266>,\n",
       " <overpy.Node id=3624245720 lat=40.0789650 lon=-88.3006586>,\n",
       " <overpy.Node id=3624245721 lat=40.0789769 lon=-88.2975073>,\n",
       " <overpy.Node id=3624245722 lat=40.0789794 lon=-88.2973688>,\n",
       " <overpy.Node id=3624245723 lat=40.0789795 lon=-88.2982783>,\n",
       " <overpy.Node id=3624245724 lat=40.0789805 lon=-88.2969853>,\n",
       " <overpy.Node id=3624245725 lat=40.0789818 lon=-88.2968257>,\n",
       " <overpy.Node id=3624245726 lat=40.0789830 lon=-88.2964791>,\n",
       " <overpy.Node id=3624245727 lat=40.0789843 lon=-88.2962131>,\n",
       " <overpy.Node id=3624245728 lat=40.0789877 lon=-88.2900189>,\n",
       " <overpy.Node id=3624245729 lat=40.0789879 lon=-88.2939047>,\n",
       " <overpy.Node id=3624245730 lat=40.0789896 lon=-88.2976622>,\n",
       " <overpy.Node id=3624245731 lat=40.0789938 lon=-88.2986305>,\n",
       " <overpy.Node id=3624245732 lat=40.0789972 lon=-88.2977973>,\n",
       " <overpy.Node id=3624245733 lat=40.0789998 lon=-88.2979522>,\n",
       " <overpy.Node id=3624245734 lat=40.0790285 lon=-88.2876240>,\n",
       " <overpy.Node id=3624245735 lat=40.0790342 lon=-88.2659423>,\n",
       " <overpy.Node id=3624245736 lat=40.0790358 lon=-88.2581815>,\n",
       " <overpy.Node id=3624245737 lat=40.0790361 lon=-88.2981102>,\n",
       " <overpy.Node id=3624245738 lat=40.0790415 lon=-88.2984946>,\n",
       " <overpy.Node id=3624245739 lat=40.0790431 lon=-88.2702553>,\n",
       " <overpy.Node id=3624245740 lat=40.0790565 lon=-88.2912926>,\n",
       " <overpy.Node id=3624245741 lat=40.0790573 lon=-88.2638252>,\n",
       " <overpy.Node id=3624245742 lat=40.0790617 lon=-88.2959380>,\n",
       " <overpy.Node id=3624245743 lat=40.0790667 lon=-88.3022942>,\n",
       " <overpy.Node id=3624245744 lat=40.0790769 lon=-88.2984302>,\n",
       " <overpy.Node id=3624245745 lat=40.0790831 lon=-88.2970821>,\n",
       " <overpy.Node id=3624245746 lat=40.0790856 lon=-88.2972304>,\n",
       " <overpy.Node id=3624245747 lat=40.0790883 lon=-88.2594624>,\n",
       " <overpy.Node id=3624245748 lat=40.0790885 lon=-88.2647598>,\n",
       " <overpy.Node id=3624245749 lat=40.0790909 lon=-88.2591144>,\n",
       " <overpy.Node id=3624245750 lat=40.0791020 lon=-88.2636867>,\n",
       " <overpy.Node id=3624245751 lat=40.0791198 lon=-88.3010139>,\n",
       " <overpy.Node id=3624245752 lat=40.0791213 lon=-88.3014003>,\n",
       " <overpy.Node id=3624245753 lat=40.0791242 lon=-88.3015945>,\n",
       " <overpy.Node id=3624245754 lat=40.0791252 lon=-88.2937970>,\n",
       " <overpy.Node id=3624245755 lat=40.0791299 lon=-88.3019388>,\n",
       " <overpy.Node id=3624245756 lat=40.0791442 lon=-88.2581824>,\n",
       " <overpy.Node id=3624245757 lat=40.0791448 lon=-88.2939612>,\n",
       " <overpy.Node id=3624245758 lat=40.0791460 lon=-88.2881407>,\n",
       " <overpy.Node id=3624245759 lat=40.0791609 lon=-88.3022282>,\n",
       " <overpy.Node id=3624245760 lat=40.0791694 lon=-88.2879633>,\n",
       " <overpy.Node id=3624245761 lat=40.0791699 lon=-88.3003574>,\n",
       " <overpy.Node id=3624245762 lat=40.0791795 lon=-88.2985867>,\n",
       " <overpy.Node id=3624245763 lat=40.0791900 lon=-88.2634259>,\n",
       " <overpy.Node id=3624245764 lat=40.0791909 lon=-88.2900060>,\n",
       " <overpy.Node id=3624245765 lat=40.0791956 lon=-88.2876422>,\n",
       " <overpy.Node id=3624245766 lat=40.0792092 lon=-88.2937021>,\n",
       " <overpy.Node id=3624245767 lat=40.0792102 lon=-88.3021805>,\n",
       " <overpy.Node id=3624245768 lat=40.0792243 lon=-88.3023820>,\n",
       " <overpy.Node id=3624245769 lat=40.0792271 lon=-88.2581834>,\n",
       " <overpy.Node id=3624245770 lat=40.0792296 lon=-88.3009515>,\n",
       " <overpy.Node id=3624245771 lat=40.0792324 lon=-88.3012519>,\n",
       " <overpy.Node id=3624245772 lat=40.0792340 lon=-88.2647787>,\n",
       " <overpy.Node id=3624245773 lat=40.0792340 lon=-88.2901514>,\n",
       " <overpy.Node id=3624245774 lat=40.0792368 lon=-88.3018234>,\n",
       " <overpy.Node id=3624245775 lat=40.0792397 lon=-88.3020120>,\n",
       " <overpy.Node id=3624245776 lat=40.0792549 lon=-88.3003162>,\n",
       " <overpy.Node id=3624245777 lat=40.0792567 lon=-88.3004276>,\n",
       " <overpy.Node id=3624245778 lat=40.0792596 lon=-88.2936528>,\n",
       " <overpy.Node id=3624245779 lat=40.0792736 lon=-88.3025029>,\n",
       " <overpy.Node id=3624245780 lat=40.0792782 lon=-88.2960825>,\n",
       " <overpy.Node id=3624245781 lat=40.0792818 lon=-88.2959361>,\n",
       " <overpy.Node id=3624245782 lat=40.0792831 lon=-88.2970688>,\n",
       " <overpy.Node id=3624245783 lat=40.0792907 lon=-88.2972006>,\n",
       " <overpy.Node id=3624245784 lat=40.0793026 lon=-88.3005156>,\n",
       " <overpy.Node id=3624245785 lat=40.0793048 lon=-88.2912053>,\n",
       " <overpy.Node id=3624245786 lat=40.0793100 lon=-88.2883066>,\n",
       " <overpy.Node id=3624245787 lat=40.0793199 lon=-88.2937804>,\n",
       " <overpy.Node id=3624245788 lat=40.0793248 lon=-88.2873835>,\n",
       " <overpy.Node id=3624245789 lat=40.0793284 lon=-88.2629988>,\n",
       " <overpy.Node id=3624245790 lat=40.0793284 lon=-88.3022464>,\n",
       " <overpy.Node id=3624245791 lat=40.0793432 lon=-88.3003907>,\n",
       " <overpy.Node id=3624245792 lat=40.0793440 lon=-88.2909882>,\n",
       " <overpy.Node id=3624246427 lat=40.0761125 lon=-88.2935146>,\n",
       " <overpy.Node id=3624246428 lat=40.0761125 lon=-88.2937115>,\n",
       " <overpy.Node id=3624246429 lat=40.0761126 lon=-88.2939745>,\n",
       " <overpy.Node id=3624246430 lat=40.0761140 lon=-88.2935999>,\n",
       " <overpy.Node id=3624246431 lat=40.0761163 lon=-88.2863604>,\n",
       " <overpy.Node id=3624246432 lat=40.0761421 lon=-88.2898353>,\n",
       " <overpy.Node id=3624246433 lat=40.0761452 lon=-88.2864845>,\n",
       " <overpy.Node id=3624246434 lat=40.0761471 lon=-88.2851632>,\n",
       " <overpy.Node id=3624246435 lat=40.0761758 lon=-88.2867485>,\n",
       " <overpy.Node id=3624246436 lat=40.0761765 lon=-88.2943291>,\n",
       " <overpy.Node id=3624246437 lat=40.0761817 lon=-88.2874840>,\n",
       " <overpy.Node id=3624246438 lat=40.0761831 lon=-88.2870906>,\n",
       " <overpy.Node id=3624246439 lat=40.0761864 lon=-88.2874099>,\n",
       " <overpy.Node id=3624246440 lat=40.0762204 lon=-88.2942534>,\n",
       " <overpy.Node id=3624246441 lat=40.0762211 lon=-88.2940035>,\n",
       " <overpy.Node id=3624246442 lat=40.0762217 lon=-88.2935174>,\n",
       " <overpy.Node id=3624246443 lat=40.0763015 lon=-88.2896994>,\n",
       " <overpy.Node id=3624246444 lat=40.0763557 lon=-88.2931608>,\n",
       " <overpy.Node id=3624246445 lat=40.0763714 lon=-88.2850129>,\n",
       " <overpy.Node id=3624246446 lat=40.0763816 lon=-88.2932962>,\n",
       " <overpy.Node id=3624246447 lat=40.0764760 lon=-88.2896993>,\n",
       " <overpy.Node id=3624246448 lat=40.0764764 lon=-88.2931539>,\n",
       " <overpy.Node id=3624246449 lat=40.0764864 lon=-88.2898448>,\n",
       " <overpy.Node id=3624246450 lat=40.0764869 lon=-88.2708874>,\n",
       " <overpy.Node id=3624246451 lat=40.0764885 lon=-88.2851672>,\n",
       " <overpy.Node id=3624246452 lat=40.0764951 lon=-88.2707311>,\n",
       " <overpy.Node id=3624246453 lat=40.0765205 lon=-88.2850117>,\n",
       " <overpy.Node id=3624246454 lat=40.0765838 lon=-88.2707332>,\n",
       " <overpy.Node id=3624246455 lat=40.0766728 lon=-88.2898214>,\n",
       " <overpy.Node id=3624246456 lat=40.0766940 lon=-88.2708883>,\n",
       " <overpy.Node id=3624246457 lat=40.0767664 lon=-88.2931178>,\n",
       " <overpy.Node id=3624246458 lat=40.0768098 lon=-88.2674753>,\n",
       " <overpy.Node id=3624246459 lat=40.0768099 lon=-88.2644174>,\n",
       " <overpy.Node id=3624246460 lat=40.0768099 lon=-88.2707372>,\n",
       " <overpy.Node id=3624246461 lat=40.0768107 lon=-88.2644701>,\n",
       " <overpy.Node id=3624246462 lat=40.0768111 lon=-88.2612846>,\n",
       " <overpy.Node id=3624246463 lat=40.0768120 lon=-88.2647437>,\n",
       " <overpy.Node id=3624246464 lat=40.0768122 lon=-88.2643646>,\n",
       " <overpy.Node id=3624246465 lat=40.0768130 lon=-88.2649510>,\n",
       " <overpy.Node id=3624246466 lat=40.0768136 lon=-88.2616881>,\n",
       " <overpy.Node id=3624246467 lat=40.0768278 lon=-88.2610976>,\n",
       " <overpy.Node id=3624246468 lat=40.0768355 lon=-88.2641546>,\n",
       " <overpy.Node id=3624246469 lat=40.0768366 lon=-88.2618826>,\n",
       " <overpy.Node id=3624246470 lat=40.0768466 lon=-88.2609909>,\n",
       " <overpy.Node id=3624246471 lat=40.0768588 lon=-88.2640562>,\n",
       " <overpy.Node id=3624246472 lat=40.0768814 lon=-88.2896330>,\n",
       " <overpy.Node id=3624246473 lat=40.0768890 lon=-88.2695960>,\n",
       " <overpy.Node id=3624246474 lat=40.0768913 lon=-88.2621762>,\n",
       " <overpy.Node id=3624246475 lat=40.0768919 lon=-88.2897747>,\n",
       " <overpy.Node id=3624246476 lat=40.0768944 lon=-88.2707415>,\n",
       " <overpy.Node id=3624246477 lat=40.0769018 lon=-88.2674108>,\n",
       " <overpy.Node id=3624246478 lat=40.0769162 lon=-88.2692136>,\n",
       " <overpy.Node id=3624246479 lat=40.0769195 lon=-88.2646198>,\n",
       " <overpy.Node id=3624246480 lat=40.0769208 lon=-88.2622828>,\n",
       " <overpy.Node id=3624246481 lat=40.0769211 lon=-88.2643743>,\n",
       " <overpy.Node id=3624246482 lat=40.0769223 lon=-88.2876182>,\n",
       " <overpy.Node id=3624246483 lat=40.0769235 lon=-88.2700071>,\n",
       " <overpy.Node id=3624246484 lat=40.0769235 lon=-88.2873208>,\n",
       " <overpy.Node id=3624246485 lat=40.0769308 lon=-88.2879301>,\n",
       " <overpy.Node id=3624246486 lat=40.0769330 lon=-88.2882265>,\n",
       " <overpy.Node id=3624246487 lat=40.0769360 lon=-88.2888340>,\n",
       " <overpy.Node id=3624246488 lat=40.0769373 lon=-88.2884856>,\n",
       " <overpy.Node id=3624246489 lat=40.0769389 lon=-88.2890967>,\n",
       " <overpy.Node id=3624246490 lat=40.0769474 lon=-88.2679240>,\n",
       " <overpy.Node id=3624246491 lat=40.0769489 lon=-88.2894706>,\n",
       " <overpy.Node id=3624246492 lat=40.0769530 lon=-88.2623921>,\n",
       " <overpy.Node id=3624246493 lat=40.0702258 lon=-88.2909144>,\n",
       " <overpy.Node id=3624246494 lat=40.0702386 lon=-88.2861103>,\n",
       " <overpy.Node id=3624246495 lat=40.0702425 lon=-88.2919589>,\n",
       " <overpy.Node id=3624246496 lat=40.0702819 lon=-88.2919621>,\n",
       " <overpy.Node id=3624246497 lat=40.0702881 lon=-88.2855345>,\n",
       " <overpy.Node id=3624246498 lat=40.0703013 lon=-88.2885263>,\n",
       " <overpy.Node id=3624246499 lat=40.0703312 lon=-88.2919621>,\n",
       " <overpy.Node id=3624246500 lat=40.0704070 lon=-88.2918210>,\n",
       " <overpy.Node id=3624246501 lat=40.0704096 lon=-88.2909110>,\n",
       " <overpy.Node id=3624246502 lat=40.0704357 lon=-88.2928560>,\n",
       " <overpy.Node id=3624246503 lat=40.0704406 lon=-88.2883561>,\n",
       " <overpy.Node id=3624246504 lat=40.0704486 lon=-88.2861060>,\n",
       " <overpy.Node id=3624246505 lat=40.0704514 lon=-88.2862432>,\n",
       " <overpy.Node id=3624246506 lat=40.0704817 lon=-88.2907711>,\n",
       " <overpy.Node id=3624246507 lat=40.0705320 lon=-88.2883571>,\n",
       " <overpy.Node id=3624246508 lat=40.0705342 lon=-88.2930001>,\n",
       " <overpy.Node id=3624246509 lat=40.0705482 lon=-88.2918055>,\n",
       " <overpy.Node id=3624246510 lat=40.0705564 lon=-88.2907753>,\n",
       " <overpy.Node id=3624246511 lat=40.0705634 lon=-88.2919427>,\n",
       " <overpy.Node id=3624246512 lat=40.0706034 lon=-88.2884927>,\n",
       " <overpy.Node id=3624246513 lat=40.0706049 lon=-88.2909205>,\n",
       " <overpy.Node id=3624246514 lat=40.0706236 lon=-88.2928634>,\n",
       " <overpy.Node id=3624246515 lat=40.0706471 lon=-88.2919330>,\n",
       " <overpy.Node id=3624246516 lat=40.0706703 lon=-88.2844373>,\n",
       " <overpy.Node id=3624246517 lat=40.0706865 lon=-88.2859577>,\n",
       " <overpy.Node id=3624246518 lat=40.0706895 lon=-88.2863786>,\n",
       " <overpy.Node id=3624246519 lat=40.0706928 lon=-88.2865492>,\n",
       " <overpy.Node id=3624246520 lat=40.0707220 lon=-88.2883549>,\n",
       " <overpy.Node id=3624246521 lat=40.0707624 lon=-88.2910155>,\n",
       " <overpy.Node id=3624246522 lat=40.0707804 lon=-88.2851268>,\n",
       " <overpy.Node id=3624246523 lat=40.0707818 lon=-88.2846469>,\n",
       " <overpy.Node id=3624246524 lat=40.0707845 lon=-88.2928611>,\n",
       " <overpy.Node id=3624246525 lat=40.0707851 lon=-88.2849494>,\n",
       " <overpy.Node id=3624246526 lat=40.0707887 lon=-88.2857975>,\n",
       " <overpy.Node id=3624246527 lat=40.0707940 lon=-88.2860317>,\n",
       " <overpy.Node id=3624246528 lat=40.0707949 lon=-88.2862445>,\n",
       " <overpy.Node id=3624246529 lat=40.0707982 lon=-88.2865272>,\n",
       " <overpy.Node id=3624246530 lat=40.0708021 lon=-88.2918806>,\n",
       " <overpy.Node id=3624246531 lat=40.0708033 lon=-88.2884670>,\n",
       " <overpy.Node id=3624246532 lat=40.0708039 lon=-88.2867004>,\n",
       " <overpy.Node id=3624246533 lat=40.0708048 lon=-88.2871896>,\n",
       " <overpy.Node id=3624246534 lat=40.0708073 lon=-88.2873430>,\n",
       " <overpy.Node id=3624246535 lat=40.0708116 lon=-88.2908873>,\n",
       " <overpy.Node id=3624246536 lat=40.0708130 lon=-88.2875558>,\n",
       " <overpy.Node id=3624246537 lat=40.0708140 lon=-88.2929978>,\n",
       " <overpy.Node id=3624246538 lat=40.0708259 lon=-88.2876830>,\n",
       " <overpy.Node id=3624246539 lat=40.0708585 lon=-88.2911543>,\n",
       " <overpy.Node id=3624246540 lat=40.0708710 lon=-88.2917022>,\n",
       " <overpy.Node id=3624246541 lat=40.0708765 lon=-88.2909439>,\n",
       " <overpy.Node id=3624246542 lat=40.0708837 lon=-88.2879396>,\n",
       " <overpy.Node id=3624246543 lat=40.0709053 lon=-88.2912461>,\n",
       " <overpy.Node id=3624246544 lat=40.0709167 lon=-88.2853901>,\n",
       " <overpy.Node id=3624246545 lat=40.0709305 lon=-88.2929956>,\n",
       " <overpy.Node id=3624246546 lat=40.0709462 lon=-88.2880814>,\n",
       " <overpy.Node id=3624246547 lat=40.0709751 lon=-88.2913764>,\n",
       " <overpy.Node id=3624246548 lat=40.0709945 lon=-88.2855407>,\n",
       " <overpy.Node id=3624246549 lat=40.0710290 lon=-88.2928343>,\n",
       " <overpy.Node id=3624246550 lat=40.0710466 lon=-88.2884575>,\n",
       " <overpy.Node id=3624246551 lat=40.0710671 lon=-88.2917459>,\n",
       " <overpy.Node id=3624246552 lat=40.0710770 lon=-88.2853920>,\n",
       " <overpy.Node id=3624246553 lat=40.0711078 lon=-88.2929570>,\n",
       " <overpy.Node id=3624246554 lat=40.0711212 lon=-88.2914030>,\n",
       " <overpy.Node id=3624246555 lat=40.0711964 lon=-88.2929121>,\n",
       " <overpy.Node id=3624246556 lat=40.0712069 lon=-88.2884391>,\n",
       " <overpy.Node id=3624246557 lat=40.0712382 lon=-88.2928886>,\n",
       " <overpy.Node id=3624246558 lat=40.0712481 lon=-88.2918830>,\n",
       " <overpy.Node id=3624246559 lat=40.0713191 lon=-88.2885183>,\n",
       " <overpy.Node id=3624246560 lat=40.0713330 lon=-88.2918050>,\n",
       " <overpy.Node id=3624246561 lat=40.0713452 lon=-88.2886946>,\n",
       " <overpy.Node id=3624246562 lat=40.0714185 lon=-88.2919725>,\n",
       " <overpy.Node id=3624246563 lat=40.0714284 lon=-88.2922263>,\n",
       " <overpy.Node id=3624246564 lat=40.0714359 lon=-88.2914108>,\n",
       " <overpy.Node id=3624246565 lat=40.0714604 lon=-88.2852040>,\n",
       " <overpy.Node id=3624246566 lat=40.0714769 lon=-88.2925264>,\n",
       " <overpy.Node id=3624246567 lat=40.0714916 lon=-88.2923523>,\n",
       " <overpy.Node id=3624246568 lat=40.0715109 lon=-88.2911298>,\n",
       " <overpy.Node id=3624246569 lat=40.0715364 lon=-88.2926391>,\n",
       " <overpy.Node id=3624246570 lat=40.0715485 lon=-88.2896292>,\n",
       " <overpy.Node id=3624246571 lat=40.0715508 lon=-88.2893589>,\n",
       " <overpy.Node id=3624246572 lat=40.0715510 lon=-88.2898887>,\n",
       " <overpy.Node id=3624246573 lat=40.0715544 lon=-88.2900938>,\n",
       " <overpy.Node id=3624246574 lat=40.0715643 lon=-88.2901878>,\n",
       " <overpy.Node id=3624246575 lat=40.0715863 lon=-88.2922784>,\n",
       " <overpy.Node id=3624246576 lat=40.0715947 lon=-88.2903811>,\n",
       " <overpy.Node id=3624246577 lat=40.0716028 lon=-88.2886339>,\n",
       " <overpy.Node id=3624246578 lat=40.0716185 lon=-88.2904622>,\n",
       " <overpy.Node id=3624246579 lat=40.0716384 lon=-88.2910101>,\n",
       " <overpy.Node id=3624246580 lat=40.0716584 lon=-88.2896665>,\n",
       " <overpy.Node id=3624246581 lat=40.0716601 lon=-88.2898801>,\n",
       " <overpy.Node id=3624246582 lat=40.0716608 lon=-88.2893557>,\n",
       " <overpy.Node id=3624246583 lat=40.0716623 lon=-88.2889829>,\n",
       " <overpy.Node id=3624246584 lat=40.0716750 lon=-88.2901887>,\n",
       " <overpy.Node id=3624246585 lat=40.0716827 lon=-88.2909749>,\n",
       " <overpy.Node id=3624246586 lat=40.0716832 lon=-88.2850453>,\n",
       " <overpy.Node id=3624246587 lat=40.0716948 lon=-88.2927319>,\n",
       " <overpy.Node id=3624246588 lat=40.0717273 lon=-88.2907617>,\n",
       " <overpy.Node id=3624246589 lat=40.0717275 lon=-88.2911083>,\n",
       " <overpy.Node id=3624246590 lat=40.0717286 lon=-88.2909375>,\n",
       " <overpy.Node id=3624246591 lat=40.0717567 lon=-88.2886411>,\n",
       " <overpy.Node id=3624246592 lat=40.0717780 lon=-88.2887783>,\n",
       " <overpy.Node id=3624246593 lat=40.0717934 lon=-88.2906074>,\n",
       " <overpy.Node id=3624246594 lat=40.0718384 lon=-88.2854066>,\n",
       " <overpy.Node id=3624246595 lat=40.0718467 lon=-88.2929358>,\n",
       " <overpy.Node id=3624246596 lat=40.0718659 lon=-88.2850159>,\n",
       " <overpy.Node id=3624246597 lat=40.0718719 lon=-88.2911515>,\n",
       " <overpy.Node id=3624246598 lat=40.0718817 lon=-88.2886202>,\n",
       " <overpy.Node id=3624246599 lat=40.0719596 lon=-88.2850232>,\n",
       " <overpy.Node id=3624246600 lat=40.0719913 lon=-88.2911397>,\n",
       " <overpy.Node id=3624246601 lat=40.0720072 lon=-88.2907694>,\n",
       " <overpy.Node id=3624246602 lat=40.0720485 lon=-88.2915338>,\n",
       " <overpy.Node id=3624246603 lat=40.0720524 lon=-88.2854075>,\n",
       " <overpy.Node id=3624246604 lat=40.0720617 lon=-88.2931151>,\n",
       " <overpy.Node id=3624246605 lat=40.0720709 lon=-88.2885480>,\n",
       " <overpy.Node id=3624246606 lat=40.0720815 lon=-88.2850617>,\n",
       " <overpy.Node id=3624246607 lat=40.0721501 lon=-88.2853970>,\n",
       " <overpy.Node id=3624246608 lat=40.0721622 lon=-88.2908352>,\n",
       " <overpy.Node id=3624246609 lat=40.0721646 lon=-88.2914915>,\n",
       " <overpy.Node id=3624246610 lat=40.0721699 lon=-88.2886424>,\n",
       " <overpy.Node id=3624246611 lat=40.0721886 lon=-88.2884708>,\n",
       " <overpy.Node id=3624246612 lat=40.0722004 lon=-88.2917687>,\n",
       " <overpy.Node id=3624246613 lat=40.0722179 lon=-88.2915770>,\n",
       " <overpy.Node id=3624246614 lat=40.0722828 lon=-88.2885745>,\n",
       " <overpy.Node id=3624246615 lat=40.0723025 lon=-88.2916944>,\n",
       " <overpy.Node id=3624246616 lat=40.0723059 lon=-88.2905120>,\n",
       " <overpy.Node id=3624246617 lat=40.0723096 lon=-88.2864094>,\n",
       " <overpy.Node id=3624246618 lat=40.0723138 lon=-88.2867557>,\n",
       " <overpy.Node id=3624246619 lat=40.0723276 lon=-88.2906779>,\n",
       " <overpy.Node id=3624246620 lat=40.0723416 lon=-88.2919566>,\n",
       " <overpy.Node id=3624246621 lat=40.0723451 lon=-88.2868631>,\n",
       " <overpy.Node id=3624246622 lat=40.0723834 lon=-88.2883841>,\n",
       " <overpy.Node id=3624246623 lat=40.0723842 lon=-88.2931013>,\n",
       " <overpy.Node id=3624246624 lat=40.0724003 lon=-88.2866534>,\n",
       " <overpy.Node id=3624246625 lat=40.0724334 lon=-88.2918732>,\n",
       " <overpy.Node id=3624246626 lat=40.0724540 lon=-88.2921039>,\n",
       " <overpy.Node id=3624246627 lat=40.0724542 lon=-88.2850760>,\n",
       " <overpy.Node id=3624246628 lat=40.0724719 lon=-88.2872354>,\n",
       " <overpy.Node id=3624246629 lat=40.0724772 lon=-88.2900172>,\n",
       " <overpy.Node id=3624246630 lat=40.0724883 lon=-88.2852372>,\n",
       " <overpy.Node id=3624246631 lat=40.0724886 lon=-88.2869600>,\n",
       " <overpy.Node id=3624246632 lat=40.0724945 lon=-88.2904392>,\n",
       " <overpy.Node id=3624246633 lat=40.0725008 lon=-88.2921680>,\n",
       " <overpy.Node id=3624246634 lat=40.0725353 lon=-88.2898599>,\n",
       " <overpy.Node id=3624246635 lat=40.0725367 lon=-88.2870883>,\n",
       " <overpy.Node id=3624246636 lat=40.0725548 lon=-88.2883328>,\n",
       " <overpy.Node id=3624246637 lat=40.0725599 lon=-88.2920376>,\n",
       " <overpy.Node id=3624246638 lat=40.0725601 lon=-88.2903324>,\n",
       " <overpy.Node id=3624246639 lat=40.0725640 lon=-88.2922587>,\n",
       " <overpy.Node id=3624246640 lat=40.0725778 lon=-88.2875014>,\n",
       " <overpy.Node id=3624246641 lat=40.0726069 lon=-88.2900539>,\n",
       " <overpy.Node id=3624246642 lat=40.0726146 lon=-88.2872948>,\n",
       " <overpy.Node id=3624246643 lat=40.0726158 lon=-88.2899821>,\n",
       " <overpy.Node id=3624246644 lat=40.0726354 lon=-88.2873407>,\n",
       " <overpy.Node id=3624246645 lat=40.0726560 lon=-88.2923772>,\n",
       " <overpy.Node id=3624246646 lat=40.0726575 lon=-88.2899355>,\n",
       " <overpy.Node id=3624246647 lat=40.0726603 lon=-88.2885450>,\n",
       " <overpy.Node id=3624246648 lat=40.0726633 lon=-88.2849966>,\n",
       " <overpy.Node id=3624246649 lat=40.0726839 lon=-88.2922074>,\n",
       " <overpy.Node id=3624246650 lat=40.0727148 lon=-88.2875274>,\n",
       " <overpy.Node id=3624246651 lat=40.0727151 lon=-88.2931068>,\n",
       " <overpy.Node id=3624246652 lat=40.0727240 lon=-88.2932546>,\n",
       " <overpy.Node id=3624246653 lat=40.0727306 lon=-88.2899316>,\n",
       " <overpy.Node id=3624246654 lat=40.0727427 lon=-88.2851342>,\n",
       " <overpy.Node id=3624246655 lat=40.0727544 lon=-88.2897705>,\n",
       " <overpy.Node id=3624246656 lat=40.0727597 lon=-88.2876244>,\n",
       " <overpy.Node id=3624246657 lat=40.0727611 lon=-88.2925438>,\n",
       " <overpy.Node id=3624246658 lat=40.0727653 lon=-88.2884646>,\n",
       " <overpy.Node id=3624246659 lat=40.0727781 lon=-88.2884981>,\n",
       " <overpy.Node id=3624246660 lat=40.0728046 lon=-88.2885033>,\n",
       " <overpy.Node id=3624246661 lat=40.0728108 lon=-88.2849725>,\n",
       " <overpy.Node id=3624246662 lat=40.0728168 lon=-88.2880468>,\n",
       " <overpy.Node id=3624246663 lat=40.0728294 lon=-88.2885126>,\n",
       " <overpy.Node id=3624246664 lat=40.0728471 lon=-88.2887087>,\n",
       " <overpy.Node id=3624246665 lat=40.0728511 lon=-88.2885408>,\n",
       " <overpy.Node id=3624246666 lat=40.0728587 lon=-88.2924807>,\n",
       " <overpy.Node id=3624246667 lat=40.0728655 lon=-88.2885627>,\n",
       " <overpy.Node id=3624246668 lat=40.0728662 lon=-88.2884510>,\n",
       " <overpy.Node id=3624246669 lat=40.0728857 lon=-88.2879133>,\n",
       " <overpy.Node id=3624246670 lat=40.0728868 lon=-88.2929517>,\n",
       " <overpy.Node id=3624246671 lat=40.0729023 lon=-88.2884656>,\n",
       " <overpy.Node id=3624246672 lat=40.0729064 lon=-88.2885668>,\n",
       " <overpy.Node id=3624246673 lat=40.0729195 lon=-88.2926120>,\n",
       " <overpy.Node id=3624246674 lat=40.0729321 lon=-88.2887181>,\n",
       " <overpy.Node id=3624246675 lat=40.0729424 lon=-88.2885678>,\n",
       " <overpy.Node id=3624246676 lat=40.0729480 lon=-88.2884531>,\n",
       " <overpy.Node id=3624246677 lat=40.0729483 lon=-88.2881813>,\n",
       " <overpy.Node id=3624246678 lat=40.0729568 lon=-88.2885376>,\n",
       " <overpy.Node id=3624246679 lat=40.0729656 lon=-88.2852979>,\n",
       " <overpy.Node id=3624246680 lat=40.0729746 lon=-88.2887066>,\n",
       " <overpy.Node id=3624246681 lat=40.0729765 lon=-88.2898829>,\n",
       " <overpy.Node id=3624246682 lat=40.0729801 lon=-88.2885188>,\n",
       " <overpy.Node id=3624246683 lat=40.0729893 lon=-88.2928833>,\n",
       " <overpy.Node id=3624246684 lat=40.0730017 lon=-88.2885062>,\n",
       " <overpy.Node id=3624246685 lat=40.0730131 lon=-88.2900158>,\n",
       " <overpy.Node id=3624246686 lat=40.0730147 lon=-88.2858017>,\n",
       " <overpy.Node id=3624246687 lat=40.0730258 lon=-88.2885052>,\n",
       " <overpy.Node id=3624246688 lat=40.0730474 lon=-88.2884708>,\n",
       " <overpy.Node id=3624246689 lat=40.0730907 lon=-88.2886376>,\n",
       " <overpy.Node id=3624246690 lat=40.0730923 lon=-88.2854950>,\n",
       " <overpy.Node id=3624246691 lat=40.0730974 lon=-88.2946840>,\n",
       " <overpy.Node id=3624246692 lat=40.0731027 lon=-88.2948510>,\n",
       " <overpy.Node id=3624246693 lat=40.0731102 lon=-88.2862607>,\n",
       " <overpy.Node id=3624246694 lat=40.0731148 lon=-88.2857015>,\n",
       " <overpy.Node id=3624246695 lat=40.0731204 lon=-88.2945333>,\n",
       " <overpy.Node id=3624246696 lat=40.0731375 lon=-88.2898537>,\n",
       " <overpy.Node id=3624246697 lat=40.0731417 lon=-88.2932597>,\n",
       " <overpy.Node id=3624246698 lat=40.0731516 lon=-88.2944405>,\n",
       " <overpy.Node id=3624246699 lat=40.0731776 lon=-88.2883231>,\n",
       " <overpy.Node id=3624246700 lat=40.0731937 lon=-88.2865558>,\n",
       " <overpy.Node id=3624246701 lat=40.0731986 lon=-88.2931124>,\n",
       " <overpy.Node id=3624246702 lat=40.0732047 lon=-88.2946637>,\n",
       " <overpy.Node id=3624246703 lat=40.0732084 lon=-88.2862027>,\n",
       " <overpy.Node id=3624246704 lat=40.0732128 lon=-88.2947680>,\n",
       " <overpy.Node id=3624246705 lat=40.0732482 lon=-88.2866914>,\n",
       " <overpy.Node id=3624246706 lat=40.0732545 lon=-88.2945106>,\n",
       " <overpy.Node id=3624246707 lat=40.0732667 lon=-88.2851194>,\n",
       " <overpy.Node id=3624246708 lat=40.0732874 lon=-88.2899924>,\n",
       " <overpy.Node id=3624246709 lat=40.0732950 lon=-88.2884894>,\n",
       " <overpy.Node id=3624246710 lat=40.0733151 lon=-88.2943099>,\n",
       " <overpy.Node id=3624246711 lat=40.0733167 lon=-88.2865646>,\n",
       " <overpy.Node id=3624246712 lat=40.0733249 lon=-88.2944584>,\n",
       " <overpy.Node id=3624246713 lat=40.0733349 lon=-88.2869146>,\n",
       " <overpy.Node id=3624246714 lat=40.0733518 lon=-88.2932575>,\n",
       " <overpy.Node id=3624246715 lat=40.0734014 lon=-88.2898594>,\n",
       " <overpy.Node id=3624246716 lat=40.0734141 lon=-88.2849717>,\n",
       " <overpy.Node id=3624246717 lat=40.0734161 lon=-88.2885331>,\n",
       " <overpy.Node id=3624246718 lat=40.0734389 lon=-88.2944467>,\n",
       " <overpy.Node id=3624246719 lat=40.0734567 lon=-88.2943052>,\n",
       " <overpy.Node id=3624246720 lat=40.0735232 lon=-88.2932574>,\n",
       " <overpy.Node id=3624246721 lat=40.0735335 lon=-88.2931081>,\n",
       " <overpy.Node id=3624246722 lat=40.0735614 lon=-88.2871434>,\n",
       " <overpy.Node id=3624246723 lat=40.0735785 lon=-88.2900339>,\n",
       " <overpy.Node id=3624246724 lat=40.0735833 lon=-88.2898981>,\n",
       " <overpy.Node id=3624246725 lat=40.0736092 lon=-88.2875195>,\n",
       " <overpy.Node id=3624246726 lat=40.0736127 lon=-88.2932563>,\n",
       " <overpy.Node id=3624246727 lat=40.0736197 lon=-88.2851290>,\n",
       " <overpy.Node id=3624246728 lat=40.0736601 lon=-88.2873614>,\n",
       " <overpy.Node id=3624246729 lat=40.0736721 lon=-88.2849741>,\n",
       " <overpy.Node id=3624246730 lat=40.0736980 lon=-88.2898650>,\n",
       " <overpy.Node id=3624246731 lat=40.0737207 lon=-88.2931034>,\n",
       " <overpy.Node id=3624246732 lat=40.0737242 lon=-88.2875168>,\n",
       " <overpy.Node id=3624246733 lat=40.0737346 lon=-88.2849793>,\n",
       " <overpy.Node id=3624246734 lat=40.0737575 lon=-88.2886706>,\n",
       " <overpy.Node id=3624246735 lat=40.0737658 lon=-88.2905286>,\n",
       " <overpy.Node id=3624246736 lat=40.0737843 lon=-88.2903239>,\n",
       " <overpy.Node id=3624246737 lat=40.0737855 lon=-88.2885443>,\n",
       " <overpy.Node id=3624246738 lat=40.0738054 lon=-88.2879622>,\n",
       " <overpy.Node id=3624246739 lat=40.0738152 lon=-88.2911282>,\n",
       " <overpy.Node id=3624246740 lat=40.0738253 lon=-88.2877264>,\n",
       " <overpy.Node id=3624246741 lat=40.0738277 lon=-88.2897640>,\n",
       " <overpy.Node id=3624246742 lat=40.0738405 lon=-88.2899401>,\n",
       " <overpy.Node id=3624246743 lat=40.0738506 lon=-88.2852895>,\n",
       " <overpy.Node id=3624246744 lat=40.0738555 lon=-88.2932006>,\n",
       " <overpy.Node id=3624246745 lat=40.0738726 lon=-88.2913416>,\n",
       " <overpy.Node id=3624246746 lat=40.0738779 lon=-88.2855670>,\n",
       " <overpy.Node id=3624246747 lat=40.0738878 lon=-88.2909360>,\n",
       " <overpy.Node id=3624246748 lat=40.0738970 lon=-88.2897499>,\n",
       " <overpy.Node id=3624246749 lat=40.0738971 lon=-88.2899061>,\n",
       " <overpy.Node id=3624246750 lat=40.0739023 lon=-88.2878964>,\n",
       " <overpy.Node id=3624246751 lat=40.0739219 lon=-88.2916326>,\n",
       " <overpy.Node id=3624246752 lat=40.0739221 lon=-88.2858226>,\n",
       " <overpy.Node id=3624246753 lat=40.0739321 lon=-88.2883523>,\n",
       " <overpy.Node id=3624246754 lat=40.0739336 lon=-88.2930143>,\n",
       " <overpy.Node id=3624246755 lat=40.0739522 lon=-88.2897557>,\n",
       " <overpy.Node id=3624246756 lat=40.0739548 lon=-88.2852728>,\n",
       " <overpy.Node id=3624246757 lat=40.0739609 lon=-88.2912251>,\n",
       " <overpy.Node id=3624246758 lat=40.0739649 lon=-88.2880424>,\n",
       " <overpy.Node id=3624246759 lat=40.0739798 lon=-88.2899740>,\n",
       " <overpy.Node id=3624246760 lat=40.0739898 lon=-88.2916976>,\n",
       " <overpy.Node id=3624246761 lat=40.0739929 lon=-88.2855967>,\n",
       " <overpy.Node id=3624246762 lat=40.0740053 lon=-88.2902102>,\n",
       " <overpy.Node id=3624246763 lat=40.0740082 lon=-88.2881822>,\n",
       " <overpy.Node id=3624246764 lat=40.0740204 lon=-88.2851319>,\n",
       " <overpy.Node id=3624246765 lat=40.0740208 lon=-88.2897993>,\n",
       " <overpy.Node id=3624246766 lat=40.0740319 lon=-88.2931033>,\n",
       " <overpy.Node id=3624246767 lat=40.0740433 lon=-88.2862168>,\n",
       " <overpy.Node id=3624246768 lat=40.0740471 lon=-88.2929288>,\n",
       " <overpy.Node id=3624246769 lat=40.0740524 lon=-88.2884148>,\n",
       " <overpy.Node id=3624246770 lat=40.0740837 lon=-88.2849858>,\n",
       " <overpy.Node id=3624246771 lat=40.0740996 lon=-88.2914327>,\n",
       " <overpy.Node id=3624246772 lat=40.0741009 lon=-88.2899065>,\n",
       " <overpy.Node id=3624246773 lat=40.0741160 lon=-88.2930359>,\n",
       " <overpy.Node id=3624246774 lat=40.0741174 lon=-88.2851339>,\n",
       " <overpy.Node id=3624246775 lat=40.0741206 lon=-88.2860973>,\n",
       " <overpy.Node id=3624246776 lat=40.0741232 lon=-88.2916247>,\n",
       " <overpy.Node id=3624246777 lat=40.0741420 lon=-88.2928387>,\n",
       " <overpy.Node id=3624246778 lat=40.0741476 lon=-88.2864588>,\n",
       " <overpy.Node id=3624246779 lat=40.0741536 lon=-88.2885687>,\n",
       " <overpy.Node id=3624246780 lat=40.0741694 lon=-88.2849868>,\n",
       " <overpy.Node id=3624246781 lat=40.0741946 lon=-88.2887163>,\n",
       " <overpy.Node id=3624246782 lat=40.0742136 lon=-88.2863257>,\n",
       " <overpy.Node id=3624246783 lat=40.0742138 lon=-88.2927440>,\n",
       " <overpy.Node id=3624246784 lat=40.0742143 lon=-88.2901897>,\n",
       " <overpy.Node id=3624246785 lat=40.0742174 lon=-88.2866184>,\n",
       " <overpy.Node id=3624246786 lat=40.0742538 lon=-88.2928949>,\n",
       " <overpy.Node id=3624246787 lat=40.0742927 lon=-88.2926169>,\n",
       " <overpy.Node id=3624246788 lat=40.0743023 lon=-88.2885728>,\n",
       " <overpy.Node id=3624246789 lat=40.0743089 lon=-88.2849867>,\n",
       " <overpy.Node id=3624246790 lat=40.0743142 lon=-88.2902585>,\n",
       " <overpy.Node id=3624246791 lat=40.0743340 lon=-88.2865969>,\n",
       " <overpy.Node id=3624246792 lat=40.0743874 lon=-88.2849866>,\n",
       " <overpy.Node id=3624246793 lat=40.0743903 lon=-88.2903216>,\n",
       " <overpy.Node id=3624246794 lat=40.0743945 lon=-88.2904894>,\n",
       " <overpy.Node id=3624246795 lat=40.0744097 lon=-88.2887136>,\n",
       " <overpy.Node id=3624246796 lat=40.0744161 lon=-88.2885758>,\n",
       " <overpy.Node id=3624246797 lat=40.0744166 lon=-88.2867752>,\n",
       " <overpy.Node id=3624246798 lat=40.0744294 lon=-88.2926470>,\n",
       " <overpy.Node id=3624246799 lat=40.0744452 lon=-88.2851379>,\n",
       " <overpy.Node id=3624246800 lat=40.0744635 lon=-88.2849897>,\n",
       " <overpy.Node id=3624246801 lat=40.0744845 lon=-88.2872014>,\n",
       " <overpy.Node id=3624246802 lat=40.0744867 lon=-88.2887156>,\n",
       " <overpy.Node id=3624246803 lat=40.0745503 lon=-88.2873546>,\n",
       " <overpy.Node id=3624246804 lat=40.0745510 lon=-88.2906271>,\n",
       " <overpy.Node id=3624246805 lat=40.0745558 lon=-88.2904524>,\n",
       " <overpy.Node id=3624246806 lat=40.0745770 lon=-88.2871413>,\n",
       " <overpy.Node id=3624246807 lat=40.0745836 lon=-88.2885799>,\n",
       " <overpy.Node id=3624246808 lat=40.0746181 lon=-88.2907066>,\n",
       " <overpy.Node id=3624246809 lat=40.0746313 lon=-88.2875382>,\n",
       " <overpy.Node id=3624246810 lat=40.0746529 lon=-88.2876039>,\n",
       " <overpy.Node id=3624246811 lat=40.0746567 lon=-88.2851450>,\n",
       " <overpy.Node id=3624246812 lat=40.0746599 lon=-88.2849968>,\n",
       " <overpy.Node id=3624246813 lat=40.0746757 lon=-88.2873561>,\n",
       " <overpy.Node id=3624246814 lat=40.0746983 lon=-88.2887160>,\n",
       " <overpy.Node id=3624246815 lat=40.0747046 lon=-88.2874187>,\n",
       " <overpy.Node id=3624246816 lat=40.0747060 lon=-88.2905086>,\n",
       " <overpy.Node id=3624246817 lat=40.0747646 lon=-88.2922748>,\n",
       " <overpy.Node id=3624246818 lat=40.0747656 lon=-88.2904174>,\n",
       " <overpy.Node id=3624246819 lat=40.0747733 lon=-88.2909995>,\n",
       " <overpy.Node id=3624246820 lat=40.0747753 lon=-88.2880180>,\n",
       " <overpy.Node id=3624246821 lat=40.0748079 lon=-88.2882136>,\n",
       " <overpy.Node id=3624246822 lat=40.0748088 lon=-88.2903514>,\n",
       " <overpy.Node id=3624246823 lat=40.0748412 lon=-88.2893112>,\n",
       " <overpy.Node id=3624246824 lat=40.0748426 lon=-88.2889251>,\n",
       " <overpy.Node id=3624246825 lat=40.0748442 lon=-88.2892181>,\n",
       " <overpy.Node id=3624246826 lat=40.0748532 lon=-88.2894587>,\n",
       " <overpy.Node id=3624246827 lat=40.0748584 lon=-88.2914399>,\n",
       " <overpy.Node id=3624246828 lat=40.0748585 lon=-88.2916786>,\n",
       " <overpy.Node id=3624246829 lat=40.0748612 lon=-88.2909136>,\n",
       " <overpy.Node id=3624246830 lat=40.0748631 lon=-88.2919173>,\n",
       " <overpy.Node id=3624246831 lat=40.0748659 lon=-88.2851438>,\n",
       " <overpy.Node id=3624246832 lat=40.0748711 lon=-88.2895227>,\n",
       " <overpy.Node id=3624246833 lat=40.0748728 lon=-88.2921569>,\n",
       " <overpy.Node id=3624246834 lat=40.0748864 lon=-88.2926168>,\n",
       " <overpy.Node id=3624246835 lat=40.0748899 lon=-88.2849956>,\n",
       " <overpy.Node id=3624246836 lat=40.0748980 lon=-88.2880633>,\n",
       " <overpy.Node id=3624246837 lat=40.0749144 lon=-88.2896896>,\n",
       " <overpy.Node id=3624246838 lat=40.0749231 lon=-88.2911066>,\n",
       " <overpy.Node id=3624246839 lat=40.0749301 lon=-88.2882865>,\n",
       " <overpy.Node id=3624246840 lat=40.0749341 lon=-88.2903887>,\n",
       " <overpy.Node id=3624246841 lat=40.0749398 lon=-88.2884743>,\n",
       " <overpy.Node id=3624246842 lat=40.0749454 lon=-88.2888784>,\n",
       " <overpy.Node id=3624246843 lat=40.0749474 lon=-88.2901339>,\n",
       " <overpy.Node id=3624246844 lat=40.0749590 lon=-88.2894276>,\n",
       " <overpy.Node id=3624246845 lat=40.0749691 lon=-88.2914360>,\n",
       " <overpy.Node id=3624246846 lat=40.0749714 lon=-88.2916475>,\n",
       " <overpy.Node id=3624246847 lat=40.0749745 lon=-88.2920443>,\n",
       " <overpy.Node id=3624246848 lat=40.0749767 lon=-88.2918677>,\n",
       " <overpy.Node id=3624246849 lat=40.0749814 lon=-88.2923878>,\n",
       " <overpy.Node id=3624246850 lat=40.0749874 lon=-88.2925576>,\n",
       " <overpy.Node id=3624246851 lat=40.0749919 lon=-88.2895751>,\n",
       " <overpy.Node id=3624246852 lat=40.0749924 lon=-88.2929544>,\n",
       " <overpy.Node id=3624246853 lat=40.0750252 lon=-88.2930087>,\n",
       " <overpy.Node id=3624246854 lat=40.0750286 lon=-88.2851447>,\n",
       " <overpy.Node id=3624246855 lat=40.0750473 lon=-88.2887230>,\n",
       " <overpy.Node id=3624246856 lat=40.0750878 lon=-88.2930999>,\n",
       " <overpy.Node id=3624246857 lat=40.0750971 lon=-88.2929019>,\n",
       " <overpy.Node id=3624246858 lat=40.0752004 lon=-88.2900052>,\n",
       " <overpy.Node id=3624246859 lat=40.0752081 lon=-88.2850027>,\n",
       " <overpy.Node id=3624246860 lat=40.0752265 lon=-88.2932453>,\n",
       " <overpy.Node id=3624246861 lat=40.0752399 lon=-88.2899678>,\n",
       " <overpy.Node id=3624246862 lat=40.0752514 lon=-88.2851488>,\n",
       " <overpy.Node id=3624246863 lat=40.0752574 lon=-88.2931027>,\n",
       " <overpy.Node id=3624246864 lat=40.0752660 lon=-88.2885711>,\n",
       " <overpy.Node id=3624246865 lat=40.0753241 lon=-88.2899086>,\n",
       " <overpy.Node id=3624246866 lat=40.0753886 lon=-88.2931890>,\n",
       " <overpy.Node id=3624246867 lat=40.0754232 lon=-88.2898610>,\n",
       " <overpy.Node id=3624246868 lat=40.0754293 lon=-88.2850047>,\n",
       " <overpy.Node id=3624246869 lat=40.0754347 lon=-88.2897106>,\n",
       " <overpy.Node id=3624246870 lat=40.0754496 lon=-88.2886633>,\n",
       " <overpy.Node id=3624246871 lat=40.0754681 lon=-88.2933655>,\n",
       " <overpy.Node id=3624246872 lat=40.0754746 lon=-88.2851512>,\n",
       " <overpy.Node id=3624246873 lat=40.0755325 lon=-88.2884744>,\n",
       " <overpy.Node id=3624246874 lat=40.0755340 lon=-88.2932335>,\n",
       " <overpy.Node id=3624246875 lat=40.0755428 lon=-88.2898309>,\n",
       " <overpy.Node id=3624246876 lat=40.0755909 lon=-88.2928546>,\n",
       " <overpy.Node id=3624246877 lat=40.0755997 lon=-88.2925742>,\n",
       " <overpy.Node id=3624246878 lat=40.0756021 lon=-88.2930904>,\n",
       " <overpy.Node id=3624246879 lat=40.0756081 lon=-88.2847655>,\n",
       " <overpy.Node id=3624246880 lat=40.0756153 lon=-88.2924549>,\n",
       " <overpy.Node id=3624246881 lat=40.0756182 lon=-88.2902009>,\n",
       " <overpy.Node id=3624246882 lat=40.0756197 lon=-88.2900418>,\n",
       " <overpy.Node id=3624246883 lat=40.0756205 lon=-88.2904474>,\n",
       " <overpy.Node id=3624246884 lat=40.0756303 lon=-88.2885730>,\n",
       " <overpy.Node id=3624246885 lat=40.0756359 lon=-88.2896949>,\n",
       " <overpy.Node id=3624246886 lat=40.0756413 lon=-88.2922239>,\n",
       " <overpy.Node id=3624246887 lat=40.0756440 lon=-88.2933810>,\n",
       " <overpy.Node id=3624246888 lat=40.0756460 lon=-88.2907171>,\n",
       " <overpy.Node id=3624246889 lat=40.0756760 lon=-88.2855569>,\n",
       " <overpy.Node id=3624246890 lat=40.0756931 lon=-88.2910315>,\n",
       " <overpy.Node id=3624246891 lat=40.0757031 lon=-88.2929424>,\n",
       " <overpy.Node id=3624246892 lat=40.0757059 lon=-88.2926280>,\n",
       " <overpy.Node id=3624246893 lat=40.0757180 lon=-88.2931665>,\n",
       " <overpy.Node id=3624246894 lat=40.0757194 lon=-88.2916505>,\n",
       " <overpy.Node id=3624246895 lat=40.0757195 lon=-88.2883173>,\n",
       " <overpy.Node id=3624246896 lat=40.0757200 lon=-88.2913662>,\n",
       " <overpy.Node id=3624246897 lat=40.0757200 lon=-88.2924291>,\n",
       " <overpy.Node id=3624246898 lat=40.0757216 lon=-88.2915748>,\n",
       " <overpy.Node id=3624246899 lat=40.0757267 lon=-88.2847112>,\n",
       " <overpy.Node id=3624246900 lat=40.0757285 lon=-88.2900325>,\n",
       " <overpy.Node id=3624246901 lat=40.0757317 lon=-88.2905487>,\n",
       " <overpy.Node id=3624246902 lat=40.0757524 lon=-88.2854139>,\n",
       " <overpy.Node id=3624246903 lat=40.0757535 lon=-88.2922234>,\n",
       " <overpy.Node id=3624246904 lat=40.0757673 lon=-88.2885572>,\n",
       " <overpy.Node id=3624246905 lat=40.0757680 lon=-88.2922438>,\n",
       " <overpy.Node id=3624246906 lat=40.0757885 lon=-88.2920623>,\n",
       " <overpy.Node id=3624246907 lat=40.0758077 lon=-88.2882202>,\n",
       " <overpy.Node id=3624246908 lat=40.0758160 lon=-88.2918576>,\n",
       " <overpy.Node id=3624246909 lat=40.0758183 lon=-88.2911269>,\n",
       " <overpy.Node id=3624246910 lat=40.0758286 lon=-88.2916790>,\n",
       " <overpy.Node id=3624246911 lat=40.0758288 lon=-88.2913016>,\n",
       " <overpy.Node id=3624246912 lat=40.0758330 lon=-88.2914714>,\n",
       " <overpy.Node id=3624246913 lat=40.0758356 lon=-88.2850070>,\n",
       " <overpy.Node id=3624246914 lat=40.0758469 lon=-88.2896919>,\n",
       " <overpy.Node id=3624246915 lat=40.0758842 lon=-88.2898374>,\n",
       " <overpy.Node id=3624246916 lat=40.0758859 lon=-88.2883965>,\n",
       " <overpy.Node id=3624246917 lat=40.0758999 lon=-88.2932149>,\n",
       " <overpy.Node id=3624246918 lat=40.0759091 lon=-88.2883339>,\n",
       " <overpy.Node id=3624246919 lat=40.0759139 lon=-88.2884163>,\n",
       " <overpy.Node id=3624246920 lat=40.0759270 lon=-88.2861274>,\n",
       " <overpy.Node id=3624246921 lat=40.0759379 lon=-88.2883756>,\n",
       " <overpy.Node id=3624246922 lat=40.0759398 lon=-88.2858728>,\n",
       " <overpy.Node id=3624246923 lat=40.0759613 lon=-88.2885487>,\n",
       " <overpy.Node id=3624246924 lat=40.0759628 lon=-88.2883422>,\n",
       " <overpy.Node id=3624246925 lat=40.0759832 lon=-88.2862869>,\n",
       " <overpy.Node id=3624246926 lat=40.0759848 lon=-88.2882806>,\n",
       " <overpy.Node id=3624246927 lat=40.0759964 lon=-88.2941676>,\n",
       " <overpy.Node id=3624246928 lat=40.0760039 lon=-88.2878257>,\n",
       " <overpy.Node id=3624246929 lat=40.0760156 lon=-88.2851602>,\n",
       " <overpy.Node id=3624246930 lat=40.0760203 lon=-88.2933429>,\n",
       " <overpy.Node id=3624246931 lat=40.0760293 lon=-88.2943092>,\n",
       " <overpy.Node id=3624246932 lat=40.0760511 lon=-88.2876317>,\n",
       " <overpy.Node id=3624246933 lat=40.0760716 lon=-88.2869692>,\n",
       " <overpy.Node id=3624246934 lat=40.0760726 lon=-88.2873103>,\n",
       " <overpy.Node id=3624246935 lat=40.0760729 lon=-88.2881032>,\n",
       " <overpy.Node id=3624246936 lat=40.0760740 lon=-88.2868336>,\n",
       " <overpy.Node id=3624246937 lat=40.0760865 lon=-88.2879368>,\n",
       " <overpy.Node id=3624246938 lat=40.0760899 lon=-88.2897014>,\n",
       " <overpy.Node id=3624246939 lat=40.0761090 lon=-88.2943538>,\n",
       " <overpy.Node id=3624246940 lat=40.0761124 lon=-88.2934292>,\n",
       " <overpy.Node id=3624246993 lat=40.0769535 lon=-88.2648721>,\n",
       " <overpy.Node id=3624246994 lat=40.0769659 lon=-88.2703465>,\n",
       " <overpy.Node id=3624246995 lat=40.0769742 lon=-88.2674395>,\n",
       " <overpy.Node id=3624246996 lat=40.0769860 lon=-88.2993883>,\n",
       " <overpy.Node id=3624246997 lat=40.0769925 lon=-88.2705691>,\n",
       " <overpy.Node id=3624246998 lat=40.0769932 lon=-88.2898815>,\n",
       " <overpy.Node id=3624246999 lat=40.0769951 lon=-88.2688553>,\n",
       " <overpy.Node id=3624247000 lat=40.0769953 lon=-88.2992391>,\n",
       " <overpy.Node id=3624247001 lat=40.0769958 lon=-88.2637781>,\n",
       " <overpy.Node id=3624247002 lat=40.0770104 lon=-88.2581520>,\n",
       " <overpy.Node id=3624247003 lat=40.0770141 lon=-88.2625602>,\n",
       " <overpy.Node id=3624247004 lat=40.0770146 lon=-88.2930925>,\n",
       " <overpy.Node id=3624247005 lat=40.0770222 lon=-88.2699305>,\n",
       " <overpy.Node id=3624247006 lat=40.0770254 lon=-88.2678318>,\n",
       " <overpy.Node id=3624247007 lat=40.0770323 lon=-88.3001660>,\n",
       " <overpy.Node id=3624247008 lat=40.0770430 lon=-88.2900766>,\n",
       " <overpy.Node id=3624247009 lat=40.0770453 lon=-88.2878630>,\n",
       " <overpy.Node id=3624247010 lat=40.0770472 lon=-88.3000072>,\n",
       " <overpy.Node id=3624247011 lat=40.0770497 lon=-88.2882844>,\n",
       " <overpy.Node id=3624247012 lat=40.0770526 lon=-88.2637061>,\n",
       " <overpy.Node id=3624247013 lat=40.0770531 lon=-88.2649369>,\n",
       " <overpy.Node id=3624247014 lat=40.0770540 lon=-88.2885521>,\n",
       " <overpy.Node id=3624247015 lat=40.0770568 lon=-88.2886624>,\n",
       " <overpy.Node id=3624247016 lat=40.0770580 lon=-88.2889164>,\n",
       " <overpy.Node id=3624247017 lat=40.0770630 lon=-88.2892083>,\n",
       " <overpy.Node id=3624247018 lat=40.0770635 lon=-88.2686531>,\n",
       " <overpy.Node id=3624247019 lat=40.0770638 lon=-88.2894286>,\n",
       " <overpy.Node id=3624247020 lat=40.0770641 lon=-88.2963097>,\n",
       " <overpy.Node id=3624247021 lat=40.0770642 lon=-88.2966101>,\n",
       " <overpy.Node id=3624247022 lat=40.0770687 lon=-88.3002858>,\n",
       " <overpy.Node id=3624247023 lat=40.0770690 lon=-88.2969871>,\n",
       " <overpy.Node id=3624247024 lat=40.0770690 lon=-88.2998087>,\n",
       " <overpy.Node id=3624247025 lat=40.0770736 lon=-88.2995304>,\n",
       " <overpy.Node id=3624247026 lat=40.0770737 lon=-88.2972754>,\n",
       " <overpy.Node id=3624247027 lat=40.0770758 lon=-88.2896178>,\n",
       " <overpy.Node id=3624247028 lat=40.0770784 lon=-88.2975698>,\n",
       " <overpy.Node id=3624247029 lat=40.0770804 lon=-88.2991363>,\n",
       " <overpy.Node id=3624247030 lat=40.0770848 lon=-88.2981202>,\n",
       " <overpy.Node id=3624247031 lat=40.0770850 lon=-88.2988319>,\n",
       " <overpy.Node id=3624247032 lat=40.0770851 lon=-88.3019408>,\n",
       " <overpy.Node id=3624247033 lat=40.0770859 lon=-88.2590949>,\n",
       " <overpy.Node id=3624247034 lat=40.0770863 lon=-88.2589064>,\n",
       " <overpy.Node id=3624247035 lat=40.0770864 lon=-88.2984165>,\n",
       " <overpy.Node id=3624247036 lat=40.0770897 lon=-88.2587443>,\n",
       " <overpy.Node id=3624247037 lat=40.0770946 lon=-88.2659000>,\n",
       " <overpy.Node id=3624247038 lat=40.0770949 lon=-88.2584070>,\n",
       " <overpy.Node id=3624247039 lat=40.0770954 lon=-88.2657773>,\n",
       " <overpy.Node id=3624247040 lat=40.0770960 lon=-88.2653640>,\n",
       " <overpy.Node id=3624247041 lat=40.0770972 lon=-88.2658398>,\n",
       " <overpy.Node id=3624247042 lat=40.0771024 lon=-88.2960090>,\n",
       " <overpy.Node id=3624247043 lat=40.0771032 lon=-88.2585520>,\n",
       " <overpy.Node id=3624247044 lat=40.0771051 lon=-88.2581573>,\n",
       " <overpy.Node id=3624247045 lat=40.0771069 lon=-88.2875382>,\n",
       " <overpy.Node id=3624247046 lat=40.0771081 lon=-88.2898358>,\n",
       " <overpy.Node id=3624247047 lat=40.0771096 lon=-88.3010923>,\n",
       " <overpy.Node id=3624247048 lat=40.0771112 lon=-88.3013871>,\n",
       " <overpy.Node id=3624247049 lat=40.0771153 lon=-88.2902736>,\n",
       " <overpy.Node id=3624247050 lat=40.0771174 lon=-88.3016900>,\n",
       " <overpy.Node id=3624247051 lat=40.0771218 lon=-88.3007593>,\n",
       " <overpy.Node id=3624247052 lat=40.0771221 lon=-88.2943299>,\n",
       " <overpy.Node id=3624247053 lat=40.0771248 lon=-88.2937881>,\n",
       " <overpy.Node id=3624247054 lat=40.0771262 lon=-88.2940544>,\n",
       " <overpy.Node id=3624247055 lat=40.0771271 lon=-88.2899252>,\n",
       " <overpy.Node id=3624247056 lat=40.0771274 lon=-88.2934014>,\n",
       " <overpy.Node id=3624247057 lat=40.0771286 lon=-88.3001659>,\n",
       " <overpy.Node id=3624247058 lat=40.0771332 lon=-88.2959635>,\n",
       " <overpy.Node id=3624247059 lat=40.0771544 lon=-88.3003833>,\n",
       " <overpy.Node id=3624247060 lat=40.0771609 lon=-88.2710286>,\n",
       " <overpy.Node id=3624247061 lat=40.0771621 lon=-88.2928899>,\n",
       " <overpy.Node id=3624247062 lat=40.0771634 lon=-88.2581532>,\n",
       " <overpy.Node id=3624247063 lat=40.0771695 lon=-88.3005667>,\n",
       " <overpy.Node id=3624247064 lat=40.0771705 lon=-88.2962773>,\n",
       " <overpy.Node id=3624247065 lat=40.0771706 lon=-88.2964659>,\n",
       " <overpy.Node id=3624247066 lat=40.0771719 lon=-88.2582976>,\n",
       " <overpy.Node id=3624247067 lat=40.0771745 lon=-88.3019186>,\n",
       " <overpy.Node id=3624247068 lat=40.0771746 lon=-88.2629266>,\n",
       " <overpy.Node id=3624247069 lat=40.0771791 lon=-88.2684271>,\n",
       " <overpy.Node id=3624247070 lat=40.0771803 lon=-88.2967728>,\n",
       " <overpy.Node id=3624247071 lat=40.0771815 lon=-88.2970782>,\n",
       " <overpy.Node id=3624247072 lat=40.0771819 lon=-88.2635872>,\n",
       " <overpy.Node id=3624247073 lat=40.0771853 lon=-88.2975426>,\n",
       " <overpy.Node id=3624247074 lat=40.0771892 lon=-88.2712152>,\n",
       " <overpy.Node id=3624247075 lat=40.0771901 lon=-88.2927193>,\n",
       " <overpy.Node id=3624247076 lat=40.0771902 lon=-88.2978168>,\n",
       " <overpy.Node id=3624247077 lat=40.0771988 lon=-88.2987486>,\n",
       " <overpy.Node id=3624247078 lat=40.0771993 lon=-88.3001520>,\n",
       " <overpy.Node id=3624247079 lat=40.0772001 lon=-88.2990323>,\n",
       " <overpy.Node id=3624247080 lat=40.0772038 lon=-88.3019588>,\n",
       " <overpy.Node id=3624247081 lat=40.0772050 lon=-88.2713834>,\n",
       " <overpy.Node id=3624247082 lat=40.0772066 lon=-88.2874009>,\n",
       " <overpy.Node id=3624247083 lat=40.0772116 lon=-88.2901846>,\n",
       " <overpy.Node id=3624247084 lat=40.0772164 lon=-88.3002579>,\n",
       " <overpy.Node id=3624247085 lat=40.0772164 lon=-88.3010502>,\n",
       " <overpy.Node id=3624247086 lat=40.0772166 lon=-88.2904838>,\n",
       " <overpy.Node id=3624247087 lat=40.0772246 lon=-88.3014635>,\n",
       " <overpy.Node id=3624247088 lat=40.0772257 lon=-88.2925369>,\n",
       " <overpy.Node id=3624247089 lat=40.0772261 lon=-88.2603321>,\n",
       " <overpy.Node id=3624247090 lat=40.0772371 lon=-88.2946199>,\n",
       " <overpy.Node id=3624247091 lat=40.0772383 lon=-88.2939121>,\n",
       " <overpy.Node id=3624247092 lat=40.0772384 lon=-88.2942806>,\n",
       " <overpy.Node id=3624247093 lat=40.0772399 lon=-88.2944885>,\n",
       " <overpy.Node id=3624247094 lat=40.0772442 lon=-88.2875418>,\n",
       " <overpy.Node id=3624247095 lat=40.0772511 lon=-88.2708948>,\n",
       " <overpy.Node id=3624247096 lat=40.0772565 lon=-88.2924128>,\n",
       " <overpy.Node id=3624247097 lat=40.0772657 lon=-88.2631337>,\n",
       " <overpy.Node id=3624247098 lat=40.0772726 lon=-88.2903250>,\n",
       " <overpy.Node id=3624247099 lat=40.0772852 lon=-88.2581584>,\n",
       " <overpy.Node id=3624247100 lat=40.0772882 lon=-88.2928524>,\n",
       " <overpy.Node id=3624247101 lat=40.0772964 lon=-88.2922669>,\n",
       " <overpy.Node id=3624247102 lat=40.0773050 lon=-88.2927448>,\n",
       " <overpy.Node id=3624247103 lat=40.0773057 lon=-88.2960591>,\n",
       " <overpy.Node id=3624247104 lat=40.0773090 lon=-88.2684411>,\n",
       " <overpy.Node id=3624247105 lat=40.0773200 lon=-88.2973580>,\n",
       " <overpy.Node id=3624247106 lat=40.0773221 lon=-88.2634837>,\n",
       " <overpy.Node id=3624247107 lat=40.0773274 lon=-88.2926271>,\n",
       " <overpy.Node id=3624247108 lat=40.0773330 lon=-88.2632780>,\n",
       " <overpy.Node id=3624247109 lat=40.0773455 lon=-88.2925478>,\n",
       " <overpy.Node id=3624247110 lat=40.0773469 lon=-88.2601720>,\n",
       " <overpy.Node id=3624247111 lat=40.0773616 lon=-88.2924875>,\n",
       " <overpy.Node id=3624247112 lat=40.0773646 lon=-88.2908585>,\n",
       " <overpy.Node id=3624247113 lat=40.0773679 lon=-88.2583145>,\n",
       " <overpy.Node id=3624247114 lat=40.0773706 lon=-88.2581570>,\n",
       " <overpy.Node id=3624247115 lat=40.0773706 lon=-88.2920324>,\n",
       " <overpy.Node id=3624247116 lat=40.0773874 lon=-88.2919686>,\n",
       " <overpy.Node id=3624247117 lat=40.0773928 lon=-88.2599227>,\n",
       " <overpy.Node id=3624247118 lat=40.0773936 lon=-88.2708969>,\n",
       " <overpy.Node id=3624247119 lat=40.0774057 lon=-88.2923279>,\n",
       " <overpy.Node id=3624247120 lat=40.0774168 lon=-88.3004541>,\n",
       " <overpy.Node id=3624247121 lat=40.0774186 lon=-88.2911002>,\n",
       " <overpy.Node id=3624247122 lat=40.0774302 lon=-88.2922485>,\n",
       " <overpy.Node id=3624247123 lat=40.0774367 lon=-88.2916743>,\n",
       " <overpy.Node id=3624247124 lat=40.0774399 lon=-88.3003549>,\n",
       " <overpy.Node id=3624247125 lat=40.0774478 lon=-88.2913861>,\n",
       " <overpy.Node id=3624247126 lat=40.0774478 lon=-88.2914792>,\n",
       " <overpy.Node id=3624247127 lat=40.0774560 lon=-88.2931558>,\n",
       " <overpy.Node id=3624247128 lat=40.0774563 lon=-88.2600539>,\n",
       " <overpy.Node id=3624247129 lat=40.0774677 lon=-88.2679656>,\n",
       " <overpy.Node id=3624247130 lat=40.0774843 lon=-88.3020729>,\n",
       " <overpy.Node id=3624247131 lat=40.0774876 lon=-88.2960637>,\n",
       " <overpy.Node id=3624247132 lat=40.0774959 lon=-88.2583089>,\n",
       " <overpy.Node id=3624247133 lat=40.0774999 lon=-88.3004008>,\n",
       " <overpy.Node id=3624247134 lat=40.0775000 lon=-88.2972074>,\n",
       " <overpy.Node id=3624247135 lat=40.0775060 lon=-88.2905201>,\n",
       " <overpy.Node id=3624247136 lat=40.0775126 lon=-88.2598067>,\n",
       " <overpy.Node id=3624247137 lat=40.0775128 lon=-88.2909606>,\n",
       " <overpy.Node id=3624247138 lat=40.0775206 lon=-88.2874043>,\n",
       " <overpy.Node id=3624247139 lat=40.0775307 lon=-88.2910454>,\n",
       " <overpy.Node id=3624247140 lat=40.0775426 lon=-88.2583107>,\n",
       " <overpy.Node id=3624247141 lat=40.0775526 lon=-88.2906541>,\n",
       " <overpy.Node id=3624247142 lat=40.0775640 lon=-88.2959231>,\n",
       " <overpy.Node id=3624247143 lat=40.0775653 lon=-88.2581608>,\n",
       " <overpy.Node id=3624247144 lat=40.0775775 lon=-88.2708999>,\n",
       " <overpy.Node id=3624247145 lat=40.0775887 lon=-88.2583066>,\n",
       " <overpy.Node id=3624247146 lat=40.0776313 lon=-88.3019669>,\n",
       " <overpy.Node id=3624247147 lat=40.0776352 lon=-88.2632201>,\n",
       " <overpy.Node id=3624247148 lat=40.0776375 lon=-88.2598718>,\n",
       " <overpy.Node id=3624247149 lat=40.0776409 lon=-88.2915497>,\n",
       " <overpy.Node id=3624247150 lat=40.0776436 lon=-88.2875452>,\n",
       " <overpy.Node id=3624247151 lat=40.0776454 lon=-88.2707499>,\n",
       " <overpy.Node id=3624247152 lat=40.0776570 lon=-88.2904671>,\n",
       " <overpy.Node id=3624247153 lat=40.0776600 lon=-88.2581662>,\n",
       " <overpy.Node id=3624247154 lat=40.0776707 lon=-88.2634005>,\n",
       " <overpy.Node id=3624247155 lat=40.0776781 lon=-88.2959248>,\n",
       " <overpy.Node id=3624247156 lat=40.0776802 lon=-88.2934220>,\n",
       " <overpy.Node id=3624247157 lat=40.0776871 lon=-88.3005340>,\n",
       " <overpy.Node id=3624247158 lat=40.0777039 lon=-88.2598071>,\n",
       " <overpy.Node id=3624247159 lat=40.0777277 lon=-88.2583074>,\n",
       " <overpy.Node id=3624247160 lat=40.0777384 lon=-88.2675572>,\n",
       " <overpy.Node id=3624247161 lat=40.0777414 lon=-88.2960697>,\n",
       " <overpy.Node id=3624247162 lat=40.0777462 lon=-88.2874042>,\n",
       " <overpy.Node id=3624247163 lat=40.0777465 lon=-88.3019926>,\n",
       " <overpy.Node id=3624247164 lat=40.0777540 lon=-88.2709030>,\n",
       " <overpy.Node id=3624247165 lat=40.0777578 lon=-88.3005869>,\n",
       " <overpy.Node id=3624247166 lat=40.0777681 lon=-88.2888084>,\n",
       " <overpy.Node id=3624247167 lat=40.0777681 lon=-88.2889598>,\n",
       " <overpy.Node id=3624247168 lat=40.0777739 lon=-88.2892790>,\n",
       " <overpy.Node id=3624247169 lat=40.0777756 lon=-88.2640687>,\n",
       " <overpy.Node id=3624247170 lat=40.0777782 lon=-88.2895763>,\n",
       " <overpy.Node id=3624247171 lat=40.0777823 lon=-88.2875524>,\n",
       " <overpy.Node id=3624247172 lat=40.0777853 lon=-88.2933307>,\n",
       " <overpy.Node id=3624247173 lat=40.0777871 lon=-88.2581538>,\n",
       " <overpy.Node id=3624247174 lat=40.0777945 lon=-88.2971839>,\n",
       " <overpy.Node id=3624247175 lat=40.0777965 lon=-88.2630944>,\n",
       " <overpy.Node id=3624247176 lat=40.0778014 lon=-88.2916764>,\n",
       " <overpy.Node id=3624247177 lat=40.0778036 lon=-88.2935150>,\n",
       " <overpy.Node id=3624247178 lat=40.0778154 lon=-88.2898107>,\n",
       " <overpy.Node id=3624247179 lat=40.0778268 lon=-88.2707476>,\n",
       " <overpy.Node id=3624247180 lat=40.0778281 lon=-88.2583001>,\n",
       " <overpy.Node id=3624247181 lat=40.0778353 lon=-88.2594277>,\n",
       " <overpy.Node id=3624247182 lat=40.0778470 lon=-88.2933800>,\n",
       " <overpy.Node id=3624247183 lat=40.0778476 lon=-88.2596434>,\n",
       " <overpy.Node id=3624247184 lat=40.0778484 lon=-88.2583292>,\n",
       " <overpy.Node id=3624247185 lat=40.0778670 lon=-88.2632573>,\n",
       " <overpy.Node id=3624247186 lat=40.0778679 lon=-88.2905427>,\n",
       " <overpy.Node id=3624247187 lat=40.0778713 lon=-88.2583059>,\n",
       " <overpy.Node id=3624247188 lat=40.0778757 lon=-88.3021430>,\n",
       " <overpy.Node id=3624247189 lat=40.0778781 lon=-88.2671867>,\n",
       " <overpy.Node id=3624247190 lat=40.0778857 lon=-88.2708888>,\n",
       " <overpy.Node id=3624247191 lat=40.0778914 lon=-88.2916545>,\n",
       " <overpy.Node id=3624247192 lat=40.0778916 lon=-88.2875468>,\n",
       " ...]"
      ]
     },
     "execution_count": 2,
     "metadata": {},
     "output_type": "execute_result"
    }
   ],
   "source": [
    "[x for x in r.nodes]"
   ]
  },
  {
   "cell_type": "code",
   "execution_count": 3,
   "metadata": {},
   "outputs": [
    {
     "data": {
      "text/plain": [
       "22000"
      ]
     },
     "execution_count": 3,
     "metadata": {},
     "output_type": "execute_result"
    }
   ],
   "source": [
    "len(r.nodes)"
   ]
  },
  {
   "cell_type": "markdown",
   "metadata": {
    "slideshow": {
     "slide_type": "slide"
    }
   },
   "source": [
    "Each of these nodes is a tree with information:"
   ]
  },
  {
   "cell_type": "code",
   "execution_count": 9,
   "metadata": {
    "slideshow": {
     "slide_type": "-"
    }
   },
   "outputs": [
    {
     "data": {
      "text/plain": [
       "{'natural': 'tree', 'species': 'Pinus strobus'}"
      ]
     },
     "execution_count": 9,
     "metadata": {},
     "output_type": "execute_result"
    }
   ],
   "source": [
    "r.nodes[56].tags"
   ]
  },
  {
   "cell_type": "markdown",
   "metadata": {
    "slideshow": {
     "slide_type": "slide"
    }
   },
   "source": [
    "#### Finding Restaurants\n",
    "What about all of the restaurants in the area?"
   ]
  },
  {
   "cell_type": "code",
   "execution_count": 10,
   "metadata": {
    "slideshow": {
     "slide_type": "-"
    }
   },
   "outputs": [],
   "source": [
    "r = api.query(\"\"\"\n",
    "node(40.03602, -88.32493, 40.17404, -88.1076)\n",
    "    [\"amenity\"=\"restaurant\"];\n",
    "out;\n",
    "\"\"\")"
   ]
  },
  {
   "cell_type": "markdown",
   "metadata": {
    "slideshow": {
     "slide_type": "slide"
    }
   },
   "source": [
    "Each node looks like this"
   ]
  },
  {
   "cell_type": "code",
   "execution_count": 11,
   "metadata": {
    "scrolled": true,
    "slideshow": {
     "slide_type": "-"
    }
   },
   "outputs": [
    {
     "data": {
      "text/plain": [
       "<overpy.Node id=287470185 lat=40.1125742 lon=-88.2095509>"
      ]
     },
     "execution_count": 11,
     "metadata": {},
     "output_type": "execute_result"
    }
   ],
   "source": [
    "r.nodes[0]"
   ]
  },
  {
   "cell_type": "markdown",
   "metadata": {
    "slideshow": {
     "slide_type": "-"
    }
   },
   "source": [
    "Each of these nodes has a tag"
   ]
  },
  {
   "cell_type": "code",
   "execution_count": 12,
   "metadata": {
    "slideshow": {
     "slide_type": "-"
    }
   },
   "outputs": [
    {
     "data": {
      "text/plain": [
       "{'addr:city': 'Urbana',\n",
       " 'addr:housename': 'The Channing Murray Foundation',\n",
       " 'addr:housenumber': '1209',\n",
       " 'addr:postcode': '61801',\n",
       " 'addr:street': 'W. Oregon Street, Urbana, Illinois',\n",
       " 'amenity': 'restaurant',\n",
       " 'contact:facebook': 'https://www.facebook.com/RedHerringVegetarianRestaurant/',\n",
       " 'contact:instagram': 'https://www.instagram.com/redherringrestaurant/',\n",
       " 'contact:website': 'https://www.redherringlove.com',\n",
       " 'cuisine': 'international',\n",
       " 'diet:vegan': 'only',\n",
       " 'diet:vegetarian': 'only',\n",
       " 'name': 'The Red Herring',\n",
       " 'opening_hours': 'Mo-Fr 11:00-14:30; We 17:00-20:00'}"
      ]
     },
     "execution_count": 12,
     "metadata": {},
     "output_type": "execute_result"
    }
   ],
   "source": [
    "r.nodes[11].tags"
   ]
  },
  {
   "cell_type": "markdown",
   "metadata": {
    "slideshow": {
     "slide_type": "slide"
    }
   },
   "source": [
    "I can make a dataframe from these tags, one row at a time."
   ]
  },
  {
   "cell_type": "code",
   "execution_count": 13,
   "metadata": {
    "slideshow": {
     "slide_type": "-"
    }
   },
   "outputs": [
    {
     "data": {
      "text/html": [
       "<div>\n",
       "<style scoped>\n",
       "    .dataframe tbody tr th:only-of-type {\n",
       "        vertical-align: middle;\n",
       "    }\n",
       "\n",
       "    .dataframe tbody tr th {\n",
       "        vertical-align: top;\n",
       "    }\n",
       "\n",
       "    .dataframe thead th {\n",
       "        text-align: right;\n",
       "    }\n",
       "</style>\n",
       "<table border=\"1\" class=\"dataframe\">\n",
       "  <thead>\n",
       "    <tr style=\"text-align: right;\">\n",
       "      <th></th>\n",
       "      <th>addr:city</th>\n",
       "      <th>addr:housename</th>\n",
       "      <th>addr:housenumber</th>\n",
       "      <th>addr:postcode</th>\n",
       "      <th>addr:street</th>\n",
       "      <th>amenity</th>\n",
       "      <th>contact:facebook</th>\n",
       "      <th>contact:instagram</th>\n",
       "      <th>contact:website</th>\n",
       "      <th>cuisine</th>\n",
       "      <th>diet:vegan</th>\n",
       "      <th>diet:vegetarian</th>\n",
       "      <th>name</th>\n",
       "      <th>opening_hours</th>\n",
       "    </tr>\n",
       "  </thead>\n",
       "  <tbody>\n",
       "    <tr>\n",
       "      <th>0</th>\n",
       "      <td>Urbana</td>\n",
       "      <td>The Channing Murray Foundation</td>\n",
       "      <td>1209</td>\n",
       "      <td>61801</td>\n",
       "      <td>W. Oregon Street, Urbana, Illinois</td>\n",
       "      <td>restaurant</td>\n",
       "      <td>https://www.facebook.com/RedHerringVegetarianR...</td>\n",
       "      <td>https://www.instagram.com/redherringrestaurant/</td>\n",
       "      <td>https://www.redherringlove.com</td>\n",
       "      <td>international</td>\n",
       "      <td>only</td>\n",
       "      <td>only</td>\n",
       "      <td>The Red Herring</td>\n",
       "      <td>Mo-Fr 11:00-14:30; We 17:00-20:00</td>\n",
       "    </tr>\n",
       "  </tbody>\n",
       "</table>\n",
       "</div>"
      ],
      "text/plain": [
       "  addr:city                  addr:housename addr:housenumber addr:postcode  \\\n",
       "0    Urbana  The Channing Murray Foundation             1209         61801   \n",
       "\n",
       "                          addr:street     amenity  \\\n",
       "0  W. Oregon Street, Urbana, Illinois  restaurant   \n",
       "\n",
       "                                    contact:facebook  \\\n",
       "0  https://www.facebook.com/RedHerringVegetarianR...   \n",
       "\n",
       "                                 contact:instagram  \\\n",
       "0  https://www.instagram.com/redherringrestaurant/   \n",
       "\n",
       "                  contact:website        cuisine diet:vegan diet:vegetarian  \\\n",
       "0  https://www.redherringlove.com  international       only            only   \n",
       "\n",
       "              name                      opening_hours  \n",
       "0  The Red Herring  Mo-Fr 11:00-14:30; We 17:00-20:00  "
      ]
     },
     "execution_count": 13,
     "metadata": {},
     "output_type": "execute_result"
    }
   ],
   "source": [
    "pd.DataFrame(r.nodes[11].tags,index=[0])"
   ]
  },
  {
   "cell_type": "markdown",
   "metadata": {
    "slideshow": {
     "slide_type": "slide"
    }
   },
   "source": [
    "Get a list of these rows with a list comprehension."
   ]
  },
  {
   "cell_type": "code",
   "execution_count": 14,
   "metadata": {
    "slideshow": {
     "slide_type": "-"
    }
   },
   "outputs": [],
   "source": [
    "DFs = [pd.DataFrame(r.nodes[x].tags,index=[0]) \\\n",
    "       for x in range(len(r.nodes))]"
   ]
  },
  {
   "cell_type": "markdown",
   "metadata": {
    "slideshow": {
     "slide_type": "-"
    }
   },
   "source": [
    "Now concatenate them together:"
   ]
  },
  {
   "cell_type": "code",
   "execution_count": 15,
   "metadata": {
    "slideshow": {
     "slide_type": "-"
    }
   },
   "outputs": [],
   "source": [
    "rest_df = pd.concat(DFs,axis=0)"
   ]
  },
  {
   "cell_type": "code",
   "execution_count": 16,
   "metadata": {
    "slideshow": {
     "slide_type": "slide"
    }
   },
   "outputs": [
    {
     "data": {
      "text/html": [
       "<div>\n",
       "<style scoped>\n",
       "    .dataframe tbody tr th:only-of-type {\n",
       "        vertical-align: middle;\n",
       "    }\n",
       "\n",
       "    .dataframe tbody tr th {\n",
       "        vertical-align: top;\n",
       "    }\n",
       "\n",
       "    .dataframe thead th {\n",
       "        text-align: right;\n",
       "    }\n",
       "</style>\n",
       "<table border=\"1\" class=\"dataframe\">\n",
       "  <thead>\n",
       "    <tr style=\"text-align: right;\">\n",
       "      <th></th>\n",
       "      <th>amenity</th>\n",
       "      <th>cuisine</th>\n",
       "      <th>name</th>\n",
       "      <th>contact:phone</th>\n",
       "      <th>contact:website</th>\n",
       "      <th>opening_hours</th>\n",
       "      <th>addr:city</th>\n",
       "      <th>addr:housenumber</th>\n",
       "      <th>addr:postcode</th>\n",
       "      <th>addr:state</th>\n",
       "      <th>...</th>\n",
       "      <th>takeaway</th>\n",
       "      <th>alt_name</th>\n",
       "      <th>amenity_1</th>\n",
       "      <th>bar</th>\n",
       "      <th>shop_1</th>\n",
       "      <th>name:en</th>\n",
       "      <th>brand:website</th>\n",
       "      <th>diet:dairy_free</th>\n",
       "      <th>diet:nut_free</th>\n",
       "      <th>email</th>\n",
       "    </tr>\n",
       "  </thead>\n",
       "  <tbody>\n",
       "    <tr>\n",
       "      <th>0</th>\n",
       "      <td>restaurant</td>\n",
       "      <td>thai</td>\n",
       "      <td>Siam Terrace</td>\n",
       "      <td>NaN</td>\n",
       "      <td>NaN</td>\n",
       "      <td>NaN</td>\n",
       "      <td>NaN</td>\n",
       "      <td>NaN</td>\n",
       "      <td>NaN</td>\n",
       "      <td>NaN</td>\n",
       "      <td>...</td>\n",
       "      <td>NaN</td>\n",
       "      <td>NaN</td>\n",
       "      <td>NaN</td>\n",
       "      <td>NaN</td>\n",
       "      <td>NaN</td>\n",
       "      <td>NaN</td>\n",
       "      <td>NaN</td>\n",
       "      <td>NaN</td>\n",
       "      <td>NaN</td>\n",
       "      <td>NaN</td>\n",
       "    </tr>\n",
       "    <tr>\n",
       "      <th>0</th>\n",
       "      <td>restaurant</td>\n",
       "      <td>NaN</td>\n",
       "      <td>Houlihan's</td>\n",
       "      <td>+1 217 8195005</td>\n",
       "      <td>http://www.houlihans.com/my-houlihans/champaign</td>\n",
       "      <td>Su-Th 11:00-22:00;Fr 11:00-23:00;Sa 07:00-23:0...</td>\n",
       "      <td>NaN</td>\n",
       "      <td>NaN</td>\n",
       "      <td>NaN</td>\n",
       "      <td>NaN</td>\n",
       "      <td>...</td>\n",
       "      <td>NaN</td>\n",
       "      <td>NaN</td>\n",
       "      <td>NaN</td>\n",
       "      <td>NaN</td>\n",
       "      <td>NaN</td>\n",
       "      <td>NaN</td>\n",
       "      <td>NaN</td>\n",
       "      <td>NaN</td>\n",
       "      <td>NaN</td>\n",
       "      <td>NaN</td>\n",
       "    </tr>\n",
       "    <tr>\n",
       "      <th>0</th>\n",
       "      <td>restaurant</td>\n",
       "      <td>asian</td>\n",
       "      <td>Spicy Tang</td>\n",
       "      <td>NaN</td>\n",
       "      <td>NaN</td>\n",
       "      <td>Mo-Su 11:00-21:00</td>\n",
       "      <td>Champaign</td>\n",
       "      <td>607</td>\n",
       "      <td>61801</td>\n",
       "      <td>IL</td>\n",
       "      <td>...</td>\n",
       "      <td>NaN</td>\n",
       "      <td>NaN</td>\n",
       "      <td>NaN</td>\n",
       "      <td>NaN</td>\n",
       "      <td>NaN</td>\n",
       "      <td>NaN</td>\n",
       "      <td>NaN</td>\n",
       "      <td>NaN</td>\n",
       "      <td>NaN</td>\n",
       "      <td>NaN</td>\n",
       "    </tr>\n",
       "    <tr>\n",
       "      <th>0</th>\n",
       "      <td>restaurant</td>\n",
       "      <td>middle_eastern</td>\n",
       "      <td>Jerusalem Restaurant</td>\n",
       "      <td>NaN</td>\n",
       "      <td>NaN</td>\n",
       "      <td>NaN</td>\n",
       "      <td>Champaign</td>\n",
       "      <td>601</td>\n",
       "      <td>61820</td>\n",
       "      <td>IL</td>\n",
       "      <td>...</td>\n",
       "      <td>NaN</td>\n",
       "      <td>NaN</td>\n",
       "      <td>NaN</td>\n",
       "      <td>NaN</td>\n",
       "      <td>NaN</td>\n",
       "      <td>NaN</td>\n",
       "      <td>NaN</td>\n",
       "      <td>NaN</td>\n",
       "      <td>NaN</td>\n",
       "      <td>NaN</td>\n",
       "    </tr>\n",
       "    <tr>\n",
       "      <th>0</th>\n",
       "      <td>restaurant</td>\n",
       "      <td>korean</td>\n",
       "      <td>Ar-Ri-Rang</td>\n",
       "      <td>NaN</td>\n",
       "      <td>NaN</td>\n",
       "      <td>NaN</td>\n",
       "      <td>NaN</td>\n",
       "      <td>NaN</td>\n",
       "      <td>NaN</td>\n",
       "      <td>NaN</td>\n",
       "      <td>...</td>\n",
       "      <td>NaN</td>\n",
       "      <td>NaN</td>\n",
       "      <td>NaN</td>\n",
       "      <td>NaN</td>\n",
       "      <td>NaN</td>\n",
       "      <td>NaN</td>\n",
       "      <td>NaN</td>\n",
       "      <td>NaN</td>\n",
       "      <td>NaN</td>\n",
       "      <td>NaN</td>\n",
       "    </tr>\n",
       "    <tr>\n",
       "      <th>...</th>\n",
       "      <td>...</td>\n",
       "      <td>...</td>\n",
       "      <td>...</td>\n",
       "      <td>...</td>\n",
       "      <td>...</td>\n",
       "      <td>...</td>\n",
       "      <td>...</td>\n",
       "      <td>...</td>\n",
       "      <td>...</td>\n",
       "      <td>...</td>\n",
       "      <td>...</td>\n",
       "      <td>...</td>\n",
       "      <td>...</td>\n",
       "      <td>...</td>\n",
       "      <td>...</td>\n",
       "      <td>...</td>\n",
       "      <td>...</td>\n",
       "      <td>...</td>\n",
       "      <td>...</td>\n",
       "      <td>...</td>\n",
       "      <td>...</td>\n",
       "    </tr>\n",
       "    <tr>\n",
       "      <th>0</th>\n",
       "      <td>restaurant</td>\n",
       "      <td>chinese</td>\n",
       "      <td>Rice Bowl</td>\n",
       "      <td>NaN</td>\n",
       "      <td>NaN</td>\n",
       "      <td>Mo-Sa 11:00-21:00</td>\n",
       "      <td>Champaign</td>\n",
       "      <td>625</td>\n",
       "      <td>61820</td>\n",
       "      <td>IL</td>\n",
       "      <td>...</td>\n",
       "      <td>NaN</td>\n",
       "      <td>NaN</td>\n",
       "      <td>NaN</td>\n",
       "      <td>NaN</td>\n",
       "      <td>NaN</td>\n",
       "      <td>NaN</td>\n",
       "      <td>NaN</td>\n",
       "      <td>NaN</td>\n",
       "      <td>NaN</td>\n",
       "      <td>NaN</td>\n",
       "    </tr>\n",
       "    <tr>\n",
       "      <th>0</th>\n",
       "      <td>restaurant</td>\n",
       "      <td>NaN</td>\n",
       "      <td>C-U La La Noodle</td>\n",
       "      <td>NaN</td>\n",
       "      <td>NaN</td>\n",
       "      <td>Mo-Su 11:00-20:30</td>\n",
       "      <td>NaN</td>\n",
       "      <td>NaN</td>\n",
       "      <td>NaN</td>\n",
       "      <td>NaN</td>\n",
       "      <td>...</td>\n",
       "      <td>NaN</td>\n",
       "      <td>NaN</td>\n",
       "      <td>NaN</td>\n",
       "      <td>NaN</td>\n",
       "      <td>NaN</td>\n",
       "      <td>NaN</td>\n",
       "      <td>NaN</td>\n",
       "      <td>NaN</td>\n",
       "      <td>NaN</td>\n",
       "      <td>NaN</td>\n",
       "    </tr>\n",
       "    <tr>\n",
       "      <th>0</th>\n",
       "      <td>restaurant</td>\n",
       "      <td>mediterranean</td>\n",
       "      <td>Shawarma Joint</td>\n",
       "      <td>NaN</td>\n",
       "      <td>NaN</td>\n",
       "      <td>Mo-Sa 11:00-22:00; Su 12:00-21:00</td>\n",
       "      <td>Champaign</td>\n",
       "      <td>627</td>\n",
       "      <td>61820</td>\n",
       "      <td>IL</td>\n",
       "      <td>...</td>\n",
       "      <td>NaN</td>\n",
       "      <td>NaN</td>\n",
       "      <td>NaN</td>\n",
       "      <td>NaN</td>\n",
       "      <td>NaN</td>\n",
       "      <td>NaN</td>\n",
       "      <td>NaN</td>\n",
       "      <td>NaN</td>\n",
       "      <td>NaN</td>\n",
       "      <td>NaN</td>\n",
       "    </tr>\n",
       "    <tr>\n",
       "      <th>0</th>\n",
       "      <td>restaurant</td>\n",
       "      <td>mexican</td>\n",
       "      <td>El Toro Bravo</td>\n",
       "      <td>NaN</td>\n",
       "      <td>NaN</td>\n",
       "      <td>NaN</td>\n",
       "      <td>Champaign</td>\n",
       "      <td>2561</td>\n",
       "      <td>61821</td>\n",
       "      <td>IL</td>\n",
       "      <td>...</td>\n",
       "      <td>NaN</td>\n",
       "      <td>NaN</td>\n",
       "      <td>NaN</td>\n",
       "      <td>NaN</td>\n",
       "      <td>NaN</td>\n",
       "      <td>NaN</td>\n",
       "      <td>NaN</td>\n",
       "      <td>NaN</td>\n",
       "      <td>NaN</td>\n",
       "      <td>NaN</td>\n",
       "    </tr>\n",
       "    <tr>\n",
       "      <th>0</th>\n",
       "      <td>restaurant</td>\n",
       "      <td>chinese</td>\n",
       "      <td>Lao Sze Chuan Chinese Restaurant and Bar</td>\n",
       "      <td>NaN</td>\n",
       "      <td>NaN</td>\n",
       "      <td>Su -Th 11:00-21:00; Fr,Sa 11:00-21:30; Feb Mo[...</td>\n",
       "      <td>Champaing</td>\n",
       "      <td>608</td>\n",
       "      <td>61820</td>\n",
       "      <td>IL</td>\n",
       "      <td>...</td>\n",
       "      <td>NaN</td>\n",
       "      <td>NaN</td>\n",
       "      <td>NaN</td>\n",
       "      <td>NaN</td>\n",
       "      <td>NaN</td>\n",
       "      <td>NaN</td>\n",
       "      <td>NaN</td>\n",
       "      <td>NaN</td>\n",
       "      <td>NaN</td>\n",
       "      <td>NaN</td>\n",
       "    </tr>\n",
       "  </tbody>\n",
       "</table>\n",
       "<p>82 rows × 57 columns</p>\n",
       "</div>"
      ],
      "text/plain": [
       "       amenity         cuisine                                      name  \\\n",
       "0   restaurant            thai                              Siam Terrace   \n",
       "0   restaurant             NaN                                Houlihan's   \n",
       "0   restaurant           asian                                Spicy Tang   \n",
       "0   restaurant  middle_eastern                      Jerusalem Restaurant   \n",
       "0   restaurant          korean                                Ar-Ri-Rang   \n",
       "..         ...             ...                                       ...   \n",
       "0   restaurant         chinese                                 Rice Bowl   \n",
       "0   restaurant             NaN                          C-U La La Noodle   \n",
       "0   restaurant   mediterranean                            Shawarma Joint   \n",
       "0   restaurant         mexican                             El Toro Bravo   \n",
       "0   restaurant         chinese  Lao Sze Chuan Chinese Restaurant and Bar   \n",
       "\n",
       "     contact:phone                                  contact:website  \\\n",
       "0              NaN                                              NaN   \n",
       "0   +1 217 8195005  http://www.houlihans.com/my-houlihans/champaign   \n",
       "0              NaN                                              NaN   \n",
       "0              NaN                                              NaN   \n",
       "0              NaN                                              NaN   \n",
       "..             ...                                              ...   \n",
       "0              NaN                                              NaN   \n",
       "0              NaN                                              NaN   \n",
       "0              NaN                                              NaN   \n",
       "0              NaN                                              NaN   \n",
       "0              NaN                                              NaN   \n",
       "\n",
       "                                        opening_hours  addr:city  \\\n",
       "0                                                 NaN        NaN   \n",
       "0   Su-Th 11:00-22:00;Fr 11:00-23:00;Sa 07:00-23:0...        NaN   \n",
       "0                                   Mo-Su 11:00-21:00  Champaign   \n",
       "0                                                 NaN  Champaign   \n",
       "0                                                 NaN        NaN   \n",
       "..                                                ...        ...   \n",
       "0                                   Mo-Sa 11:00-21:00  Champaign   \n",
       "0                                   Mo-Su 11:00-20:30        NaN   \n",
       "0                   Mo-Sa 11:00-22:00; Su 12:00-21:00  Champaign   \n",
       "0                                                 NaN  Champaign   \n",
       "0   Su -Th 11:00-21:00; Fr,Sa 11:00-21:30; Feb Mo[...  Champaing   \n",
       "\n",
       "   addr:housenumber addr:postcode addr:state  ... takeaway alt_name amenity_1  \\\n",
       "0               NaN           NaN        NaN  ...      NaN      NaN       NaN   \n",
       "0               NaN           NaN        NaN  ...      NaN      NaN       NaN   \n",
       "0               607         61801         IL  ...      NaN      NaN       NaN   \n",
       "0               601         61820         IL  ...      NaN      NaN       NaN   \n",
       "0               NaN           NaN        NaN  ...      NaN      NaN       NaN   \n",
       "..              ...           ...        ...  ...      ...      ...       ...   \n",
       "0               625         61820         IL  ...      NaN      NaN       NaN   \n",
       "0               NaN           NaN        NaN  ...      NaN      NaN       NaN   \n",
       "0               627         61820         IL  ...      NaN      NaN       NaN   \n",
       "0              2561         61821         IL  ...      NaN      NaN       NaN   \n",
       "0               608         61820         IL  ...      NaN      NaN       NaN   \n",
       "\n",
       "    bar shop_1 name:en brand:website diet:dairy_free diet:nut_free email  \n",
       "0   NaN    NaN     NaN           NaN             NaN           NaN   NaN  \n",
       "0   NaN    NaN     NaN           NaN             NaN           NaN   NaN  \n",
       "0   NaN    NaN     NaN           NaN             NaN           NaN   NaN  \n",
       "0   NaN    NaN     NaN           NaN             NaN           NaN   NaN  \n",
       "0   NaN    NaN     NaN           NaN             NaN           NaN   NaN  \n",
       "..  ...    ...     ...           ...             ...           ...   ...  \n",
       "0   NaN    NaN     NaN           NaN             NaN           NaN   NaN  \n",
       "0   NaN    NaN     NaN           NaN             NaN           NaN   NaN  \n",
       "0   NaN    NaN     NaN           NaN             NaN           NaN   NaN  \n",
       "0   NaN    NaN     NaN           NaN             NaN           NaN   NaN  \n",
       "0   NaN    NaN     NaN           NaN             NaN           NaN   NaN  \n",
       "\n",
       "[82 rows x 57 columns]"
      ]
     },
     "execution_count": 16,
     "metadata": {},
     "output_type": "execute_result"
    }
   ],
   "source": [
    "rest_df"
   ]
  },
  {
   "cell_type": "markdown",
   "metadata": {
    "slideshow": {
     "slide_type": "slide"
    }
   },
   "source": [
    "### What is the most popular cuisine in Chambana?"
   ]
  },
  {
   "cell_type": "code",
   "execution_count": 17,
   "metadata": {
    "slideshow": {
     "slide_type": "-"
    }
   },
   "outputs": [
    {
     "data": {
      "text/plain": [
       "cuisine\n",
       "chinese     13\n",
       "asian        7\n",
       "mexican      6\n",
       "american     5\n",
       "thai         4\n",
       "Name: count, dtype: int64"
      ]
     },
     "execution_count": 17,
     "metadata": {},
     "output_type": "execute_result"
    }
   ],
   "source": [
    "rest_df['cuisine'].value_counts().head()"
   ]
  },
  {
   "cell_type": "code",
   "execution_count": 18,
   "metadata": {
    "slideshow": {
     "slide_type": "slide"
    }
   },
   "outputs": [
    {
     "data": {
      "text/html": [
       "<div>\n",
       "<style scoped>\n",
       "    .dataframe tbody tr th:only-of-type {\n",
       "        vertical-align: middle;\n",
       "    }\n",
       "\n",
       "    .dataframe tbody tr th {\n",
       "        vertical-align: top;\n",
       "    }\n",
       "\n",
       "    .dataframe thead th {\n",
       "        text-align: right;\n",
       "    }\n",
       "</style>\n",
       "<table border=\"1\" class=\"dataframe\">\n",
       "  <thead>\n",
       "    <tr style=\"text-align: right;\">\n",
       "      <th></th>\n",
       "      <th>amenity</th>\n",
       "      <th>cuisine</th>\n",
       "      <th>name</th>\n",
       "      <th>contact:phone</th>\n",
       "      <th>contact:website</th>\n",
       "      <th>opening_hours</th>\n",
       "      <th>addr:city</th>\n",
       "      <th>addr:housenumber</th>\n",
       "      <th>addr:postcode</th>\n",
       "      <th>addr:state</th>\n",
       "      <th>...</th>\n",
       "      <th>takeaway</th>\n",
       "      <th>alt_name</th>\n",
       "      <th>amenity_1</th>\n",
       "      <th>bar</th>\n",
       "      <th>shop_1</th>\n",
       "      <th>name:en</th>\n",
       "      <th>brand:website</th>\n",
       "      <th>diet:dairy_free</th>\n",
       "      <th>diet:nut_free</th>\n",
       "      <th>email</th>\n",
       "    </tr>\n",
       "  </thead>\n",
       "  <tbody>\n",
       "    <tr>\n",
       "      <th>0</th>\n",
       "      <td>restaurant</td>\n",
       "      <td>mexican</td>\n",
       "      <td>Dos Reales</td>\n",
       "      <td>NaN</td>\n",
       "      <td>NaN</td>\n",
       "      <td>NaN</td>\n",
       "      <td>NaN</td>\n",
       "      <td>NaN</td>\n",
       "      <td>NaN</td>\n",
       "      <td>NaN</td>\n",
       "      <td>...</td>\n",
       "      <td>NaN</td>\n",
       "      <td>NaN</td>\n",
       "      <td>NaN</td>\n",
       "      <td>NaN</td>\n",
       "      <td>NaN</td>\n",
       "      <td>NaN</td>\n",
       "      <td>NaN</td>\n",
       "      <td>NaN</td>\n",
       "      <td>NaN</td>\n",
       "      <td>NaN</td>\n",
       "    </tr>\n",
       "    <tr>\n",
       "      <th>0</th>\n",
       "      <td>restaurant</td>\n",
       "      <td>mexican</td>\n",
       "      <td>Pancheros</td>\n",
       "      <td>NaN</td>\n",
       "      <td>NaN</td>\n",
       "      <td>NaN</td>\n",
       "      <td>Urbana</td>\n",
       "      <td>102</td>\n",
       "      <td>61801</td>\n",
       "      <td>NaN</td>\n",
       "      <td>...</td>\n",
       "      <td>NaN</td>\n",
       "      <td>NaN</td>\n",
       "      <td>NaN</td>\n",
       "      <td>NaN</td>\n",
       "      <td>NaN</td>\n",
       "      <td>NaN</td>\n",
       "      <td>NaN</td>\n",
       "      <td>NaN</td>\n",
       "      <td>NaN</td>\n",
       "      <td>NaN</td>\n",
       "    </tr>\n",
       "    <tr>\n",
       "      <th>0</th>\n",
       "      <td>restaurant</td>\n",
       "      <td>mexican</td>\n",
       "      <td>Maize</td>\n",
       "      <td>NaN</td>\n",
       "      <td>NaN</td>\n",
       "      <td>NaN</td>\n",
       "      <td>NaN</td>\n",
       "      <td>NaN</td>\n",
       "      <td>NaN</td>\n",
       "      <td>NaN</td>\n",
       "      <td>...</td>\n",
       "      <td>NaN</td>\n",
       "      <td>NaN</td>\n",
       "      <td>NaN</td>\n",
       "      <td>NaN</td>\n",
       "      <td>NaN</td>\n",
       "      <td>NaN</td>\n",
       "      <td>NaN</td>\n",
       "      <td>NaN</td>\n",
       "      <td>NaN</td>\n",
       "      <td>NaN</td>\n",
       "    </tr>\n",
       "    <tr>\n",
       "      <th>0</th>\n",
       "      <td>restaurant</td>\n",
       "      <td>mexican</td>\n",
       "      <td>Pancheros</td>\n",
       "      <td>NaN</td>\n",
       "      <td>NaN</td>\n",
       "      <td>Su-Th 10:30-23:00; Fr-Sa 10:30-00:00</td>\n",
       "      <td>NaN</td>\n",
       "      <td>2009</td>\n",
       "      <td>61820</td>\n",
       "      <td>NaN</td>\n",
       "      <td>...</td>\n",
       "      <td>NaN</td>\n",
       "      <td>NaN</td>\n",
       "      <td>NaN</td>\n",
       "      <td>NaN</td>\n",
       "      <td>NaN</td>\n",
       "      <td>NaN</td>\n",
       "      <td>NaN</td>\n",
       "      <td>NaN</td>\n",
       "      <td>NaN</td>\n",
       "      <td>NaN</td>\n",
       "    </tr>\n",
       "    <tr>\n",
       "      <th>0</th>\n",
       "      <td>restaurant</td>\n",
       "      <td>mexican</td>\n",
       "      <td>El Toro</td>\n",
       "      <td>NaN</td>\n",
       "      <td>NaN</td>\n",
       "      <td>NaN</td>\n",
       "      <td>NaN</td>\n",
       "      <td>NaN</td>\n",
       "      <td>NaN</td>\n",
       "      <td>NaN</td>\n",
       "      <td>...</td>\n",
       "      <td>NaN</td>\n",
       "      <td>NaN</td>\n",
       "      <td>NaN</td>\n",
       "      <td>NaN</td>\n",
       "      <td>NaN</td>\n",
       "      <td>NaN</td>\n",
       "      <td>NaN</td>\n",
       "      <td>NaN</td>\n",
       "      <td>NaN</td>\n",
       "      <td>NaN</td>\n",
       "    </tr>\n",
       "    <tr>\n",
       "      <th>0</th>\n",
       "      <td>restaurant</td>\n",
       "      <td>mexican</td>\n",
       "      <td>El Toro Bravo</td>\n",
       "      <td>NaN</td>\n",
       "      <td>NaN</td>\n",
       "      <td>NaN</td>\n",
       "      <td>Champaign</td>\n",
       "      <td>2561</td>\n",
       "      <td>61821</td>\n",
       "      <td>IL</td>\n",
       "      <td>...</td>\n",
       "      <td>NaN</td>\n",
       "      <td>NaN</td>\n",
       "      <td>NaN</td>\n",
       "      <td>NaN</td>\n",
       "      <td>NaN</td>\n",
       "      <td>NaN</td>\n",
       "      <td>NaN</td>\n",
       "      <td>NaN</td>\n",
       "      <td>NaN</td>\n",
       "      <td>NaN</td>\n",
       "    </tr>\n",
       "  </tbody>\n",
       "</table>\n",
       "<p>6 rows × 57 columns</p>\n",
       "</div>"
      ],
      "text/plain": [
       "      amenity  cuisine           name contact:phone contact:website  \\\n",
       "0  restaurant  mexican     Dos Reales           NaN             NaN   \n",
       "0  restaurant  mexican      Pancheros           NaN             NaN   \n",
       "0  restaurant  mexican          Maize           NaN             NaN   \n",
       "0  restaurant  mexican      Pancheros           NaN             NaN   \n",
       "0  restaurant  mexican        El Toro           NaN             NaN   \n",
       "0  restaurant  mexican  El Toro Bravo           NaN             NaN   \n",
       "\n",
       "                          opening_hours  addr:city addr:housenumber  \\\n",
       "0                                   NaN        NaN              NaN   \n",
       "0                                   NaN     Urbana              102   \n",
       "0                                   NaN        NaN              NaN   \n",
       "0  Su-Th 10:30-23:00; Fr-Sa 10:30-00:00        NaN             2009   \n",
       "0                                   NaN        NaN              NaN   \n",
       "0                                   NaN  Champaign             2561   \n",
       "\n",
       "  addr:postcode addr:state  ... takeaway alt_name amenity_1  bar shop_1  \\\n",
       "0           NaN        NaN  ...      NaN      NaN       NaN  NaN    NaN   \n",
       "0         61801        NaN  ...      NaN      NaN       NaN  NaN    NaN   \n",
       "0           NaN        NaN  ...      NaN      NaN       NaN  NaN    NaN   \n",
       "0         61820        NaN  ...      NaN      NaN       NaN  NaN    NaN   \n",
       "0           NaN        NaN  ...      NaN      NaN       NaN  NaN    NaN   \n",
       "0         61821         IL  ...      NaN      NaN       NaN  NaN    NaN   \n",
       "\n",
       "  name:en brand:website diet:dairy_free diet:nut_free email  \n",
       "0     NaN           NaN             NaN           NaN   NaN  \n",
       "0     NaN           NaN             NaN           NaN   NaN  \n",
       "0     NaN           NaN             NaN           NaN   NaN  \n",
       "0     NaN           NaN             NaN           NaN   NaN  \n",
       "0     NaN           NaN             NaN           NaN   NaN  \n",
       "0     NaN           NaN             NaN           NaN   NaN  \n",
       "\n",
       "[6 rows x 57 columns]"
      ]
     },
     "execution_count": 18,
     "metadata": {},
     "output_type": "execute_result"
    }
   ],
   "source": [
    "rest_df[rest_df['cuisine'] == \"mexican\"]"
   ]
  },
  {
   "cell_type": "markdown",
   "metadata": {
    "slideshow": {
     "slide_type": "-"
    }
   },
   "source": [
    "We're missing a few restaurants here."
   ]
  },
  {
   "cell_type": "markdown",
   "metadata": {
    "slideshow": {
     "slide_type": "slide"
    }
   },
   "source": [
    "### What area should we search?"
   ]
  },
  {
   "cell_type": "code",
   "execution_count": 30,
   "metadata": {},
   "outputs": [],
   "source": [
    "r = api.query(\"\"\"\n",
    "node(39.096937863355755,-121.70104980468751,39.18757116788847,-121.57333374023439)\n",
    "    [\"amenity\"=\"restaurant\"];\n",
    "out;\n",
    "\"\"\")"
   ]
  },
  {
   "cell_type": "code",
   "execution_count": 31,
   "metadata": {},
   "outputs": [],
   "source": [
    "DFs = [pd.DataFrame(r.nodes[x].tags,index=[0]) \\\n",
    "       for x in range(len(r.nodes))]\n",
    "\n",
    "rest_df = pd.concat(DFs,axis=0)"
   ]
  },
  {
   "cell_type": "code",
   "execution_count": 32,
   "metadata": {},
   "outputs": [
    {
     "data": {
      "text/plain": [
       "name\n",
       "Applebee's                      1\n",
       "Buffalo Wild Wings              1\n",
       "Chicago's Pizza With a Twist    1\n",
       "IHOP                            1\n",
       "Peach Tree                      1\n",
       "Pizza Hut                       1\n",
       "Sutter Buttes Brewing           1\n",
       "Name: count, dtype: int64"
      ]
     },
     "execution_count": 32,
     "metadata": {},
     "output_type": "execute_result"
    }
   ],
   "source": [
    "rest_df['name'].value_counts().sort_index()"
   ]
  },
  {
   "cell_type": "code",
   "execution_count": 26,
   "metadata": {},
   "outputs": [
    {
     "data": {
      "text/plain": [
       "cuisine\n",
       "international        2\n",
       "regional             2\n",
       "chicken              1\n",
       "burger               1\n",
       "local                1\n",
       "pizza                1\n",
       "asian;diner;local    1\n",
       "Name: count, dtype: int64"
      ]
     },
     "execution_count": 26,
     "metadata": {},
     "output_type": "execute_result"
    }
   ],
   "source": [
    "rest_df['cuisine'].value_counts().head(10)"
   ]
  }
 ],
 "metadata": {
  "celltoolbar": "Slideshow",
  "kernelspec": {
   "display_name": "Python 3 (ipykernel)",
   "language": "python",
   "name": "python3"
  },
  "language_info": {
   "codemirror_mode": {
    "name": "ipython",
    "version": 3
   },
   "file_extension": ".py",
   "mimetype": "text/x-python",
   "name": "python",
   "nbconvert_exporter": "python",
   "pygments_lexer": "ipython3",
   "version": "3.11.7"
  },
  "rise": {
   "height": "80%",
   "transition": "none"
  }
 },
 "nbformat": 4,
 "nbformat_minor": 4
}
