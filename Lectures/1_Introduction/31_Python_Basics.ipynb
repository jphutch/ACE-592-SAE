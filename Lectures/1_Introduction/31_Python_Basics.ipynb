{
 "cells": [
  {
   "cell_type": "markdown",
   "metadata": {
    "slideshow": {
     "slide_type": "slide"
    }
   },
   "source": [
    "### Objective: Let's make a LinearRegression object!\n",
    "\n",
    "Needs:\n",
    "- inputs\n",
    "- methods\n",
    "- a class to wrap it all together!\n"
   ]
  },
  {
   "cell_type": "markdown",
   "metadata": {
    "slideshow": {
     "slide_type": "slide"
    }
   },
   "source": [
    "First, lets demonstrate what data objects there are."
   ]
  },
  {
   "cell_type": "code",
   "execution_count": null,
   "metadata": {
    "slideshow": {
     "slide_type": "-"
    }
   },
   "outputs": [],
   "source": [
    "obj_str = \"2\"\n",
    "obj_int = 2\n",
    "obj_float = 2.0\n",
    "obj_bool = 2>1"
   ]
  },
  {
   "cell_type": "markdown",
   "metadata": {
    "slideshow": {
     "slide_type": "slide"
    }
   },
   "source": [
    "Here's what the types look like."
   ]
  },
  {
   "cell_type": "code",
   "execution_count": null,
   "metadata": {
    "slideshow": {
     "slide_type": "-"
    }
   },
   "outputs": [],
   "source": [
    "obj_list = [obj_str,obj_int,obj_float,obj_bool]\n",
    "\n",
    "for object_ in obj_list:\n",
    "    print(type(object_))"
   ]
  },
  {
   "cell_type": "markdown",
   "metadata": {
    "slideshow": {
     "slide_type": "slide"
    }
   },
   "source": [
    "### Numeric objects:\n",
    "Integers and floats obey the usual math operations:"
   ]
  },
  {
   "cell_type": "code",
   "execution_count": null,
   "metadata": {
    "slideshow": {
     "slide_type": "-"
    }
   },
   "outputs": [],
   "source": [
    "obj_int*3,\\\n",
    "obj_int +2,\\\n",
    "obj_float**3"
   ]
  },
  {
   "cell_type": "markdown",
   "metadata": {
    "slideshow": {
     "slide_type": "slide"
    }
   },
   "source": [
    "Notice the difference above between the float and integer. Python will say they are the same thing:"
   ]
  },
  {
   "cell_type": "code",
   "execution_count": null,
   "metadata": {
    "slideshow": {
     "slide_type": "-"
    }
   },
   "outputs": [],
   "source": [
    "obj_int==obj_float"
   ]
  },
  {
   "cell_type": "markdown",
   "metadata": {
    "slideshow": {
     "slide_type": "-"
    }
   },
   "source": [
    "but if you add them then it will become a float:"
   ]
  },
  {
   "cell_type": "code",
   "execution_count": null,
   "metadata": {
    "slideshow": {
     "slide_type": "-"
    }
   },
   "outputs": [],
   "source": [
    "obj_int + obj_float"
   ]
  },
  {
   "cell_type": "markdown",
   "metadata": {
    "slideshow": {
     "slide_type": "slide"
    }
   },
   "source": [
    "__Notice:__ In most languages, you must __declare__ variable types. __Python automatically did this__ on the fly.\n",
    "\n",
    "This makes it easy to define objects, but also can be a pain if Python infers the wrong thing.\n",
    "\n",
    "As long as you remember how Python does it, it can be quite useful. If you forget, it can lead to big problems. If you throw an error it will remind you of your mistake, but the worst mistakes are __ones you don't know you are making__.\n",
    "\n",
    "__Make sure you know what each thing is supposed to be!__"
   ]
  },
  {
   "cell_type": "markdown",
   "metadata": {
    "slideshow": {
     "slide_type": "slide"
    }
   },
   "source": [
    "### Strings\n",
    "\n",
    "Strings, unlike numeric objects, have \"length.\""
   ]
  },
  {
   "cell_type": "code",
   "execution_count": null,
   "metadata": {
    "slideshow": {
     "slide_type": "-"
    }
   },
   "outputs": [],
   "source": [
    "len(obj_str)"
   ]
  },
  {
   "cell_type": "code",
   "execution_count": null,
   "metadata": {
    "slideshow": {
     "slide_type": "-"
    }
   },
   "outputs": [],
   "source": [
    "len(obj_int)"
   ]
  },
  {
   "cell_type": "markdown",
   "metadata": {
    "slideshow": {
     "slide_type": "-"
    }
   },
   "source": [
    "Above I tried to call a function on an \"int\" object, but this object does not have length."
   ]
  },
  {
   "cell_type": "markdown",
   "metadata": {
    "slideshow": {
     "slide_type": "slide"
    }
   },
   "source": [
    "Here I can call \"len()\" on a string and it gives me the number of characters."
   ]
  },
  {
   "cell_type": "code",
   "execution_count": null,
   "metadata": {
    "slideshow": {
     "slide_type": "-"
    }
   },
   "outputs": [],
   "source": [
    "example_string = \"Do Re Mi Fa So La Ti Do\"\n",
    "len(example_string)"
   ]
  },
  {
   "cell_type": "markdown",
   "metadata": {
    "slideshow": {
     "slide_type": "slide"
    }
   },
   "source": [
    "Like other languages, I can \"index\" strings."
   ]
  },
  {
   "cell_type": "code",
   "execution_count": null,
   "metadata": {
    "slideshow": {
     "slide_type": "-"
    }
   },
   "outputs": [],
   "source": [
    "example_string[0], \\\n",
    "example_string[:3], \\\n",
    "example_string[0::3],\\\n",
    "example_string[:-3],"
   ]
  },
  {
   "cell_type": "markdown",
   "metadata": {
    "slideshow": {
     "slide_type": "-"
    }
   },
   "source": [
    "__Important:__ Python indexes from __zero__ not one, so the first element `D` is `example_string[0]` and not `example_string[1]`\n",
    "\n",
    "__Question: What do you think the third one did?__\n",
    "\n",
    "Note that in the last one I used \"negative indexing\"; I told it to give me up to the last two elements. This is handy for when you do not know how long the string is."
   ]
  },
  {
   "cell_type": "markdown",
   "metadata": {
    "slideshow": {
     "slide_type": "slide"
    }
   },
   "source": [
    "Weirdly, you can apply some \"math\" operations to strings in Python to do different things:\n",
    "- Use \"+\" will \"concatenate\"\n",
    "- Use \"*\" will duplicate."
   ]
  },
  {
   "cell_type": "code",
   "execution_count": null,
   "metadata": {
    "slideshow": {
     "slide_type": "-"
    }
   },
   "outputs": [],
   "source": [
    "obj_str+\"3 dog\" , obj_str*10 "
   ]
  },
  {
   "cell_type": "markdown",
   "metadata": {
    "slideshow": {
     "slide_type": "slide"
    }
   },
   "source": [
    "### Booleans\n",
    "These are binary objects: True or False.\n",
    "\n",
    "Handy when using functions if you only want something to happen if a condition is met.\n",
    "\n",
    "For example, here's a \"while loop\" that trims a string until its 3 characters long:"
   ]
  },
  {
   "cell_type": "code",
   "execution_count": null,
   "metadata": {},
   "outputs": [],
   "source": [
    "len(example_string)>3"
   ]
  },
  {
   "cell_type": "code",
   "execution_count": null,
   "metadata": {
    "scrolled": true,
    "slideshow": {
     "slide_type": "slide"
    }
   },
   "outputs": [],
   "source": [
    "while len(example_string)>3:\n",
    "    example_string = example_string[:-1]\n",
    "    print(example_string)\n",
    "    \n",
    "example_string"
   ]
  },
  {
   "cell_type": "markdown",
   "metadata": {
    "slideshow": {
     "slide_type": "slide"
    }
   },
   "source": [
    "What did this just do?\n",
    "- I just re-assigned the object \"example_string\" each time with a version of it without the last character.\n",
    "\n",
    "But the \"condition\" is actually an object itself:"
   ]
  },
  {
   "cell_type": "code",
   "execution_count": null,
   "metadata": {
    "slideshow": {
     "slide_type": "-"
    }
   },
   "outputs": [],
   "source": [
    "is_it_more_than_three = len(example_string)>3\n",
    "is_it_more_than_three"
   ]
  },
  {
   "cell_type": "markdown",
   "metadata": {
    "slideshow": {
     "slide_type": "slide"
    }
   },
   "source": [
    "Weird little handy thing: if you interact them with numeric objects, they become binary (zero or one) numeric objects."
   ]
  },
  {
   "cell_type": "code",
   "execution_count": null,
   "metadata": {
    "slideshow": {
     "slide_type": "-"
    }
   },
   "outputs": [],
   "source": [
    "is_it_more_than_three + 5,\\\n",
    "is_it_more_than_three*2"
   ]
  },
  {
   "cell_type": "code",
   "execution_count": null,
   "metadata": {
    "slideshow": {
     "slide_type": "-"
    }
   },
   "outputs": [],
   "source": [
    "1/(True+2)"
   ]
  },
  {
   "cell_type": "markdown",
   "metadata": {
    "slideshow": {
     "slide_type": "slide"
    }
   },
   "source": [
    "### Lists and Dictionaries\n",
    "- First one is an __ordered__ array.\n",
    "- The second one is an __unordered__ mapping."
   ]
  },
  {
   "cell_type": "code",
   "execution_count": null,
   "metadata": {
    "slideshow": {
     "slide_type": "-"
    }
   },
   "outputs": [],
   "source": [
    "obj_list"
   ]
  },
  {
   "cell_type": "code",
   "execution_count": null,
   "metadata": {
    "slideshow": {
     "slide_type": "-"
    }
   },
   "outputs": [],
   "source": [
    "obj_list[2]"
   ]
  },
  {
   "cell_type": "markdown",
   "metadata": {
    "slideshow": {
     "slide_type": "-"
    }
   },
   "source": [
    "The third object (index 2) is __always__ the float."
   ]
  },
  {
   "cell_type": "markdown",
   "metadata": {
    "slideshow": {
     "slide_type": "slide"
    }
   },
   "source": [
    "A dictionary is not ordered, but the mapping keeps relationships between objects consistently."
   ]
  },
  {
   "cell_type": "code",
   "execution_count": null,
   "metadata": {
    "slideshow": {
     "slide_type": "-"
    }
   },
   "outputs": [],
   "source": [
    "obj_dict = {\"string\":obj_str,\n",
    "            \"integer\":obj_int,\n",
    "            \"float\":obj_float,\n",
    "            \"boolean\":False,\n",
    "            \"something_else\":\"something\"}"
   ]
  },
  {
   "cell_type": "code",
   "execution_count": null,
   "metadata": {
    "slideshow": {
     "slide_type": "-"
    }
   },
   "outputs": [],
   "source": [
    "if obj_dict[\"boolean\"]:\n",
    "    print(\"yay!\")\n",
    "else:\n",
    "    print(\"too bad\")"
   ]
  },
  {
   "cell_type": "markdown",
   "metadata": {
    "slideshow": {
     "slide_type": "-"
    }
   },
   "source": [
    "So passing the string \"float\" retrieves whatever the dictionary relates to \"float.\"\n",
    "\n",
    "This is how you \"look things up\" in the dictionary."
   ]
  },
  {
   "cell_type": "markdown",
   "metadata": {
    "slideshow": {
     "slide_type": "slide"
    }
   },
   "source": [
    "### Another dictionary example:\n",
    "\n",
    "Suppose you had data about three individuals. For each individual, you have a description and some anthropometric data. How do you represent all of this data in one python object?\n",
    "\n",
    "A common way is using a __nested dictionary__:"
   ]
  },
  {
   "cell_type": "code",
   "execution_count": null,
   "metadata": {
    "slideshow": {
     "slide_type": "slide"
    }
   },
   "outputs": [],
   "source": [
    "Babies = {\"Bart Harley Jarvis\":{\n",
    "                \"Description\" : \"Underbite, flat back of the head\",\n",
    "                \"Weight Percentile\" : 50,\n",
    "                \"Height Percentile\" : 80 },\n",
    "          \"Michael Patrick Porkins\":{\n",
    "                \"Description\" : \"Button nose, apple cheeks\",\n",
    "                \"Weight Percentile\" : 99,\n",
    "                \"Height Percentile\" : 10},\n",
    "          \"Taffy Lee Fubbins\" : {\n",
    "                \"Description\" : \"Tuna can\",\n",
    "                \"Weight Percentile\" : 90,\n",
    "                \"Height Percentile\" : 10}}"
   ]
  },
  {
   "cell_type": "markdown",
   "metadata": {
    "slideshow": {
     "slide_type": "slide"
    }
   },
   "source": [
    "The `.keys()` method accesses the first layer:"
   ]
  },
  {
   "cell_type": "code",
   "execution_count": null,
   "metadata": {
    "slideshow": {
     "slide_type": "-"
    }
   },
   "outputs": [],
   "source": [
    "Babies.keys()"
   ]
  },
  {
   "cell_type": "markdown",
   "metadata": {
    "slideshow": {
     "slide_type": "-"
    }
   },
   "source": [
    "And we can use those keys to access the next dictionary level:"
   ]
  },
  {
   "cell_type": "code",
   "execution_count": null,
   "metadata": {
    "slideshow": {
     "slide_type": "slide"
    }
   },
   "outputs": [],
   "source": [
    "Babies['Bart Harley Jarvis']"
   ]
  },
  {
   "cell_type": "code",
   "execution_count": null,
   "metadata": {
    "slideshow": {
     "slide_type": "-"
    }
   },
   "outputs": [],
   "source": [
    "Babies['Bart Harley Jarvis']['Height Percentile']"
   ]
  },
  {
   "cell_type": "markdown",
   "metadata": {
    "slideshow": {
     "slide_type": "-"
    }
   },
   "source": [
    "This kind of data hierarchy is common in __json files__, which is a common way to store data."
   ]
  },
  {
   "cell_type": "markdown",
   "metadata": {
    "slideshow": {
     "slide_type": "slide"
    }
   },
   "source": [
    "### Towards Data\n",
    "\n",
    "Dictionaries can refer not just to individual objects but to lists.\n",
    "\n",
    "To get to our linear regression example, let's assume that we have two lists of data $x$ and $y$.\n",
    "\n",
    "How do we calculate the linear regression parameter $\\beta$ in the equation $y = \\beta x$?"
   ]
  },
  {
   "cell_type": "markdown",
   "metadata": {
    "slideshow": {
     "slide_type": "slide"
    }
   },
   "source": [
    "The estimator for OLS is that we find the value of $\\beta$ that minimizes this function:\n",
    "$$ SSE(\\beta) = \\sum_i (y_i - \\beta x_i)^2 $$\n",
    "Now we will:\n",
    "1. Write a function that does that.\n",
    "2. Write a class that combines everything together!"
   ]
  },
  {
   "cell_type": "code",
   "execution_count": null,
   "metadata": {
    "slideshow": {
     "slide_type": "slide"
    }
   },
   "outputs": [],
   "source": [
    "x = [ 0.72238169,  0.81319053,  1.02818518, -0.13406947, -0.32687184,\n",
    "       -0.8436763 , -0.11656874,  1.26557628, -1.30864275, -1.11902229]\n",
    "e = [-0.02545513,  0.2013095 ,  0.15369068,  0.77728519,  0.39257324,\n",
    "       -0.04470027, -1.02603586,  0.21550981,  0.23245853, -0.06602041]\n",
    "\n",
    "y = [] # Start an empty list.\n",
    "\n",
    "beta = 2 \n",
    "\n",
    "for i in range(len(x)):\n",
    "    y += [x[i]*beta + e[i]]"
   ]
  },
  {
   "cell_type": "code",
   "execution_count": null,
   "metadata": {},
   "outputs": [],
   "source": [
    "data = {\"y\":y,\"x\":x}\n",
    "\n",
    "data[\"y\"]"
   ]
  },
  {
   "cell_type": "code",
   "execution_count": null,
   "metadata": {
    "slideshow": {
     "slide_type": "slide"
    }
   },
   "outputs": [],
   "source": [
    "for i in range(len(x)):\n",
    "    y += [x[i]*beta + e[i]]"
   ]
  },
  {
   "cell_type": "markdown",
   "metadata": {
    "slideshow": {
     "slide_type": "-"
    }
   },
   "source": [
    "Some `for` loop magic here.\n",
    "- The function \"`range`\" makes a series of integers from `0` to whatever you put in.\n",
    "    - `range(len(x))` just made a series of integers from `0` to the number `len(x)`\n",
    "    - This is going to go print each index of the list, which is very useful for going through an array.\n",
    "- Putting `y += x` is equivalent to writing `y = y + x`\n",
    "    - Since `y` and `x` are lists, we are adding lists together\n",
    "    - So this adds an element to the list for each `i`!"
   ]
  },
  {
   "cell_type": "markdown",
   "metadata": {
    "slideshow": {
     "slide_type": "slide"
    }
   },
   "source": [
    "#### An aside: the magic of \"list comprehension\":\n",
    "Sometimes you will see me write:\n",
    "\n",
    "`y = [x[i]*beta + e[i] for i in range(len(x))]`\n",
    "\n",
    "Instead of \n",
    "\n",
    "`y = []`\n",
    "\n",
    "`for i in range(len(x)):`\n",
    "\n",
    "`    y += [x[i]*beta + e[i]]`\n",
    "\n",
    "There is no difference between these, but the first one is shorter to type and is called a __list comprehension__."
   ]
  },
  {
   "cell_type": "markdown",
   "metadata": {
    "slideshow": {
     "slide_type": "slide"
    }
   },
   "source": [
    "\"List comprehensions\" are for loops written in one line whose output is always a list.\n",
    "\n",
    "Structure in one line:\n",
    "`[i + 2 for i in x]`"
   ]
  },
  {
   "cell_type": "code",
   "execution_count": null,
   "metadata": {
    "slideshow": {
     "slide_type": "-"
    }
   },
   "outputs": [],
   "source": [
    "[ i + 2        # Thing to do\n",
    " for i in x]  # normal for loop language."
   ]
  },
  {
   "cell_type": "markdown",
   "metadata": {
    "slideshow": {
     "slide_type": "-"
    }
   },
   "source": [
    "Notice that the output is a list. This makes the `y=[]` step unneccesary."
   ]
  },
  {
   "cell_type": "code",
   "execution_count": null,
   "metadata": {
    "slideshow": {
     "slide_type": "slide"
    }
   },
   "outputs": [],
   "source": [
    "y =  [x[i]*beta + e[i]          # assign list to variable \"y\", add values together\n",
    "      for i in range(len(x))]   # regular for loop"
   ]
  },
  {
   "cell_type": "markdown",
   "metadata": {
    "slideshow": {
     "slide_type": "-"
    }
   },
   "source": [
    "You can also put in `if` conditions:"
   ]
  },
  {
   "cell_type": "code",
   "execution_count": null,
   "metadata": {
    "slideshow": {
     "slide_type": "-"
    }
   },
   "outputs": [],
   "source": [
    "y_mod = [x[i]*beta + e[i]            # assign list to variable \"y\", add values together\n",
    "         for i in range(len(x))      # regular for loop\n",
    "         if x[i]>1]                  # condition goes after if just \"if\"\n",
    "\n",
    "y_mod"
   ]
  },
  {
   "cell_type": "markdown",
   "metadata": {
    "slideshow": {
     "slide_type": "slide"
    }
   },
   "source": [
    "`if else` goes before `for` but after operation:"
   ]
  },
  {
   "cell_type": "code",
   "execution_count": null,
   "metadata": {
    "slideshow": {
     "slide_type": "-"
    }
   },
   "outputs": [],
   "source": [
    "y_mod = [x[i]*beta + e[i]    # assign list to variable \"y\", add values together\n",
    "         if x[i]>1           # only does operation if this  \n",
    "         else -99        # else it returns this\n",
    "         for i in range(len(x))]      # regular for loop\n",
    "\n",
    "y_mod"
   ]
  },
  {
   "cell_type": "markdown",
   "metadata": {
    "slideshow": {
     "slide_type": "slide"
    }
   },
   "source": [
    "Now we have data. If we wanted to do a linear regression, we could just try and find which value of $\\beta$ minimizes the sum of squared error between these two variables.\n",
    "\n",
    "First, we need an SSE function:"
   ]
  },
  {
   "cell_type": "code",
   "execution_count": null,
   "metadata": {
    "slideshow": {
     "slide_type": "-"
    }
   },
   "outputs": [],
   "source": [
    "def sse(beta):\n",
    "    sse = 0\n",
    "    \n",
    "    for i in range(len(x)):\n",
    "        sse = sse + (data['y'][i] - beta*data['x'][i])**2 \n",
    "    return sse"
   ]
  },
  {
   "cell_type": "markdown",
   "metadata": {
    "slideshow": {
     "slide_type": "slide"
    }
   },
   "source": [
    "This is our first function. Let's go line by line:"
   ]
  },
  {
   "cell_type": "code",
   "execution_count": null,
   "metadata": {
    "slideshow": {
     "slide_type": "-"
    }
   },
   "outputs": [],
   "source": [
    "def sse(beta): # every function needs this line: def name_of_function(input)\n",
    "    sse = 0    # I'm going to calculate SSE, so let me \n",
    "               # first start by defining a variable which equals zero\n",
    "    \n",
    "    for i in range(len(x)): # for each index in the x vector\n",
    "        sse += (y[i] - beta*x[i])**2  # take the difference between the y at element i \n",
    "                                      # and the x at the element x times beta\n",
    "    return sse # if you want an output, you have to tell the function what needs to come out."
   ]
  },
  {
   "cell_type": "markdown",
   "metadata": {
    "slideshow": {
     "slide_type": "slide"
    }
   },
   "source": [
    "Now let's input some values and see which one gives us the smallest SSE:"
   ]
  },
  {
   "cell_type": "code",
   "execution_count": null,
   "metadata": {
    "slideshow": {
     "slide_type": "-"
    }
   },
   "outputs": [],
   "source": [
    "sse(1),sse(2),sse(3)"
   ]
  },
  {
   "cell_type": "markdown",
   "metadata": {
    "slideshow": {
     "slide_type": "-"
    }
   },
   "source": [
    "Looks like 2 could be the winner..."
   ]
  },
  {
   "cell_type": "markdown",
   "metadata": {
    "slideshow": {
     "slide_type": "slide"
    }
   },
   "source": [
    "### Getting Classy\n",
    "\n",
    "\"Classes\" are the __ultimate__ python object in that they can hold all the above information in one object!\n",
    "\n",
    "In essence, a class holds a bunch of variables and functions into one object. Let's make a class that contains:\n",
    "- the data we are estimating.\n",
    "- the functions we want to use with the data."
   ]
  },
  {
   "cell_type": "code",
   "execution_count": null,
   "metadata": {
    "slideshow": {
     "slide_type": "slide"
    }
   },
   "outputs": [],
   "source": [
    "class LinearRegression:\n",
    "    def __init__(self, x,y):\n",
    "        self.indep_var = x\n",
    "        self.dep_var = y\n",
    "    \n",
    "    def sse(self,beta):\n",
    "        sse_val = 0\n",
    "        for i in range(len(self.indep_var)):\n",
    "            sse_val += (self.dep_var[i] - beta*self.indep_var[i])**2\n",
    "        return sse_val\n",
    "    \n",
    "    def estimate(self,betagrid):\n",
    "        sse_vals =[]\n",
    "        for beta in betagrid:\n",
    "            sse_vals += [self.sse(beta)]\n",
    "        \n",
    "        the_min = min(sse_vals)\n",
    "        \n",
    "        for i in range(len(sse_vals)):\n",
    "            if sse_vals[i] == the_min:\n",
    "                return betagrid[i]"
   ]
  },
  {
   "cell_type": "markdown",
   "metadata": {
    "slideshow": {
     "slide_type": "slide"
    }
   },
   "source": [
    "#### The \"__init__\"\n",
    "This \"initializes\" the class. Here we ask it for two arguments, \"x\" and \"y\", and then assign them to two \"attributes\" indep_var and dep_var\n",
    "\n",
    "Every class must have an `__init__` function."
   ]
  },
  {
   "cell_type": "code",
   "execution_count": null,
   "metadata": {
    "slideshow": {
     "slide_type": "-"
    }
   },
   "outputs": [],
   "source": [
    "class LinearRegression:\n",
    "\n",
    "    def __init__(self, x,y):\n",
    "        self.indep_var = x\n",
    "        self.dep_var = y"
   ]
  },
  {
   "cell_type": "code",
   "execution_count": null,
   "metadata": {
    "slideshow": {
     "slide_type": "-"
    }
   },
   "outputs": [],
   "source": [
    "lm_obj = LinearRegression(data['x'],data['y'])\n",
    "lm_obj.indep_var"
   ]
  },
  {
   "cell_type": "markdown",
   "metadata": {
    "slideshow": {
     "slide_type": "slide"
    }
   },
   "source": [
    "#### The method\n",
    "Now we can give it our SSE method. Each function in a class needs to have the argument \"self\" to work, and this stands in for whatever you created in \"init\""
   ]
  },
  {
   "cell_type": "code",
   "execution_count": null,
   "metadata": {
    "slideshow": {
     "slide_type": "-"
    }
   },
   "outputs": [],
   "source": [
    "class LinearRegression:\n",
    "\n",
    "    def __init__(self, x,y):\n",
    "        self.indep_var = x\n",
    "        self.dep_var = y\n",
    "    \n",
    "    def sse(self,beta):\n",
    "        sse_val = 0\n",
    "        for i in range(len(self.indep_var)):\n",
    "            sse_val += (self.dep_var[i] - beta*self.indep_var[i])**2\n",
    "        return sse_val"
   ]
  },
  {
   "cell_type": "code",
   "execution_count": null,
   "metadata": {
    "slideshow": {
     "slide_type": "-"
    }
   },
   "outputs": [],
   "source": [
    "lm_obj = LinearRegression(data['x'],data['y'])\n",
    "lm_obj.sse(2)"
   ]
  },
  {
   "cell_type": "markdown",
   "metadata": {
    "slideshow": {
     "slide_type": "slide"
    }
   },
   "source": [
    "Finally, let's give it an \"estimate\" method to find the $\\beta$ that makes sse as small as possible."
   ]
  },
  {
   "cell_type": "code",
   "execution_count": null,
   "metadata": {
    "slideshow": {
     "slide_type": "-"
    }
   },
   "outputs": [],
   "source": [
    "    def estimate(self,betagrid):\n",
    "        sse_vals =[]\n",
    "        for beta in betagrid:\n",
    "            sse_vals += [self.sse(beta)]\n",
    "        \n",
    "        the_min = min(sse_vals)\n",
    "        \n",
    "        for i in range(len(sse_vals)):\n",
    "            if sse_vals[i] == the_min:\n",
    "                return betagrid[i]"
   ]
  },
  {
   "cell_type": "code",
   "execution_count": null,
   "metadata": {
    "slideshow": {
     "slide_type": "slide"
    }
   },
   "outputs": [],
   "source": [
    "class LinearRegression:\n",
    "    def __init__(self, x,y):\n",
    "        self.indep_var = x\n",
    "        self.dep_var = y\n",
    "    \n",
    "    def sse(self,beta):\n",
    "        sse_val = 0\n",
    "        for i in range(len(self.indep_var)):\n",
    "            sse_val += (self.dep_var[i] - beta*self.indep_var[i])**2\n",
    "        return sse_val\n",
    "    \n",
    "    def estimate(self,betagrid):\n",
    "        sse_vals =[]\n",
    "        for beta in betagrid:\n",
    "            sse_vals += [self.sse(beta)]\n",
    "        \n",
    "        the_min = min(sse_vals)\n",
    "        \n",
    "        for i in range(len(sse_vals)):\n",
    "            if sse_vals[i] == the_min:\n",
    "                return betagrid[i]"
   ]
  },
  {
   "cell_type": "code",
   "execution_count": null,
   "metadata": {
    "slideshow": {
     "slide_type": "slide"
    }
   },
   "outputs": [],
   "source": [
    "lm_obj = LinearRegression(data['x'],data['y'])\n",
    "grid = [0,1,2,3,4]\n",
    "lm_obj.estimate(grid)"
   ]
  },
  {
   "cell_type": "markdown",
   "metadata": {},
   "source": [
    "Given that grid, it determined that $\\beta=2$ gives the lowest SSE value.\n",
    "\n",
    "__WE DID IT!__\n"
   ]
  }
 ],
 "metadata": {
  "celltoolbar": "Slideshow",
  "kernelspec": {
   "display_name": "Python 3 (ipykernel)",
   "language": "python",
   "name": "python3"
  },
  "language_info": {
   "codemirror_mode": {
    "name": "ipython",
    "version": 3
   },
   "file_extension": ".py",
   "mimetype": "text/x-python",
   "name": "python",
   "nbconvert_exporter": "python",
   "pygments_lexer": "ipython3",
   "version": "3.11.7"
  },
  "rise": {
   "transition": "none"
  }
 },
 "nbformat": 4,
 "nbformat_minor": 4
}
