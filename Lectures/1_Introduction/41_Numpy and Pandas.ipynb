{
 "cells": [
  {
   "cell_type": "markdown",
   "metadata": {
    "slideshow": {
     "slide_type": "slide"
    }
   },
   "source": [
    "# Numpy and Pandas"
   ]
  },
  {
   "cell_type": "markdown",
   "metadata": {
    "slideshow": {
     "slide_type": "slide"
    }
   },
   "source": [
    "## Numpy \n",
    "\n",
    "Numpy works mostly with arrays, much like Matlab and R.\n",
    "\n",
    "Here I'll briefly show some of the functionality of Numpy."
   ]
  },
  {
   "cell_type": "code",
   "execution_count": null,
   "metadata": {
    "slideshow": {
     "slide_type": "-"
    }
   },
   "outputs": [],
   "source": [
    "import numpy as np"
   ]
  },
  {
   "cell_type": "markdown",
   "metadata": {
    "slideshow": {
     "slide_type": "slide"
    }
   },
   "source": [
    "#### Creating arrays"
   ]
  },
  {
   "cell_type": "code",
   "execution_count": null,
   "metadata": {
    "slideshow": {
     "slide_type": "-"
    }
   },
   "outputs": [],
   "source": [
    "np.ones(2)"
   ]
  },
  {
   "cell_type": "code",
   "execution_count": null,
   "metadata": {
    "slideshow": {
     "slide_type": "-"
    }
   },
   "outputs": [],
   "source": [
    "np.zeros(3)"
   ]
  },
  {
   "cell_type": "code",
   "execution_count": null,
   "metadata": {
    "slideshow": {
     "slide_type": "slide"
    }
   },
   "outputs": [],
   "source": [
    "np.identity(3)"
   ]
  },
  {
   "cell_type": "code",
   "execution_count": null,
   "metadata": {
    "slideshow": {
     "slide_type": "-"
    }
   },
   "outputs": [],
   "source": [
    "np.diagonal(np.identity(3))"
   ]
  },
  {
   "cell_type": "code",
   "execution_count": null,
   "metadata": {
    "slideshow": {
     "slide_type": "slide"
    }
   },
   "outputs": [],
   "source": [
    "np.arange(2,10,2) #(start, stop, step)"
   ]
  },
  {
   "cell_type": "code",
   "execution_count": null,
   "metadata": {
    "slideshow": {
     "slide_type": "-"
    }
   },
   "outputs": [],
   "source": [
    "np.linspace(2,8,10) #(start, stop, number of elements)"
   ]
  },
  {
   "cell_type": "markdown",
   "metadata": {
    "slideshow": {
     "slide_type": "slide"
    }
   },
   "source": [
    "Nested lists make a matrix:"
   ]
  },
  {
   "cell_type": "code",
   "execution_count": null,
   "metadata": {
    "slideshow": {
     "slide_type": "-"
    }
   },
   "outputs": [],
   "source": [
    "m = np.array([[1,2,3],\n",
    "              [4,5,6],\n",
    "              [7,8,9]])\n",
    "m"
   ]
  },
  {
   "cell_type": "markdown",
   "metadata": {
    "slideshow": {
     "slide_type": "slide"
    }
   },
   "source": [
    "Slicing works the same way as lists, but with two indices instead of one:"
   ]
  },
  {
   "cell_type": "code",
   "execution_count": null,
   "metadata": {
    "slideshow": {
     "slide_type": "-"
    }
   },
   "outputs": [],
   "source": [
    "m"
   ]
  },
  {
   "cell_type": "code",
   "execution_count": null,
   "metadata": {
    "slideshow": {
     "slide_type": "-"
    }
   },
   "outputs": [],
   "source": [
    "m[:2,:2]"
   ]
  },
  {
   "cell_type": "markdown",
   "metadata": {
    "slideshow": {
     "slide_type": "slide"
    }
   },
   "source": [
    "#### Linear Algebra Operations"
   ]
  },
  {
   "cell_type": "code",
   "execution_count": null,
   "metadata": {
    "slideshow": {
     "slide_type": "-"
    }
   },
   "outputs": [],
   "source": [
    "I = np.identity(3)/2\n",
    "I"
   ]
  },
  {
   "cell_type": "code",
   "execution_count": null,
   "metadata": {
    "slideshow": {
     "slide_type": "-"
    }
   },
   "outputs": [],
   "source": [
    "np.linalg.inv(I)"
   ]
  },
  {
   "cell_type": "code",
   "execution_count": null,
   "metadata": {},
   "outputs": [],
   "source": [
    "np.trace(I)"
   ]
  },
  {
   "cell_type": "code",
   "execution_count": null,
   "metadata": {
    "slideshow": {
     "slide_type": "slide"
    }
   },
   "outputs": [],
   "source": [
    "np.linalg.eigvals(I)"
   ]
  },
  {
   "cell_type": "markdown",
   "metadata": {
    "slideshow": {
     "slide_type": "slide"
    }
   },
   "source": [
    "### Warning: Copying in Numpy\n",
    "What is the difference between these two blocks?"
   ]
  },
  {
   "cell_type": "code",
   "execution_count": null,
   "metadata": {
    "slideshow": {
     "slide_type": "-"
    }
   },
   "outputs": [],
   "source": [
    "m = np.arange(1,10,1).reshape(3,3)\n",
    "m1 = m\n",
    "m1[0,1] = 0\n",
    "m"
   ]
  },
  {
   "cell_type": "code",
   "execution_count": null,
   "metadata": {
    "slideshow": {
     "slide_type": "-"
    }
   },
   "outputs": [],
   "source": [
    "m = np.arange(1,10,1).reshape(3,3)\n",
    "m2 = np.copy(m)\n",
    "m2[0,1] = 0\n",
    "m"
   ]
  },
  {
   "cell_type": "markdown",
   "metadata": {
    "slideshow": {
     "slide_type": "slide"
    }
   },
   "source": [
    "### Important thing about Arrays:\n",
    "When creating a subset of the array like m1, it is a __view__ and __not a copy__.\n",
    "\n",
    "This means if you edit it, it will actually edit the original one.\n",
    "\n",
    "Basic numpy practice is to use \"np.copy\" to create a new version that you can edit without affecting the underlying array."
   ]
  },
  {
   "cell_type": "markdown",
   "metadata": {
    "slideshow": {
     "slide_type": "slide"
    }
   },
   "source": [
    "Also edits it if you assign values to a slice."
   ]
  },
  {
   "cell_type": "code",
   "execution_count": null,
   "metadata": {},
   "outputs": [],
   "source": [
    "ex = m[2]\n",
    "ex"
   ]
  },
  {
   "cell_type": "code",
   "execution_count": null,
   "metadata": {
    "slideshow": {
     "slide_type": "-"
    }
   },
   "outputs": [],
   "source": [
    "ex = m[2]\n",
    "ex[0] = 0\n",
    "m"
   ]
  },
  {
   "cell_type": "markdown",
   "metadata": {
    "slideshow": {
     "slide_type": "slide"
    }
   },
   "source": [
    "### Random Number Generation\n",
    "In our last example, I prespecified a list. The way I made that list was using numpy functions.\n",
    "\n"
   ]
  },
  {
   "cell_type": "code",
   "execution_count": null,
   "metadata": {
    "scrolled": true,
    "slideshow": {
     "slide_type": "-"
    }
   },
   "outputs": [],
   "source": [
    "np.random.randn(100) # This generates 100 draws from N(0,1)"
   ]
  },
  {
   "cell_type": "markdown",
   "metadata": {
    "slideshow": {
     "slide_type": "slide"
    }
   },
   "source": [
    "Instead of using for loops, we can do matrix calculations."
   ]
  },
  {
   "cell_type": "code",
   "execution_count": null,
   "metadata": {
    "slideshow": {
     "slide_type": "-"
    }
   },
   "outputs": [],
   "source": [
    "X = np.random.randn(100,1)\n",
    "e = np.random.randn(100,1)\n",
    "\n",
    "Y = 2*X + e\n",
    "Y[:10]"
   ]
  },
  {
   "cell_type": "markdown",
   "metadata": {
    "slideshow": {
     "slide_type": "slide"
    }
   },
   "source": [
    "Numpy could estimate the linear regression parameter two different ways:\n",
    "- Matrix way.\n",
    "- Numerical way."
   ]
  },
  {
   "cell_type": "markdown",
   "metadata": {
    "slideshow": {
     "slide_type": "slide"
    }
   },
   "source": [
    "#### The matrix way. \n",
    "\n",
    "What's the formula?\n",
    "\n"
   ]
  },
  {
   "cell_type": "markdown",
   "metadata": {
    "slideshow": {
     "slide_type": "slide"
    }
   },
   "source": [
    "$\\beta = (X'X)^{-1}(X'Y)$"
   ]
  },
  {
   "cell_type": "code",
   "execution_count": null,
   "metadata": {
    "slideshow": {
     "slide_type": "-"
    }
   },
   "outputs": [],
   "source": [
    "from numpy.linalg import inv as inverse # Renamed the function\n",
    "\n",
    "XX_inv = inverse(X.T@X) # (X'X)^{-1}\n",
    "                        # @ = matrix multiplication\n",
    "XY = X.T@Y              # (X'Y)\n",
    "beta_hat = XX_inv@XY  \n",
    "beta_hat"
   ]
  },
  {
   "cell_type": "markdown",
   "metadata": {
    "slideshow": {
     "slide_type": "-"
    }
   },
   "source": [
    "Easy as that!"
   ]
  },
  {
   "cell_type": "markdown",
   "metadata": {
    "slideshow": {
     "slide_type": "slide"
    }
   },
   "source": [
    "#### The numerical way\n",
    "\n",
    "I'll use the SSE function we used before, but instead of using a for loop to determine things I will use:\n",
    "- Matrix operations to find SSE\n",
    "- A list comprehension to calculate SSE for different $\\beta$\n",
    "- The function \"np.argmin\" to find the array element with the smallest value."
   ]
  },
  {
   "cell_type": "code",
   "execution_count": null,
   "metadata": {
    "slideshow": {
     "slide_type": "slide"
    }
   },
   "outputs": [],
   "source": [
    "def sse(beta,X,Y):\n",
    "    sse_array = ((Y- X*beta)**2) # * = element by element multiplication\n",
    "    sse = sse_array.sum() # Sum the array\n",
    "    return sse\n",
    "\n",
    "beta_grid = [-1,0,1,2,3,4] # Choose some candidates for beta\n",
    "\n",
    "sse_vals = np.array([sse(b,X,Y) for b in beta_grid]) # List comprehension!\n",
    "\n",
    "beta_grid[np.argmin(sse_vals)] # argmin tells me the index \n",
    "                               # for the element of the array with the smallest value"
   ]
  },
  {
   "cell_type": "markdown",
   "metadata": {
    "slideshow": {
     "slide_type": "-"
    }
   },
   "source": [
    "and __voila!__ We can do linear regression with numpy arrays either numerically or with the matrix formula."
   ]
  },
  {
   "attachments": {
    "image.png": {
     "image/png": "[encoded data removed]"
    }
   },
   "cell_type": "markdown",
   "metadata": {
    "slideshow": {
     "slide_type": "slide"
    }
   },
   "source": [
    "### Some other Numpy things that you will find to be useful\n",
    "- Indexing arrays:\n",
    "    - Just like lists, you can use slices like `array[::2]`\n",
    "    - Or pass Boolean vectors to subset: `array[array<2]`\n",
    "![image.png](attachment:image.png)\n",
    "<center>from PyEcon slideshow, slide 118: https://pyecon.org/down/pyecon.pdf </center>\n"
   ]
  },
  {
   "cell_type": "markdown",
   "metadata": {
    "slideshow": {
     "slide_type": "slide"
    }
   },
   "source": [
    "- Concatenating arrays:\n",
    "    - As long as the dimensions align, you can concatenate by specifying \"axis\": `np.concatenate([arr1,arr2],axis=0)`\n",
    "    - Cheat sheet: `axis=0` is the __row axis__, `axis=1` is the __column axis__."
   ]
  },
  {
   "cell_type": "code",
   "execution_count": null,
   "metadata": {},
   "outputs": [],
   "source": [
    "np.concatenate([m,m],axis=1)"
   ]
  },
  {
   "cell_type": "code",
   "execution_count": null,
   "metadata": {
    "slideshow": {
     "slide_type": "slide"
    }
   },
   "outputs": [],
   "source": [
    "np.concatenate([m,m],axis=0)"
   ]
  },
  {
   "cell_type": "markdown",
   "metadata": {
    "slideshow": {
     "slide_type": "slide"
    }
   },
   "source": [
    "## Pandas\n",
    "\n",
    "The two main objects of Pandas:\n",
    "\n",
    "- `pd.Series()`, which is only one dimension.\n",
    "- `pd.DataFrame()`, which is two dimensions.\n",
    "\n",
    "The functionality is similar to the dataframes in R.\n",
    "\n",
    "What I love about DataFrames, however, is the number of built-in methods!"
   ]
  },
  {
   "cell_type": "code",
   "execution_count": null,
   "metadata": {
    "slideshow": {
     "slide_type": "-"
    }
   },
   "outputs": [],
   "source": [
    "import pandas as pd"
   ]
  },
  {
   "cell_type": "code",
   "execution_count": null,
   "metadata": {
    "slideshow": {
     "slide_type": "slide"
    }
   },
   "outputs": [],
   "source": [
    "the_array = np.concatenate([X,Y],axis=1)\n",
    "the_array[:10]"
   ]
  },
  {
   "cell_type": "code",
   "execution_count": null,
   "metadata": {
    "slideshow": {
     "slide_type": "slide"
    }
   },
   "outputs": [],
   "source": [
    "df = pd.DataFrame(the_array,columns=['X','Y'])\n",
    "df.head()"
   ]
  },
  {
   "cell_type": "markdown",
   "metadata": {
    "slideshow": {
     "slide_type": "slide"
    }
   },
   "source": [
    "Pandas can also convert dictionaries to DataFrames very easily:"
   ]
  },
  {
   "cell_type": "code",
   "execution_count": null,
   "metadata": {
    "slideshow": {
     "slide_type": "-"
    }
   },
   "outputs": [],
   "source": [
    "Babies = {\"Bart Harley Jarvis\":{\n",
    "                \"Description\" : \"Underbite, flat back of the head\",\n",
    "                \"Weight Percentile\" : 50,\n",
    "                \"Height Percentile\" : 80 },\n",
    "          \"Michael Patrick Porkins\":{\n",
    "                \"Description\" : \"Button nose, apple cheeks\",\n",
    "                \"Weight Percentile\" : 99,\n",
    "                \"Height Percentile\" : 10},\n",
    "          \"Taffy Lee Fubbins\" : {\n",
    "                \"Description\" : \"Tuna can\",\n",
    "                \"Weight Percentile\" : 90,\n",
    "                \"Height Percentile\" : 10}}"
   ]
  },
  {
   "cell_type": "code",
   "execution_count": null,
   "metadata": {
    "slideshow": {
     "slide_type": "slide"
    }
   },
   "outputs": [],
   "source": [
    "pd.DataFrame(Babies)"
   ]
  },
  {
   "cell_type": "markdown",
   "metadata": {
    "slideshow": {
     "slide_type": "slide"
    }
   },
   "source": [
    "Selecting one column returns a Series:"
   ]
  },
  {
   "cell_type": "code",
   "execution_count": null,
   "metadata": {
    "slideshow": {
     "slide_type": "-"
    }
   },
   "outputs": [],
   "source": [
    "df['X'].head()"
   ]
  },
  {
   "cell_type": "markdown",
   "metadata": {
    "slideshow": {
     "slide_type": "slide"
    }
   },
   "source": [
    "Selecting more columns returns a DataFrame"
   ]
  },
  {
   "cell_type": "code",
   "execution_count": null,
   "metadata": {
    "slideshow": {
     "slide_type": "-"
    }
   },
   "outputs": [],
   "source": [
    "type(df[['X','Y']].head())"
   ]
  },
  {
   "cell_type": "markdown",
   "metadata": {
    "slideshow": {
     "slide_type": "slide"
    }
   },
   "source": [
    "You can also pass slices just like in arrays, with one critical difference: Pandas indices are __labeled__.\n",
    "\n",
    "Thus you need to tell Pandas whether you are giving it a label or a positional index.\n",
    "\n",
    "- `.loc` is for labeled indices.\n",
    "- `.iloc` is for positional indices (integer based)."
   ]
  },
  {
   "cell_type": "code",
   "execution_count": null,
   "metadata": {
    "slideshow": {
     "slide_type": "slide"
    }
   },
   "outputs": [],
   "source": [
    "df.loc[0,\"X\"]"
   ]
  },
  {
   "cell_type": "code",
   "execution_count": null,
   "metadata": {
    "scrolled": true,
    "slideshow": {
     "slide_type": "-"
    }
   },
   "outputs": [],
   "source": [
    "df.iloc[0,\"X\"]"
   ]
  },
  {
   "cell_type": "code",
   "execution_count": null,
   "metadata": {
    "scrolled": true,
    "slideshow": {
     "slide_type": "slide"
    }
   },
   "outputs": [],
   "source": [
    "df.loc[2,\"X\"]"
   ]
  },
  {
   "cell_type": "code",
   "execution_count": null,
   "metadata": {
    "scrolled": true,
    "slideshow": {
     "slide_type": "-"
    }
   },
   "outputs": [],
   "source": [
    "df.iloc[2,0]"
   ]
  },
  {
   "cell_type": "markdown",
   "metadata": {
    "slideshow": {
     "slide_type": "slide"
    }
   },
   "source": [
    "### Indexing using Boolean arrays\n",
    "When you pass a DataFrame a Boolean array, it subsets the data to the rows where the value is `True`\n",
    "\n",
    "As long as you understand this, you can do subsetting __very__ easily in Pandas:"
   ]
  },
  {
   "cell_type": "code",
   "execution_count": null,
   "metadata": {
    "slideshow": {
     "slide_type": "slide"
    }
   },
   "outputs": [],
   "source": [
    "# On axis 1\n",
    "df.iloc[:,[True,False]].head()"
   ]
  },
  {
   "cell_type": "code",
   "execution_count": null,
   "metadata": {
    "scrolled": true,
    "slideshow": {
     "slide_type": "slide"
    }
   },
   "outputs": [],
   "source": [
    "# On axis 0\n",
    "df.iloc[[True,False]*50,[True,False]].head()"
   ]
  },
  {
   "cell_type": "markdown",
   "metadata": {
    "slideshow": {
     "slide_type": "-"
    }
   },
   "source": [
    "__What did I just do with the code  `df.iloc[[True,False]*50,:].head()`__?"
   ]
  },
  {
   "cell_type": "markdown",
   "metadata": {
    "slideshow": {
     "slide_type": "slide"
    }
   },
   "source": [
    "Step by step:\n",
    "\n",
    "`[True,False]` is a list with two booleans.\n",
    "\n",
    "\n",
    "`[True,False]*50` is that array duplicated 50 times (total length 100) __(This shouldn't work in other languages)__\n",
    "\n",
    "`df.iloc[[True,False]*50,:]` passed the 100 length list to the first axis (rows). This subsets the dataframe to be every other row.\n",
    "\n",
    "`df.iloc[[True,False]*50,:].head()` returns the first 5 rows of the dataframe.\n",
    "\n",
    "Writing good code, I would have spelled these steps out one by one instead of doing only one line and being lazy..."
   ]
  },
  {
   "cell_type": "markdown",
   "metadata": {
    "slideshow": {
     "slide_type": "slide"
    }
   },
   "source": [
    "__Why is this useful?__\n",
    "\n",
    "I can create a boolean Series just by applying a condition to a Series:\n",
    "\n",
    "`df['X'] > 0`\n",
    "\n",
    "I can feed this boolean array into the index:"
   ]
  },
  {
   "cell_type": "code",
   "execution_count": null,
   "metadata": {},
   "outputs": [],
   "source": [
    "df[df['X']<0].head()"
   ]
  },
  {
   "cell_type": "code",
   "execution_count": null,
   "metadata": {
    "slideshow": {
     "slide_type": "slide"
    }
   },
   "outputs": [],
   "source": [
    "df[(df['X']<0)]['X'].max()"
   ]
  },
  {
   "cell_type": "markdown",
   "metadata": {
    "slideshow": {
     "slide_type": "-"
    }
   },
   "source": [
    "By default, feeding it into brackets feeds it into the first axis.\n",
    "\n",
    "But if I feed it a label, it also knows to first check whether this is a column.\n",
    "\n",
    "This is part of why Python is easy to use, but also __easy to screw things up__."
   ]
  },
  {
   "cell_type": "markdown",
   "metadata": {
    "slideshow": {
     "slide_type": "slide"
    }
   },
   "source": [
    "### Methods\n",
    "This is one of the reasons I got hooked on Python. Pandas DataFrames have several built-in methods that make data manipulation __very easy__.\n",
    "\n",
    "Also, there are ways to easily apply your own functions to dataframes, which is good for data cleaning.\n",
    "\n",
    "Some key ones:\n",
    "- built in data frame methods\n",
    "- `groupby()`\n",
    "- `apply()` and `map()`"
   ]
  },
  {
   "cell_type": "markdown",
   "metadata": {
    "slideshow": {
     "slide_type": "slide"
    }
   },
   "source": [
    "#### Stats functions.\n",
    "All of the major moments:"
   ]
  },
  {
   "cell_type": "code",
   "execution_count": null,
   "metadata": {
    "scrolled": true,
    "slideshow": {
     "slide_type": "-"
    }
   },
   "outputs": [],
   "source": [
    "df.mean(), df.std(), df.var(), df.skew(), df.kurtosis()"
   ]
  },
  {
   "cell_type": "markdown",
   "metadata": {
    "slideshow": {
     "slide_type": "slide"
    }
   },
   "source": [
    "Correlations:"
   ]
  },
  {
   "cell_type": "code",
   "execution_count": null,
   "metadata": {
    "slideshow": {
     "slide_type": "-"
    }
   },
   "outputs": [],
   "source": [
    "df.corr()"
   ]
  },
  {
   "cell_type": "markdown",
   "metadata": {
    "slideshow": {
     "slide_type": "slide"
    }
   },
   "source": [
    "#### Sequential operations.\n",
    "Such as differences and shifts:"
   ]
  },
  {
   "cell_type": "code",
   "execution_count": null,
   "metadata": {
    "slideshow": {
     "slide_type": "-"
    }
   },
   "outputs": [],
   "source": [
    "df['D_X'] = df['X'].diff()\n",
    "df['L_X'] = df['X'].shift()\n",
    "\n",
    "df.head()"
   ]
  },
  {
   "cell_type": "markdown",
   "metadata": {
    "slideshow": {
     "slide_type": "slide"
    }
   },
   "source": [
    "Even random things like \"percent change\""
   ]
  },
  {
   "cell_type": "code",
   "execution_count": null,
   "metadata": {
    "slideshow": {
     "slide_type": "-"
    }
   },
   "outputs": [],
   "source": [
    "df['X'].pct_change()"
   ]
  },
  {
   "cell_type": "markdown",
   "metadata": {
    "slideshow": {
     "slide_type": "slide"
    }
   },
   "source": [
    "#### Useful data exploration ones:"
   ]
  },
  {
   "cell_type": "code",
   "execution_count": null,
   "metadata": {
    "slideshow": {
     "slide_type": "-"
    }
   },
   "outputs": [],
   "source": [
    "# How many non-null values are there?\n",
    "df['D_X'].count()"
   ]
  },
  {
   "cell_type": "code",
   "execution_count": null,
   "metadata": {
    "slideshow": {
     "slide_type": "-"
    }
   },
   "outputs": [],
   "source": [
    "df['D_X_neg'] = df['D_X']<0\n",
    "# How many unique values are there?\n",
    "df['D_X_neg'].nunique()"
   ]
  },
  {
   "cell_type": "code",
   "execution_count": null,
   "metadata": {},
   "outputs": [],
   "source": [
    "# How many occurences of each unique value?\n",
    "df['D_X_neg'].value_counts()"
   ]
  },
  {
   "cell_type": "code",
   "execution_count": null,
   "metadata": {
    "slideshow": {
     "slide_type": "-"
    }
   },
   "outputs": [],
   "source": [
    "# What are those unique values?\n",
    "df['D_X_neg'].unique()"
   ]
  },
  {
   "cell_type": "code",
   "execution_count": null,
   "metadata": {
    "slideshow": {
     "slide_type": "slide"
    }
   },
   "outputs": [],
   "source": [
    "df.describe()"
   ]
  },
  {
   "cell_type": "code",
   "execution_count": null,
   "metadata": {
    "slideshow": {
     "slide_type": "-"
    }
   },
   "outputs": [],
   "source": [
    "df[['D_X_neg']].drop_duplicates()"
   ]
  },
  {
   "cell_type": "markdown",
   "metadata": {
    "slideshow": {
     "slide_type": "slide"
    }
   },
   "source": [
    "#### Making quick plots:"
   ]
  },
  {
   "cell_type": "code",
   "execution_count": null,
   "metadata": {
    "scrolled": true,
    "slideshow": {
     "slide_type": "-"
    }
   },
   "outputs": [],
   "source": [
    "df['X'].plot(kind='hist',bins=20,color=\"C0\")"
   ]
  },
  {
   "cell_type": "code",
   "execution_count": null,
   "metadata": {
    "slideshow": {
     "slide_type": "slide"
    }
   },
   "outputs": [],
   "source": [
    "df.plot(kind='density',color=[\"C0\",\"C2\",\"C3\"])"
   ]
  },
  {
   "cell_type": "code",
   "execution_count": null,
   "metadata": {
    "scrolled": true,
    "slideshow": {
     "slide_type": "slide"
    }
   },
   "outputs": [],
   "source": [
    "df.plot(kind='scatter',x=\"X\",y=\"Y\")"
   ]
  },
  {
   "cell_type": "markdown",
   "metadata": {
    "slideshow": {
     "slide_type": "slide"
    }
   },
   "source": [
    "#### Groupby\n",
    "\n",
    "Ok, now for the really cool one: `groupby`\n",
    "\n",
    "Groupby takes an argument that is a discrete variable and then applies whatever built in function you call to each group."
   ]
  },
  {
   "cell_type": "code",
   "execution_count": null,
   "metadata": {
    "slideshow": {
     "slide_type": "-"
    }
   },
   "outputs": [],
   "source": [
    "df.groupby(\"D_X_neg\").mean()"
   ]
  },
  {
   "cell_type": "code",
   "execution_count": null,
   "metadata": {
    "slideshow": {
     "slide_type": "-"
    }
   },
   "outputs": [],
   "source": [
    "df.groupby(\"D_X_neg\").sum()"
   ]
  },
  {
   "cell_type": "markdown",
   "metadata": {
    "slideshow": {
     "slide_type": "slide"
    }
   },
   "source": [
    "A really useful application is __panel data__. If you have individual $i$ in time $t$, you can produce first differences of any variable by writing:\n",
    "\n",
    "`df = df.sort_values([\"i\",\"t\"])`\n",
    "\n",
    "`df.groupby('i')['var'].diff()`\n",
    "\n",
    "The first statement is key, because the `diff` function takes the difference based on the order it comes in the dataframe. By putting it in order first, you can use `diff` or `shift` to produce differences or lags.\n",
    "\n",
    "__Note:__ `diff` and `shift` take an argument, which is how many periods you want to shift or diff (order of the lag or difference)"
   ]
  },
  {
   "cell_type": "markdown",
   "metadata": {
    "slideshow": {
     "slide_type": "slide"
    }
   },
   "source": [
    "#### Apply and map\n",
    "Crucially, you can also use your own functions in the dataframe.\n",
    "\n",
    "- Element by element functions.\n",
    "- Group by group functions.\n",
    "\n",
    "__map__ is for Series, whereas __apply__ is for dataframes.\n",
    "\n",
    "Suppose I wanted to add the word \"dog\" to the end of every value of a column. We want to use map for this, and you must write the function as if it is receiving a scalar input."
   ]
  },
  {
   "cell_type": "code",
   "execution_count": null,
   "metadata": {
    "slideshow": {
     "slide_type": "slide"
    }
   },
   "outputs": [],
   "source": [
    "def add_dog(x):\n",
    "    return str( round(x, 2) )+ \"dog\"\n",
    "\n",
    "df['X'].map(add_dog)"
   ]
  },
  {
   "cell_type": "markdown",
   "metadata": {
    "slideshow": {
     "slide_type": "slide"
    }
   },
   "source": [
    "#### Another aside: lambda functions\n",
    "\n",
    "In python, these two things are equivalent:\n",
    "- ` def add_dog(x): str( round(x,2) ) + \"dog\"`\n",
    "- ` add_dog = lambda x: str( round(x,2) ) + \"dog\"`\n",
    "\n",
    "The second is an example of a __lambda function__."
   ]
  },
  {
   "cell_type": "markdown",
   "metadata": {
    "slideshow": {
     "slide_type": "slide"
    }
   },
   "source": [
    "Example:"
   ]
  },
  {
   "cell_type": "code",
   "execution_count": null,
   "metadata": {
    "slideshow": {
     "slide_type": "-"
    }
   },
   "outputs": [],
   "source": [
    "add_cat = lambda x: str(x) + \"cat\"\n",
    "\n",
    "add_cat(\"dog\")"
   ]
  },
  {
   "cell_type": "markdown",
   "metadata": {
    "slideshow": {
     "slide_type": "-"
    }
   },
   "source": [
    "This a quicker way to write small functions very quickly."
   ]
  },
  {
   "cell_type": "markdown",
   "metadata": {
    "slideshow": {
     "slide_type": "slide"
    }
   },
   "source": [
    "Lambda functions can be made on the fly and are ideal for functions you don't want to use more than once. We can make one for this function and `map` will accept it:"
   ]
  },
  {
   "cell_type": "code",
   "execution_count": null,
   "metadata": {
    "slideshow": {
     "slide_type": "-"
    }
   },
   "outputs": [],
   "source": [
    "           # Lambda functions have this form: \n",
    "           #lambda var: then_write_your_function_of_var\n",
    "df['X'].map(lambda x: str( round(x, 2) ) + \"dog\").head()"
   ]
  },
  {
   "cell_type": "markdown",
   "metadata": {
    "slideshow": {
     "slide_type": "slide"
    }
   },
   "source": [
    "If we need a function that applies across an axis, that is when we need __apply__, and you must write the function as if it is receiving a column or row."
   ]
  },
  {
   "cell_type": "code",
   "execution_count": null,
   "metadata": {
    "slideshow": {
     "slide_type": "-"
    }
   },
   "outputs": [],
   "source": [
    "def stringify(column):\n",
    "    return column.astype(str).sum()"
   ]
  },
  {
   "cell_type": "code",
   "execution_count": null,
   "metadata": {
    "slideshow": {
     "slide_type": "slide"
    }
   },
   "outputs": [],
   "source": [
    "df.apply(stringify,axis=1)"
   ]
  },
  {
   "cell_type": "code",
   "execution_count": null,
   "metadata": {
    "slideshow": {
     "slide_type": "-"
    }
   },
   "outputs": [],
   "source": [
    "df.apply(stringify,axis=0)"
   ]
  },
  {
   "cell_type": "markdown",
   "metadata": {
    "slideshow": {
     "slide_type": "slide"
    }
   },
   "source": [
    "#### Group functions\n",
    "\n",
    "Suppose we wanted to standardize a variable to mean 0 and standard deviation 1."
   ]
  },
  {
   "cell_type": "code",
   "execution_count": null,
   "metadata": {
    "scrolled": true,
    "slideshow": {
     "slide_type": "-"
    }
   },
   "outputs": [],
   "source": [
    "df[\"Z\"] = np.random.randn(100)*.2 +5\n",
    "\n",
    "df['Z'].mean(), \\\n",
    "df['Z'].std()"
   ]
  },
  {
   "cell_type": "markdown",
   "metadata": {
    "slideshow": {
     "slide_type": "slide"
    }
   },
   "source": [
    "Let's write a function that does that:"
   ]
  },
  {
   "cell_type": "code",
   "execution_count": null,
   "metadata": {
    "slideshow": {
     "slide_type": "-"
    }
   },
   "outputs": [],
   "source": [
    "def standardize(column):\n",
    "    return ( column - column.mean() )  /  column.std()"
   ]
  },
  {
   "cell_type": "code",
   "execution_count": null,
   "metadata": {
    "slideshow": {
     "slide_type": "-"
    }
   },
   "outputs": [],
   "source": [
    "standardize(df['Z']).mean(),\\\n",
    "standardize(df['Z']).std()"
   ]
  },
  {
   "cell_type": "markdown",
   "metadata": {
    "slideshow": {
     "slide_type": "slide"
    }
   },
   "source": [
    "__We can also do this operation group by group:__"
   ]
  },
  {
   "cell_type": "code",
   "execution_count": null,
   "metadata": {
    "slideshow": {
     "slide_type": "-"
    }
   },
   "outputs": [],
   "source": [
    "group_object = df.groupby(\"D_X_neg\",group_keys=False)\n",
    "\n",
    "df['Z_stdized_g'] = group_object['Z'].apply(standardize)"
   ]
  },
  {
   "cell_type": "code",
   "execution_count": null,
   "metadata": {
    "slideshow": {
     "slide_type": "-"
    }
   },
   "outputs": [],
   "source": [
    "df.groupby(\"D_X_neg\")['Z_stdized_g'].mean()"
   ]
  },
  {
   "cell_type": "markdown",
   "metadata": {
    "slideshow": {
     "slide_type": "-"
    }
   },
   "source": [
    "Super handy for doing data cleaning procedures by groups."
   ]
  },
  {
   "cell_type": "markdown",
   "metadata": {
    "slideshow": {
     "slide_type": "slide"
    }
   },
   "source": [
    "### Another handy use of \".loc\"\n",
    "You can do a \"find and replace\" using .loc in your dataframe.\n",
    "\n",
    "Suppose that you think all values of `X` below zero create mistakes in `Z`, and you want to replace values of `Z` with `NaN` if that is the case.\n",
    "\n",
    "`.loc` allows you to do this kind of conditional replacement."
   ]
  },
  {
   "cell_type": "code",
   "execution_count": null,
   "metadata": {
    "slideshow": {
     "slide_type": "slide"
    }
   },
   "outputs": [],
   "source": [
    "df.loc[df['X']<0,\"Z\"] = np.nan\n",
    "df.head(10)"
   ]
  },
  {
   "cell_type": "markdown",
   "metadata": {
    "slideshow": {
     "slide_type": "-"
    }
   },
   "source": [
    "__Now what just happened there?__"
   ]
  },
  {
   "cell_type": "markdown",
   "metadata": {
    "slideshow": {
     "slide_type": "slide"
    }
   },
   "source": [
    "Step by step:\n",
    "- Inside `.loc`, it evaluated a condition: `df['X']<0`, which created a Boolean vector.\n",
    "- We fed that boolean vector into the \"row\" position, and gave it the label `Z` for the column vector.\n",
    "- We then __assigned a value__ to this __view__ of the dataframe, which was the missing value object `NaN`\n",
    "\n",
    "We saw before how changing views of the data can lead to issues, but this is a case where it's very useful."
   ]
  },
  {
   "cell_type": "markdown",
   "metadata": {
    "slideshow": {
     "slide_type": "slide"
    }
   },
   "source": [
    "Still, be careful..."
   ]
  },
  {
   "cell_type": "code",
   "execution_count": null,
   "metadata": {
    "slideshow": {
     "slide_type": "-"
    }
   },
   "outputs": [],
   "source": [
    "df_new = df\n",
    "\n",
    "df_new['Z'] = df_new['Z'].fillna(\"Missing\")\n",
    "\n",
    "df.head()"
   ]
  },
  {
   "cell_type": "markdown",
   "metadata": {
    "slideshow": {
     "slide_type": "slide"
    }
   },
   "source": [
    "It does __not do this__ when doing certain operations, however..."
   ]
  },
  {
   "cell_type": "code",
   "execution_count": null,
   "metadata": {
    "slideshow": {
     "slide_type": "-"
    }
   },
   "outputs": [],
   "source": [
    "df_head = df.head()\n",
    "\n",
    "df_head['X'] = \"all Garfield\"\n",
    "\n",
    "df.head()"
   ]
  },
  {
   "cell_type": "markdown",
   "metadata": {
    "slideshow": {
     "slide_type": "-"
    }
   },
   "source": [
    "__Why didn't it change every row of `X` to \"all Garfield\"?__"
   ]
  },
  {
   "cell_type": "markdown",
   "metadata": {
    "slideshow": {
     "slide_type": "slide"
    }
   },
   "source": [
    "__The short answer:__ Operations in Pandas (e.g. `.head()`) __always__ create copies of DataFrames. Therefore we edited a totally new DataFrame.\n",
    "\n",
    "Pandas sends us a `SettingWithCopyWarning` to inform us that we are not modifying the original DataFrame.\n",
    "\n",
    "__The good part:__ You can test out edits before doing it to your main DataFrame. I do this sometimes when I'm not sure what a data cleaning process will do and my data takes a long time to read in.\n",
    "\n",
    "__The bad part:__ if you create a lot of dataframes, you can eat up memory very quickly."
   ]
  },
  {
   "cell_type": "markdown",
   "metadata": {
    "slideshow": {
     "slide_type": "slide"
    }
   },
   "source": [
    "If we wanted to make the first five rows of X \"all Garfield,\" we can use `.loc` instead:"
   ]
  },
  {
   "cell_type": "code",
   "execution_count": null,
   "metadata": {
    "slideshow": {
     "slide_type": "-"
    }
   },
   "outputs": [],
   "source": [
    "df.loc[:5,\"X\"] = \"all Garfield\"\n",
    "\n",
    "df.head(7)"
   ]
  },
  {
   "cell_type": "markdown",
   "metadata": {
    "slideshow": {
     "slide_type": "slide"
    }
   },
   "source": [
    "__Pandas almost never does \"in place\" operations unless you tell it to__.\n",
    "\n",
    "An example is if you wanted to drop columns. The following code will generate an entirely new dataframe without the column."
   ]
  },
  {
   "cell_type": "code",
   "execution_count": null,
   "metadata": {
    "slideshow": {
     "slide_type": "-"
    }
   },
   "outputs": [],
   "source": [
    "df.drop(\"D_X\",axis=1)"
   ]
  },
  {
   "cell_type": "code",
   "execution_count": null,
   "metadata": {
    "slideshow": {
     "slide_type": "-"
    }
   },
   "outputs": [],
   "source": [
    "df.head()"
   ]
  },
  {
   "cell_type": "markdown",
   "metadata": {
    "slideshow": {
     "slide_type": "slide"
    }
   },
   "source": [
    "So you must assign it back if that's the DataFrame you want."
   ]
  },
  {
   "cell_type": "code",
   "execution_count": null,
   "metadata": {
    "scrolled": true,
    "slideshow": {
     "slide_type": "-"
    }
   },
   "outputs": [],
   "source": [
    "df = df.drop(\"D_X\",axis=1).head()\n",
    "df.head()"
   ]
  },
  {
   "cell_type": "markdown",
   "metadata": {
    "slideshow": {
     "slide_type": "slide"
    }
   },
   "source": [
    "You can, however, specify that it does it \"in place,\" meaning it will modify the object and not generate a new one."
   ]
  },
  {
   "cell_type": "code",
   "execution_count": null,
   "metadata": {},
   "outputs": [],
   "source": [
    "df.drop(\"L_X\",axis=1,inplace=True)"
   ]
  },
  {
   "cell_type": "code",
   "execution_count": null,
   "metadata": {},
   "outputs": [],
   "source": [
    "df.head()"
   ]
  },
  {
   "cell_type": "markdown",
   "metadata": {
    "slideshow": {
     "slide_type": "slide"
    }
   },
   "source": [
    "### Data Merging in Pandas:\n",
    "- `join` is for merging on indices; DataFrames must be the same size for this.\n",
    "- `concat` is for concatenation like in Numpy.\n",
    "- `merge` is for any of the above but includes many to one merges.\n",
    "    - Instead of the \"m:1\" stuff Stata uses, it uses `left`, `right`, `outer` and `inner` (which comes from SQL)."
   ]
  },
  {
   "attachments": {
    "image.png": {
     "image/png": "[encoded data removed]"
    }
   },
   "cell_type": "markdown",
   "metadata": {
    "slideshow": {
     "slide_type": "slide"
    }
   },
   "source": [
    "![image.png](attachment:image.png)\n",
    "\n",
    "\n",
    "[Link to image](https://medium.com/swlh/merging-dataframes-with-pandas-pd-merge-7764c7e2d46d)"
   ]
  },
  {
   "cell_type": "markdown",
   "metadata": {
    "slideshow": {
     "slide_type": "slide"
    }
   },
   "source": [
    "- inner: keep rows that match on the keys in __both__ dataframes.\n",
    "- outer: keep __all__ rows __regardless__ of whether keys match.\n",
    "- left: keep all rows in the right that match and all the left.\n",
    "- right: inverse of left."
   ]
  },
  {
   "cell_type": "code",
   "execution_count": null,
   "metadata": {
    "slideshow": {
     "slide_type": "slide"
    }
   },
   "outputs": [],
   "source": [
    "df['Missing'] = df['Z'] == \"Missing\" # Make a boolean column for missing values in Z\n",
    "\n",
    "Y_means = df.groupby(\"Missing\")['Y'].mean() # Take the mean of Y by these two groups\n",
    "Y_means = Y_means.reset_index() # Reset index so that \"Missing appears\"\n",
    "\n",
    "df.merge(Y_means,on=\"Missing\",how=\"left\",suffixes=(\"\",\"_mean\"))"
   ]
  },
  {
   "cell_type": "markdown",
   "metadata": {
    "slideshow": {
     "slide_type": "-"
    }
   },
   "source": [
    "__What did this code just do?__"
   ]
  },
  {
   "cell_type": "markdown",
   "metadata": {
    "slideshow": {
     "slide_type": "slide"
    }
   },
   "source": [
    "Step-by-step:\n",
    "- `df['Missing'] = df['Z'] == \"Missing\"` created a column called \"Missing\" that is a Boolean vector.\n",
    "- `Y_means = df.groupby(\"Missing\")['Y'].mean().reset_index()`\n",
    "    - Groupby the variable \"Missing\"\n",
    "    - For the column Y, take the average for all levels of \"Missing\"\n"
   ]
  },
  {
   "cell_type": "code",
   "execution_count": null,
   "metadata": {},
   "outputs": [],
   "source": [
    "df.groupby(\"Missing\")['Y'].mean()"
   ]
  },
  {
   "cell_type": "markdown",
   "metadata": {},
   "source": [
    "- Reset the index so that you have a DataFrame that looks like this:"
   ]
  },
  {
   "cell_type": "code",
   "execution_count": null,
   "metadata": {
    "slideshow": {
     "slide_type": "-"
    }
   },
   "outputs": [],
   "source": [
    "df.groupby(\"Missing\")['Y'].mean().reset_index()"
   ]
  },
  {
   "cell_type": "markdown",
   "metadata": {
    "slideshow": {
     "slide_type": "slide"
    }
   },
   "source": [
    "- `df.merge(Y_means,on=\"Missing\",how=\"left\",suffixes=(\"\",\"_mean\"))`\n",
    "    - Do a left merge with the DataFrame I just created.\n",
    "    - Merge on the variable \"Missing.\"\n",
    "    - When there are overlapping columns, give the one on in the \"right\" DataFrame the suffix \"_mean\"\n",
    "    - The above option is because \"Y\" is in both DataFrames."
   ]
  },
  {
   "cell_type": "code",
   "execution_count": null,
   "metadata": {
    "slideshow": {
     "slide_type": "-"
    }
   },
   "outputs": [],
   "source": [
    "df.merge(Y_means,on=\"Missing\",how=\"left\",suffixes=(\"\",\"_mean\"))"
   ]
  },
  {
   "cell_type": "markdown",
   "metadata": {
    "slideshow": {
     "slide_type": "slide"
    }
   },
   "source": [
    "Another useful argument for `pd.merge()` is `indicator=\"string\"`, which creates something like the Stata `_merge` variable."
   ]
  },
  {
   "cell_type": "code",
   "execution_count": null,
   "metadata": {
    "slideshow": {
     "slide_type": "-"
    }
   },
   "outputs": [],
   "source": [
    "df.merge(Y_means,on=\"Missing\",how=\"left\",suffixes=(\"\",\"_mean\"),indicator=\"i\")"
   ]
  },
  {
   "cell_type": "markdown",
   "metadata": {
    "slideshow": {
     "slide_type": "-"
    }
   },
   "source": [
    "Labeled \"both\" because the values of `Missing` are found in both DataFrames. If we had something else it would mess up:"
   ]
  },
  {
   "cell_type": "code",
   "execution_count": null,
   "metadata": {
    "slideshow": {
     "slide_type": "slide"
    }
   },
   "outputs": [],
   "source": [
    "df.loc[df.Y>1,\"Missing\"] = \"Not Missing\""
   ]
  },
  {
   "cell_type": "code",
   "execution_count": null,
   "metadata": {
    "slideshow": {
     "slide_type": "-"
    }
   },
   "outputs": [],
   "source": [
    "df"
   ]
  },
  {
   "cell_type": "code",
   "execution_count": null,
   "metadata": {
    "slideshow": {
     "slide_type": "slide"
    }
   },
   "outputs": [],
   "source": [
    "df.merge(Y_means,on=\"Missing\",how=\"left\",suffixes=(\"\",\"_mean\"),indicator=\"_merge\")"
   ]
  },
  {
   "cell_type": "markdown",
   "metadata": {
    "slideshow": {
     "slide_type": "slide"
    }
   },
   "source": [
    "### Reading data in to Pandas.\n",
    "In addition to converting from dictionaries and arrays, Pandas reads from almost every file format.\n",
    "- `pd.read_csv` for .csv files.\n",
    "- `pd.read_html` for .html files (we will use this when doing scraping).\n",
    "- `pd.read_stata` for Stata data files.\n",
    "- `pd.read_json` for .json files (we will use this when retreiving API data)."
   ]
  },
  {
   "cell_type": "markdown",
   "metadata": {
    "slideshow": {
     "slide_type": "slide"
    }
   },
   "source": [
    "### Pandas vs. Stata\n",
    "- In Stata, there is __only one dataframe in memory at a time__. In Pandas these are objects and there can be as many in memory as you can hold.\n",
    "- Everything you do in Stata is \"in place.\" In Pandas this will __only happen if you specify it__.\n",
    "- When merging or joining, Pandas needs both DataFrames read into memory; this can be an issue if they are very big and requires you to use \"chunking\" or other work arounds.\n",
    "\n",
    "For other questions comparing pandas and Stata, I recommend consulting [this link](http://www.danielmsullivan.com/pages/tutorial_stata_to_python.html)\n",
    "\n",
    "If you want to compare to R, [consult this link](https://towardsdatascience.com/cheat-sheet-for-python-dataframe-r-dataframe-syntax-conversions-450f656b44ca)"
   ]
  }
 ],
 "metadata": {
  "celltoolbar": "Slideshow",
  "kernelspec": {
   "display_name": "Python 3 (ipykernel)",
   "language": "python",
   "name": "python3"
  },
  "language_info": {
   "codemirror_mode": {
    "name": "ipython",
    "version": 3
   },
   "file_extension": ".py",
   "mimetype": "text/x-python",
   "name": "python",
   "nbconvert_exporter": "python",
   "pygments_lexer": "ipython3",
   "version": "3.11.7"
  },
  "rise": {
   "transition": "none"
  }
 },
 "nbformat": 4,
 "nbformat_minor": 4
}
