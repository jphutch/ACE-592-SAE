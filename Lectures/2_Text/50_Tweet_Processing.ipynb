{
 "cells": [
  {
   "cell_type": "code",
   "execution_count": 1,
   "metadata": {
    "slideshow": {
     "slide_type": "skip"
    }
   },
   "outputs": [],
   "source": [
    "import glob\n",
    "import subprocess\n",
    "import os\n",
    "import json\n",
    "import pandas as pd"
   ]
  },
  {
   "cell_type": "markdown",
   "metadata": {
    "slideshow": {
     "slide_type": "slide"
    }
   },
   "source": [
    "# Processing Tweets"
   ]
  },
  {
   "cell_type": "code",
   "execution_count": 4,
   "metadata": {
    "slideshow": {
     "slide_type": "-"
    }
   },
   "outputs": [],
   "source": [
    "dir_ = \"C:/Users/jhtchns2/Box/ACE 592 SAE/Class_Examples/1_Text/\""
   ]
  },
  {
   "cell_type": "markdown",
   "metadata": {
    "slideshow": {
     "slide_type": "slide"
    }
   },
   "source": [
    "First things first, clean up the text files.\n",
    "\n",
    "### `sed` expressions\n",
    "To clean these files, I am using two \"sed\" expressions that remove blank whitespace and make it a proper json file.\n",
    "- `/^[[:space:]]*$/d` \n",
    "    - This one deletes lines that have only white space on them.\n",
    "- `1s/^/[/;$!s/$/,/;$s/$/]/` \n",
    "    - This one puts a comma at the end of each line and brackets it with \\[ and \\]"
   ]
  },
  {
   "cell_type": "code",
   "execution_count": 5,
   "metadata": {
    "slideshow": {
     "slide_type": "slide"
    }
   },
   "outputs": [],
   "source": [
    "for file in [dir_+\"sorry_tweets.txt\",dir_+\"econ_tweets.txt\"]:\n",
    "    temp_file = open(dir_+\"temp\", \"w\")\n",
    "    out_file = open(file.split(\"/\")[-1].split(\".\")[0] + \".json\", \"a\")\n",
    "    sub = subprocess.call(['sed', '/^[[:space:]]*$/d',file], stdout=temp_file )\n",
    "    sub = subprocess.call(['sed', '1s/^/[/;$!s/$/,/;$s/$/]/' , dir_+\"temp\"], stdout=out_file )"
   ]
  },
  {
   "cell_type": "markdown",
   "metadata": {
    "slideshow": {
     "slide_type": "slide"
    }
   },
   "source": [
    "Now let's put them into one dictionary:"
   ]
  },
  {
   "cell_type": "code",
   "execution_count": 6,
   "metadata": {
    "slideshow": {
     "slide_type": "-"
    }
   },
   "outputs": [
    {
     "name": "stdout",
     "output_type": "stream",
     "text": [
      "C:/Users/jhtchns2/Box/ACE 592 SAE/Class_Examples/1_Text/sorry_tweets.json\n",
      "C:/Users/jhtchns2/Box/ACE 592 SAE/Class_Examples/1_Text/econ_tweets.json\n"
     ]
    }
   ],
   "source": [
    "file_dict={}\n",
    "for file in [dir_+\"sorry_tweets.json\",dir_+\"econ_tweets.json\"]:\n",
    "    print(file)\n",
    "    with open(file) as f:\n",
    "        tweets = json.load(f)\n",
    "    file_dict[file.split(\"/\")[-1].split(\".\")[0]] = tweets"
   ]
  },
  {
   "cell_type": "markdown",
   "metadata": {
    "slideshow": {
     "slide_type": "slide"
    }
   },
   "source": [
    "Put them in dataframes:"
   ]
  },
  {
   "cell_type": "code",
   "execution_count": 10,
   "metadata": {
    "slideshow": {
     "slide_type": "-"
    }
   },
   "outputs": [],
   "source": [
    "df_S = pd.DataFrame()\n",
    "df_S['timestamp'] = [x['created_at'] for x in file_dict['sorry_tweets']]\n",
    "\n",
    "df_E = pd.DataFrame()\n",
    "df_E['timestamp'] = [x['created_at'] for x in file_dict['econ_tweets']]"
   ]
  },
  {
   "cell_type": "code",
   "execution_count": 11,
   "metadata": {
    "slideshow": {
     "slide_type": "slide"
    }
   },
   "outputs": [
    {
     "data": {
      "text/plain": [
       "(0    Tue Feb 15 23:53:22 +0000 2022\n",
       " 1    Tue Feb 15 23:55:09 +0000 2022\n",
       " 2    Tue Feb 15 23:58:11 +0000 2022\n",
       " 3    Tue Feb 15 23:58:56 +0000 2022\n",
       " 4    Tue Feb 15 23:59:08 +0000 2022\n",
       " Name: timestamp, dtype: object,\n",
       " 'Thu Feb 17 14:43:09 +0000 2022')"
      ]
     },
     "execution_count": 11,
     "metadata": {},
     "output_type": "execute_result"
    }
   ],
   "source": [
    "df_S['timestamp'][:5],df_S['timestamp'].iloc[-1]"
   ]
  },
  {
   "cell_type": "markdown",
   "metadata": {
    "slideshow": {
     "slide_type": "slide"
    }
   },
   "source": [
    "The full text is sometimes stored in a different key, sometimes not.\n",
    "\n",
    "How can we find the text in each of these two places in the tweet?"
   ]
  },
  {
   "cell_type": "markdown",
   "metadata": {
    "slideshow": {
     "slide_type": "slide"
    }
   },
   "source": [
    "Simple way: an `if` statement which checks if a certain key is present.\n",
    "\n",
    "For example, we can first check if a status is a retweet or not:"
   ]
  },
  {
   "cell_type": "code",
   "execution_count": 27,
   "metadata": {
    "slideshow": {
     "slide_type": "-"
    }
   },
   "outputs": [
    {
     "name": "stdout",
     "output_type": "stream",
     "text": [
      "RT\n",
      "RT\n",
      "not RT\n",
      "not RT\n",
      "not RT\n"
     ]
    }
   ],
   "source": [
    "for tweet in file_dict['sorry_tweets'][:5]:\n",
    "    if \"retweeted_status\" in list(tweet.keys()):\n",
    "        print(\"RT\")\n",
    "    else:\n",
    "        print(\"not RT\")"
   ]
  },
  {
   "cell_type": "markdown",
   "metadata": {
    "slideshow": {
     "slide_type": "slide"
    }
   },
   "source": [
    "Now let's go a layer deeper to figure out if the tweet is extended or not:"
   ]
  },
  {
   "cell_type": "code",
   "execution_count": 28,
   "metadata": {
    "scrolled": true,
    "slideshow": {
     "slide_type": "-"
    }
   },
   "outputs": [
    {
     "name": "stdout",
     "output_type": "stream",
     "text": [
      "RT and not extended\n",
      "RT and not extended\n",
      "not RT\n",
      "not RT\n",
      "not RT\n",
      "not RT\n",
      "not RT\n",
      "not RT\n",
      "not RT\n",
      "not RT\n",
      "not RT\n",
      "not RT\n",
      "not RT\n",
      "RT and not extended\n",
      "not RT\n",
      "not RT\n",
      "not RT\n",
      "not RT\n",
      "not RT\n",
      "not RT\n",
      "not RT\n",
      "not RT\n",
      "RT and extended\n",
      "not RT\n",
      "not RT\n",
      "not RT\n",
      "not RT\n",
      "RT and extended\n",
      "not RT\n",
      "RT and extended\n"
     ]
    }
   ],
   "source": [
    "for tweet in file_dict['sorry_tweets'][:30]:\n",
    "    if \"retweeted_status\" in list(tweet.keys()):\n",
    "        if \"extended_tweet\" in list(tweet['retweeted_status'].keys()):\n",
    "            print(\"RT and extended\")\n",
    "        else:\n",
    "            print(\"RT and not extended\")\n",
    "    else:\n",
    "        print(\"not RT\")"
   ]
  },
  {
   "cell_type": "markdown",
   "metadata": {
    "slideshow": {
     "slide_type": "slide"
    }
   },
   "source": [
    "We are missing a vital case though. What about if it's not a retweet but it is extended?"
   ]
  },
  {
   "cell_type": "code",
   "execution_count": 29,
   "metadata": {
    "scrolled": true,
    "slideshow": {
     "slide_type": "-"
    }
   },
   "outputs": [
    {
     "name": "stdout",
     "output_type": "stream",
     "text": [
      "RT and not extended\n",
      "RT and not extended\n",
      "not RT, extended\n",
      "not RT, not extended\n",
      "not RT, not extended\n",
      "not RT, not extended\n",
      "not RT, extended\n",
      "not RT, extended\n",
      "not RT, not extended\n",
      "not RT, not extended\n",
      "not RT, not extended\n",
      "not RT, not extended\n",
      "not RT, not extended\n",
      "RT and not extended\n",
      "not RT, not extended\n",
      "not RT, not extended\n",
      "not RT, extended\n",
      "not RT, extended\n",
      "not RT, extended\n",
      "not RT, not extended\n",
      "not RT, not extended\n",
      "not RT, extended\n",
      "RT and extended\n",
      "not RT, not extended\n",
      "not RT, extended\n",
      "not RT, extended\n",
      "not RT, extended\n",
      "RT and extended\n",
      "not RT, not extended\n",
      "RT and extended\n",
      "not RT, not extended\n",
      "not RT, extended\n",
      "not RT, not extended\n",
      "not RT, not extended\n",
      "RT and extended\n",
      "RT and not extended\n",
      "not RT, not extended\n",
      "not RT, not extended\n",
      "not RT, not extended\n",
      "not RT, extended\n"
     ]
    }
   ],
   "source": [
    "for tweet in file_dict['sorry_tweets'][:40]:\n",
    "    if \"retweeted_status\" in list(tweet.keys()):\n",
    "        if \"extended_tweet\" in list(tweet['retweeted_status'].keys()):\n",
    "            print(\"RT and extended\")\n",
    "        else:\n",
    "            print(\"RT and not extended\")\n",
    "    elif \"extended_tweet\" in list(tweet.keys()):\n",
    "        print(\"not RT, extended\")\n",
    "    else:\n",
    "        print(\"not RT, not extended\")"
   ]
  },
  {
   "cell_type": "markdown",
   "metadata": {
    "slideshow": {
     "slide_type": "slide"
    }
   },
   "source": [
    "Now let's amend this to capture the actual text by appending it to a list:"
   ]
  },
  {
   "cell_type": "code",
   "execution_count": 30,
   "metadata": {
    "slideshow": {
     "slide_type": "-"
    }
   },
   "outputs": [],
   "source": [
    "sorry_text = []\n",
    "for tweet in file_dict['sorry_tweets']:\n",
    "    if \"retweeted_status\" in list(tweet.keys()): # First evaluate whether RT\n",
    "        if \"extended_tweet\" in list(tweet['retweeted_status'].keys()): # Next evaluate whether extended\n",
    "            sorry_text.append(tweet['retweeted_status']['extended_tweet']['full_text'])\n",
    "        else: # Else not extended\n",
    "            sorry_text.append(tweet['retweeted_status']['text'])\n",
    "    elif \"extended_tweet\" in list(tweet.keys()): # Next evaluate whether Not RT and extended\n",
    "        sorry_text.append(tweet['extended_tweet']['full_text'])\n",
    "    else: # Else not extended, not RT\n",
    "        sorry_text.append(tweet['text'])"
   ]
  },
  {
   "cell_type": "code",
   "execution_count": 31,
   "metadata": {
    "slideshow": {
     "slide_type": "slide"
    }
   },
   "outputs": [
    {
     "data": {
      "text/plain": [
       "[\"New Tattoo! Can't wait to finish it my fucking back hurts #SorryNotSorry https://t.co/gqUzFxzwr3\",\n",
       " 'Mood.... #SorryNotSorry https://t.co/t5rTxtEDC7',\n",
       " 'To pseuds and hackers alike. I am sorry that in the last 72 hours I have implicated every social media account by design. #sorryNotSorry #best #52',\n",
       " 'This is some great information.  Check it out.',\n",
       " 'This is a test of my Twitter listening script.\\n\\nHi ACE 592 SAE!\\n\\n#econtwitter #sorrynotsorry',\n",
       " 'Me casoooooo ❤️😍🤤']"
      ]
     },
     "execution_count": 31,
     "metadata": {},
     "output_type": "execute_result"
    }
   ],
   "source": [
    "sorry_text[:6]"
   ]
  },
  {
   "cell_type": "code",
   "execution_count": 32,
   "metadata": {
    "slideshow": {
     "slide_type": "slide"
    }
   },
   "outputs": [],
   "source": [
    "econ_text = []\n",
    "for tweet in file_dict['econ_tweets']:\n",
    "    if \"retweeted_status\" in list(tweet.keys()):\n",
    "        if \"extended_tweet\" in list(tweet['retweeted_status'].keys()):\n",
    "            econ_text.append(tweet['retweeted_status']['extended_tweet']['full_text'])\n",
    "        else:\n",
    "            econ_text.append(tweet['retweeted_status']['text'])\n",
    "    elif \"extended_tweet\" in list(tweet.keys()):\n",
    "        econ_text.append(tweet['extended_tweet']['full_text'])\n",
    "    else:\n",
    "        econ_text.append(tweet['text'])"
   ]
  },
  {
   "cell_type": "code",
   "execution_count": 33,
   "metadata": {
    "scrolled": true,
    "slideshow": {
     "slide_type": "-"
    }
   },
   "outputs": [
    {
     "data": {
      "text/plain": [
       "['\"The extraordinarily large increases in two leading indicators of future rent inflation—asking rent inflation and house price inflation—point to significant upside risks to the overall inflation outlook.\"',\n",
       " 'Call for papers for the 8th annual @SERI_Econ workshop https://t.co/fuYjrAZXB3 \\nSubmission deadline: March 15 \\nSubmission link: https://t.co/6aWNubkep2 #EconTwitter #EconConf #EconC4P #EconIndia https://t.co/Gy9ppCGHyI',\n",
       " 'This is a test of my Twitter listening script.\\n\\nHi ACE 592 SAE!\\n\\n#econtwitter #sorrynotsorry',\n",
       " 'Follow the money; always follow the money.\\n\\n#monetarysactions #econtwitter #poverty #policy https://t.co/rXE4R2oars',\n",
       " 'PSID is searching for an economist to join its leadership team as a Research Professor or Research Associate Professor.\\n\\nJob posting: https://t.co/BvLqBaBtAF\\n\\n#NowHiring #econtwitter @umisr @UM_SRC\\n \\nApply by March 26th, 2022 https://t.co/Koskeg6bTQ']"
      ]
     },
     "execution_count": 33,
     "metadata": {},
     "output_type": "execute_result"
    }
   ],
   "source": [
    "econ_text[:5]"
   ]
  },
  {
   "cell_type": "code",
   "execution_count": 34,
   "metadata": {
    "slideshow": {
     "slide_type": "slide"
    }
   },
   "outputs": [],
   "source": [
    "df_S['text'] = sorry_text\n",
    "df_E['text'] = econ_text"
   ]
  },
  {
   "cell_type": "markdown",
   "metadata": {
    "slideshow": {
     "slide_type": "slide"
    }
   },
   "source": [
    "How do we know if its a RT?\n",
    "\n",
    "Two ways:"
   ]
  },
  {
   "cell_type": "code",
   "execution_count": 45,
   "metadata": {
    "slideshow": {
     "slide_type": "-"
    }
   },
   "outputs": [],
   "source": [
    "df_S['RT_method1'] = [\"retweeted_status\" in list(x.keys()) for x in file_dict['sorry_tweets']] \n",
    "\n",
    "df_S['RT_method2'] = [x['text'][:2]==\"RT\" for x in file_dict['sorry_tweets']] "
   ]
  },
  {
   "cell_type": "markdown",
   "metadata": {
    "slideshow": {
     "slide_type": "slide"
    }
   },
   "source": [
    "But didn't the 6th tweet quote something?"
   ]
  },
  {
   "cell_type": "code",
   "execution_count": 46,
   "metadata": {
    "slideshow": {
     "slide_type": "-"
    }
   },
   "outputs": [
    {
     "data": {
      "text/plain": [
       "{'created_at': 'Wed Feb 16 00:02:19 +0000 2022',\n",
       " 'id': 1493737467274350598,\n",
       " 'id_str': '1493737467274350598',\n",
       " 'text': 'Me casoooooo ❤️😍🤤',\n",
       " 'source': '<a href=\"http://twitter.com/download/android\" rel=\"nofollow\">Twitter for Android</a>',\n",
       " 'truncated': False,\n",
       " 'in_reply_to_status_id': None,\n",
       " 'in_reply_to_status_id_str': None,\n",
       " 'in_reply_to_user_id': None,\n",
       " 'in_reply_to_user_id_str': None,\n",
       " 'in_reply_to_screen_name': None,\n",
       " 'user': {'id': 1294416602381787137,\n",
       "  'id_str': '1294416602381787137',\n",
       "  'name': 'Mi Niña',\n",
       "  'screen_name': 'ninanortenita',\n",
       "  'location': 'CDMX',\n",
       "  'url': None,\n",
       "  'description': 'SCORT Sinaloense 🤠\\nTrans super HOT all the time 🔥\\ny muy MORBOSA, fan de ver BULTOS en la calle🍆 Hombres varoniles, barbones y altos 🤤\\nPregunta DM para info',\n",
       "  'translator_type': 'none',\n",
       "  'protected': False,\n",
       "  'verified': False,\n",
       "  'followers_count': 1304,\n",
       "  'friends_count': 210,\n",
       "  'listed_count': 0,\n",
       "  'favourites_count': 2653,\n",
       "  'statuses_count': 1497,\n",
       "  'created_at': 'Fri Aug 14 23:32:31 +0000 2020',\n",
       "  'utc_offset': None,\n",
       "  'time_zone': None,\n",
       "  'geo_enabled': True,\n",
       "  'lang': None,\n",
       "  'contributors_enabled': False,\n",
       "  'is_translator': False,\n",
       "  'profile_background_color': 'F5F8FA',\n",
       "  'profile_background_image_url': '',\n",
       "  'profile_background_image_url_https': '',\n",
       "  'profile_background_tile': False,\n",
       "  'profile_link_color': '1DA1F2',\n",
       "  'profile_sidebar_border_color': 'C0DEED',\n",
       "  'profile_sidebar_fill_color': 'DDEEF6',\n",
       "  'profile_text_color': '333333',\n",
       "  'profile_use_background_image': True,\n",
       "  'profile_image_url': 'http://pbs.twimg.com/profile_images/1363213371328315392/AoicKpvA_normal.jpg',\n",
       "  'profile_image_url_https': 'https://pbs.twimg.com/profile_images/1363213371328315392/AoicKpvA_normal.jpg',\n",
       "  'profile_banner_url': 'https://pbs.twimg.com/profile_banners/1294416602381787137/1597523789',\n",
       "  'default_profile': True,\n",
       "  'default_profile_image': False,\n",
       "  'following': None,\n",
       "  'follow_request_sent': None,\n",
       "  'notifications': None,\n",
       "  'withheld_in_countries': []},\n",
       " 'geo': None,\n",
       " 'coordinates': None,\n",
       " 'place': None,\n",
       " 'contributors': None,\n",
       " 'quoted_status_id': 1488361304960253957,\n",
       " 'quoted_status_id_str': '1488361304960253957',\n",
       " 'quoted_status': {'created_at': 'Tue Feb 01 03:59:22 +0000 2022',\n",
       "  'id': 1488361304960253957,\n",
       "  'id_str': '1488361304960253957',\n",
       "  'text': 'Gym selfies. #SorryNotSorry https://t.co/i0itblyIo5',\n",
       "  'display_text_range': [0, 27],\n",
       "  'source': '<a href=\"http://twitter.com/download/iphone\" rel=\"nofollow\">Twitter for iPhone</a>',\n",
       "  'truncated': False,\n",
       "  'in_reply_to_status_id': None,\n",
       "  'in_reply_to_status_id_str': None,\n",
       "  'in_reply_to_user_id': None,\n",
       "  'in_reply_to_user_id_str': None,\n",
       "  'in_reply_to_screen_name': None,\n",
       "  'user': {'id': 3369871907,\n",
       "   'id_str': '3369871907',\n",
       "   'name': 'arquinancho',\n",
       "   'screen_name': 'arquinancho',\n",
       "   'location': 'Washington, DC',\n",
       "   'url': 'https://onlyfans.com/nan_nsfw',\n",
       "   'description': 'architect. caribbean. secular. immigrant.  https://instagram.com/arquinancho',\n",
       "   'translator_type': 'none',\n",
       "   'protected': False,\n",
       "   'verified': False,\n",
       "   'followers_count': 39751,\n",
       "   'friends_count': 4586,\n",
       "   'listed_count': 42,\n",
       "   'favourites_count': 8100,\n",
       "   'statuses_count': 27056,\n",
       "   'created_at': 'Fri Jul 10 22:06:28 +0000 2015',\n",
       "   'utc_offset': None,\n",
       "   'time_zone': None,\n",
       "   'geo_enabled': True,\n",
       "   'lang': None,\n",
       "   'contributors_enabled': False,\n",
       "   'is_translator': False,\n",
       "   'profile_background_color': '131516',\n",
       "   'profile_background_image_url': 'http://abs.twimg.com/images/themes/theme14/bg.gif',\n",
       "   'profile_background_image_url_https': 'https://abs.twimg.com/images/themes/theme14/bg.gif',\n",
       "   'profile_background_tile': True,\n",
       "   'profile_link_color': 'ABB8C2',\n",
       "   'profile_sidebar_border_color': '000000',\n",
       "   'profile_sidebar_fill_color': '000000',\n",
       "   'profile_text_color': '000000',\n",
       "   'profile_use_background_image': False,\n",
       "   'profile_image_url': 'http://pbs.twimg.com/profile_images/1479470962336743428/FZPAezKk_normal.jpg',\n",
       "   'profile_image_url_https': 'https://pbs.twimg.com/profile_images/1479470962336743428/FZPAezKk_normal.jpg',\n",
       "   'profile_banner_url': 'https://pbs.twimg.com/profile_banners/3369871907/1641568510',\n",
       "   'default_profile': False,\n",
       "   'default_profile_image': False,\n",
       "   'following': None,\n",
       "   'follow_request_sent': None,\n",
       "   'notifications': None,\n",
       "   'withheld_in_countries': []},\n",
       "  'geo': None,\n",
       "  'coordinates': None,\n",
       "  'place': {'id': '0fc3432ea915e000',\n",
       "   'url': 'https://api.twitter.com/1.1/geo/id/0fc3432ea915e000.json',\n",
       "   'place_type': 'poi',\n",
       "   'name': 'XSport Fitness',\n",
       "   'full_name': 'XSport Fitness',\n",
       "   'country_code': 'US',\n",
       "   'country': 'Estados Unidos',\n",
       "   'bounding_box': {'type': 'Polygon',\n",
       "    'coordinates': [[[-77.103394, 38.837184],\n",
       "      [-77.103394, 38.837184],\n",
       "      [-77.103394, 38.837184],\n",
       "      [-77.103394, 38.837184]]]},\n",
       "   'attributes': {}},\n",
       "  'contributors': None,\n",
       "  'is_quote_status': False,\n",
       "  'quote_count': 1,\n",
       "  'reply_count': 15,\n",
       "  'retweet_count': 140,\n",
       "  'favorite_count': 1468,\n",
       "  'entities': {'hashtags': [{'text': 'SorryNotSorry', 'indices': [13, 27]}],\n",
       "   'urls': [],\n",
       "   'user_mentions': [],\n",
       "   'symbols': [],\n",
       "   'media': [{'id': 1488361301227229193,\n",
       "     'id_str': '1488361301227229193',\n",
       "     'indices': [28, 51],\n",
       "     'media_url': 'http://pbs.twimg.com/media/FKe4t8EWUAkHnsw.jpg',\n",
       "     'media_url_https': 'https://pbs.twimg.com/media/FKe4t8EWUAkHnsw.jpg',\n",
       "     'url': 'https://t.co/i0itblyIo5',\n",
       "     'display_url': 'pic.twitter.com/i0itblyIo5',\n",
       "     'expanded_url': 'https://twitter.com/arquinancho/status/1488361304960253957/photo/1',\n",
       "     'type': 'photo',\n",
       "     'sizes': {'thumb': {'w': 150, 'h': 150, 'resize': 'crop'},\n",
       "      'small': {'w': 553, 'h': 680, 'resize': 'fit'},\n",
       "      'large': {'w': 1665, 'h': 2048, 'resize': 'fit'},\n",
       "      'medium': {'w': 976, 'h': 1200, 'resize': 'fit'}}}]},\n",
       "  'extended_entities': {'media': [{'id': 1488361301227229193,\n",
       "     'id_str': '1488361301227229193',\n",
       "     'indices': [28, 51],\n",
       "     'media_url': 'http://pbs.twimg.com/media/FKe4t8EWUAkHnsw.jpg',\n",
       "     'media_url_https': 'https://pbs.twimg.com/media/FKe4t8EWUAkHnsw.jpg',\n",
       "     'url': 'https://t.co/i0itblyIo5',\n",
       "     'display_url': 'pic.twitter.com/i0itblyIo5',\n",
       "     'expanded_url': 'https://twitter.com/arquinancho/status/1488361304960253957/photo/1',\n",
       "     'type': 'photo',\n",
       "     'sizes': {'thumb': {'w': 150, 'h': 150, 'resize': 'crop'},\n",
       "      'small': {'w': 553, 'h': 680, 'resize': 'fit'},\n",
       "      'large': {'w': 1665, 'h': 2048, 'resize': 'fit'},\n",
       "      'medium': {'w': 976, 'h': 1200, 'resize': 'fit'}}},\n",
       "    {'id': 1488361301239906306,\n",
       "     'id_str': '1488361301239906306',\n",
       "     'indices': [28, 51],\n",
       "     'media_url': 'http://pbs.twimg.com/media/FKe4t8HXwAIKONt.jpg',\n",
       "     'media_url_https': 'https://pbs.twimg.com/media/FKe4t8HXwAIKONt.jpg',\n",
       "     'url': 'https://t.co/i0itblyIo5',\n",
       "     'display_url': 'pic.twitter.com/i0itblyIo5',\n",
       "     'expanded_url': 'https://twitter.com/arquinancho/status/1488361304960253957/photo/1',\n",
       "     'type': 'photo',\n",
       "     'sizes': {'thumb': {'w': 150, 'h': 150, 'resize': 'crop'},\n",
       "      'small': {'w': 545, 'h': 680, 'resize': 'fit'},\n",
       "      'large': {'w': 1640, 'h': 2048, 'resize': 'fit'},\n",
       "      'medium': {'w': 961, 'h': 1200, 'resize': 'fit'}}}]},\n",
       "  'favorited': False,\n",
       "  'retweeted': False,\n",
       "  'possibly_sensitive': False,\n",
       "  'filter_level': 'low',\n",
       "  'lang': 'en'},\n",
       " 'quoted_status_permalink': {'url': 'https://t.co/zerrzsoI6d',\n",
       "  'expanded': 'https://twitter.com/arquinancho/status/1488361304960253957',\n",
       "  'display': 'twitter.com/arquinancho/st…'},\n",
       " 'is_quote_status': True,\n",
       " 'quote_count': 0,\n",
       " 'reply_count': 0,\n",
       " 'retweet_count': 0,\n",
       " 'favorite_count': 0,\n",
       " 'entities': {'hashtags': [], 'urls': [], 'user_mentions': [], 'symbols': []},\n",
       " 'favorited': False,\n",
       " 'retweeted': False,\n",
       " 'filter_level': 'low',\n",
       " 'lang': 'es',\n",
       " 'timestamp_ms': '1644969739155'}"
      ]
     },
     "execution_count": 46,
     "metadata": {},
     "output_type": "execute_result"
    }
   ],
   "source": [
    "file_dict['sorry_tweets'][5]"
   ]
  },
  {
   "cell_type": "markdown",
   "metadata": {
    "slideshow": {
     "slide_type": "slide"
    }
   },
   "source": [
    "We can figure out whether we have a quote this way:"
   ]
  },
  {
   "cell_type": "code",
   "execution_count": 48,
   "metadata": {
    "slideshow": {
     "slide_type": "-"
    }
   },
   "outputs": [
    {
     "data": {
      "text/html": [
       "<div>\n",
       "<style scoped>\n",
       "    .dataframe tbody tr th:only-of-type {\n",
       "        vertical-align: middle;\n",
       "    }\n",
       "\n",
       "    .dataframe tbody tr th {\n",
       "        vertical-align: top;\n",
       "    }\n",
       "\n",
       "    .dataframe thead th {\n",
       "        text-align: right;\n",
       "    }\n",
       "</style>\n",
       "<table border=\"1\" class=\"dataframe\">\n",
       "  <thead>\n",
       "    <tr style=\"text-align: right;\">\n",
       "      <th></th>\n",
       "      <th>timestamp</th>\n",
       "      <th>text</th>\n",
       "      <th>RT_method1</th>\n",
       "      <th>RT_method2</th>\n",
       "      <th>quoted</th>\n",
       "    </tr>\n",
       "  </thead>\n",
       "  <tbody>\n",
       "    <tr>\n",
       "      <th>0</th>\n",
       "      <td>Tue Feb 15 23:53:22 +0000 2022</td>\n",
       "      <td>New Tattoo! Can't wait to finish it my fucking...</td>\n",
       "      <td>True</td>\n",
       "      <td>True</td>\n",
       "      <td>False</td>\n",
       "    </tr>\n",
       "    <tr>\n",
       "      <th>1</th>\n",
       "      <td>Tue Feb 15 23:55:09 +0000 2022</td>\n",
       "      <td>Mood.... #SorryNotSorry https://t.co/t5rTxtEDC7</td>\n",
       "      <td>True</td>\n",
       "      <td>True</td>\n",
       "      <td>False</td>\n",
       "    </tr>\n",
       "    <tr>\n",
       "      <th>2</th>\n",
       "      <td>Tue Feb 15 23:58:11 +0000 2022</td>\n",
       "      <td>To pseuds and hackers alike. I am sorry that i...</td>\n",
       "      <td>False</td>\n",
       "      <td>False</td>\n",
       "      <td>False</td>\n",
       "    </tr>\n",
       "    <tr>\n",
       "      <th>3</th>\n",
       "      <td>Tue Feb 15 23:58:56 +0000 2022</td>\n",
       "      <td>This is some great information.  Check it out.</td>\n",
       "      <td>False</td>\n",
       "      <td>False</td>\n",
       "      <td>True</td>\n",
       "    </tr>\n",
       "    <tr>\n",
       "      <th>4</th>\n",
       "      <td>Tue Feb 15 23:59:08 +0000 2022</td>\n",
       "      <td>This is a test of my Twitter listening script....</td>\n",
       "      <td>False</td>\n",
       "      <td>False</td>\n",
       "      <td>False</td>\n",
       "    </tr>\n",
       "    <tr>\n",
       "      <th>5</th>\n",
       "      <td>Wed Feb 16 00:02:19 +0000 2022</td>\n",
       "      <td>Me casoooooo ❤️😍🤤</td>\n",
       "      <td>False</td>\n",
       "      <td>False</td>\n",
       "      <td>True</td>\n",
       "    </tr>\n",
       "    <tr>\n",
       "      <th>6</th>\n",
       "      <td>Wed Feb 16 00:02:23 +0000 2022</td>\n",
       "      <td>envie de poster des trucs visés sur les réseau...</td>\n",
       "      <td>False</td>\n",
       "      <td>False</td>\n",
       "      <td>False</td>\n",
       "    </tr>\n",
       "    <tr>\n",
       "      <th>7</th>\n",
       "      <td>Wed Feb 16 00:02:34 +0000 2022</td>\n",
       "      <td>So I think My twitter is more of a whore accou...</td>\n",
       "      <td>False</td>\n",
       "      <td>False</td>\n",
       "      <td>False</td>\n",
       "    </tr>\n",
       "    <tr>\n",
       "      <th>8</th>\n",
       "      <td>Wed Feb 16 00:04:08 +0000 2022</td>\n",
       "      <td>@FIFC Can confirm I was singing I hate Dover #...</td>\n",
       "      <td>False</td>\n",
       "      <td>False</td>\n",
       "      <td>False</td>\n",
       "    </tr>\n",
       "    <tr>\n",
       "      <th>9</th>\n",
       "      <td>Wed Feb 16 00:04:31 +0000 2022</td>\n",
       "      <td>So I just found out my Infiniti can take on my...</td>\n",
       "      <td>False</td>\n",
       "      <td>False</td>\n",
       "      <td>False</td>\n",
       "    </tr>\n",
       "  </tbody>\n",
       "</table>\n",
       "</div>"
      ],
      "text/plain": [
       "                        timestamp  \\\n",
       "0  Tue Feb 15 23:53:22 +0000 2022   \n",
       "1  Tue Feb 15 23:55:09 +0000 2022   \n",
       "2  Tue Feb 15 23:58:11 +0000 2022   \n",
       "3  Tue Feb 15 23:58:56 +0000 2022   \n",
       "4  Tue Feb 15 23:59:08 +0000 2022   \n",
       "5  Wed Feb 16 00:02:19 +0000 2022   \n",
       "6  Wed Feb 16 00:02:23 +0000 2022   \n",
       "7  Wed Feb 16 00:02:34 +0000 2022   \n",
       "8  Wed Feb 16 00:04:08 +0000 2022   \n",
       "9  Wed Feb 16 00:04:31 +0000 2022   \n",
       "\n",
       "                                                text  RT_method1  RT_method2  \\\n",
       "0  New Tattoo! Can't wait to finish it my fucking...        True        True   \n",
       "1    Mood.... #SorryNotSorry https://t.co/t5rTxtEDC7        True        True   \n",
       "2  To pseuds and hackers alike. I am sorry that i...       False       False   \n",
       "3     This is some great information.  Check it out.       False       False   \n",
       "4  This is a test of my Twitter listening script....       False       False   \n",
       "5                                  Me casoooooo ❤️😍🤤       False       False   \n",
       "6  envie de poster des trucs visés sur les réseau...       False       False   \n",
       "7  So I think My twitter is more of a whore accou...       False       False   \n",
       "8  @FIFC Can confirm I was singing I hate Dover #...       False       False   \n",
       "9  So I just found out my Infiniti can take on my...       False       False   \n",
       "\n",
       "   quoted  \n",
       "0   False  \n",
       "1   False  \n",
       "2   False  \n",
       "3    True  \n",
       "4   False  \n",
       "5    True  \n",
       "6   False  \n",
       "7   False  \n",
       "8   False  \n",
       "9   False  "
      ]
     },
     "execution_count": 48,
     "metadata": {},
     "output_type": "execute_result"
    }
   ],
   "source": [
    "df_S['quoted'] = [\"quoted_status\" in list(x.keys()) for x in file_dict['sorry_tweets']] \n",
    "\n",
    "df_S.head(10)"
   ]
  },
  {
   "cell_type": "markdown",
   "metadata": {
    "slideshow": {
     "slide_type": "slide"
    }
   },
   "source": [
    "### Bonus Exercise: How could we extract the quoted text?\n",
    "Hint: if else statements, but also remember that the resulting list should be the same length as the dataframe..."
   ]
  },
  {
   "cell_type": "code",
   "execution_count": 49,
   "metadata": {
    "slideshow": {
     "slide_type": "slide"
    }
   },
   "outputs": [],
   "source": [
    "df_E['RT'] = [\"retweeted_status\" in list(x.keys()) for x in file_dict['econ_tweets']] \n",
    "df_E['quoted'] = [\"quoted_status\" in list(x.keys()) for x in file_dict['econ_tweets']] "
   ]
  },
  {
   "cell_type": "markdown",
   "metadata": {
    "slideshow": {
     "slide_type": "slide"
    }
   },
   "source": [
    "## Word Counts\n",
    "\n",
    "In the econtwitter tweets:"
   ]
  },
  {
   "cell_type": "code",
   "execution_count": 50,
   "metadata": {
    "slideshow": {
     "slide_type": "-"
    }
   },
   "outputs": [],
   "source": [
    "import string\n",
    "string.punctuation\n",
    "\n",
    "# This maketrans function can be used to remove a list of characters from a string.\n",
    "remv_punc = str.maketrans('','',string.punctuation + '“' +\"‘\"+'”')\n",
    "\n",
    "df_E['text_lower'] =  df_E['text'].str.lower().str.replace(\"\\n\",\" \")\n",
    "\n",
    "df_E['text_clean'] = df_E['text_lower'].str.translate(remv_punc)"
   ]
  },
  {
   "cell_type": "code",
   "execution_count": 52,
   "metadata": {
    "slideshow": {
     "slide_type": "slide"
    }
   },
   "outputs": [],
   "source": [
    "from nltk.corpus import stopwords\n",
    "\n",
    "sw_list = stopwords.words('english') + ['amp','',\" \",\"econtwitter\"]\n",
    "\n",
    "df_E['words'] = [x.split(\" \") for x in df_E['text_clean']]"
   ]
  },
  {
   "cell_type": "code",
   "execution_count": 54,
   "metadata": {
    "slideshow": {
     "slide_type": "-"
    }
   },
   "outputs": [],
   "source": [
    "df_E['words'] = [list(set(x) - set(sw_list)) for x in df_E['words']]"
   ]
  },
  {
   "cell_type": "code",
   "execution_count": 55,
   "metadata": {
    "slideshow": {
     "slide_type": "slide"
    }
   },
   "outputs": [
    {
     "name": "stderr",
     "output_type": "stream",
     "text": [
      "C:\\Users\\jhtchns2\\AppData\\Local\\Temp\\ipykernel_10328\\835178494.py:1: FutureWarning: The default dtype for empty Series will be 'object' instead of 'float64' in a future version. Specify a dtype explicitly to silence this warning.\n",
      "  series_list = [pd.Series(x).value_counts() for x in df_E['words']]\n"
     ]
    }
   ],
   "source": [
    "series_list = [pd.Series(x).value_counts() for x in df_E['words']]\n",
    "word_df_E = pd.concat(series_list,axis=1).fillna(0).T"
   ]
  },
  {
   "cell_type": "code",
   "execution_count": 56,
   "metadata": {
    "slideshow": {
     "slide_type": "-"
    }
   },
   "outputs": [
    {
     "data": {
      "text/plain": [
       "new          350.0\n",
       "us           346.0\n",
       "work         241.0\n",
       "economics    226.0\n",
       "check        216.0\n",
       "best         209.0\n",
       "come         209.0\n",
       "website      201.0\n",
       "send         200.0\n",
       "inflation    198.0\n",
       "leading      197.0\n",
       "journals     197.0\n",
       "group        192.0\n",
       "jpolecon     191.0\n",
       "set          190.0\n",
       "proud        189.0\n",
       "announce     189.0\n",
       "6            187.0\n",
       "soon         186.0\n",
       "alongside    185.0\n",
       "dtype: float64"
      ]
     },
     "execution_count": 56,
     "metadata": {},
     "output_type": "execute_result"
    }
   ],
   "source": [
    "word_df_E.sum().sort_values(ascending=False).head(20)"
   ]
  },
  {
   "cell_type": "code",
   "execution_count": 57,
   "metadata": {
    "scrolled": true,
    "slideshow": {
     "slide_type": "slide"
    }
   },
   "outputs": [
    {
     "name": "stderr",
     "output_type": "stream",
     "text": [
      "C:\\Users\\jhtchns2\\AppData\\Local\\Temp\\ipykernel_10328\\3965326334.py:19: FutureWarning: The default dtype for empty Series will be 'object' instead of 'float64' in a future version. Specify a dtype explicitly to silence this warning.\n",
      "  series_list = [pd.Series(x).value_counts() for x in df_S['words']]\n",
      "C:\\Users\\jhtchns2\\AppData\\Local\\Temp\\ipykernel_10328\\3965326334.py:19: FutureWarning: The default dtype for empty Series will be 'object' instead of 'float64' in a future version. Specify a dtype explicitly to silence this warning.\n",
      "  series_list = [pd.Series(x).value_counts() for x in df_S['words']]\n",
      "C:\\Users\\jhtchns2\\AppData\\Local\\Temp\\ipykernel_10328\\3965326334.py:19: FutureWarning: The default dtype for empty Series will be 'object' instead of 'float64' in a future version. Specify a dtype explicitly to silence this warning.\n",
      "  series_list = [pd.Series(x).value_counts() for x in df_S['words']]\n",
      "C:\\Users\\jhtchns2\\AppData\\Local\\Temp\\ipykernel_10328\\3965326334.py:19: FutureWarning: The default dtype for empty Series will be 'object' instead of 'float64' in a future version. Specify a dtype explicitly to silence this warning.\n",
      "  series_list = [pd.Series(x).value_counts() for x in df_S['words']]\n",
      "C:\\Users\\jhtchns2\\AppData\\Local\\Temp\\ipykernel_10328\\3965326334.py:19: FutureWarning: The default dtype for empty Series will be 'object' instead of 'float64' in a future version. Specify a dtype explicitly to silence this warning.\n",
      "  series_list = [pd.Series(x).value_counts() for x in df_S['words']]\n"
     ]
    }
   ],
   "source": [
    "import string\n",
    "string.punctuation\n",
    "\n",
    "# This maketrans function can be used to remove a list of characters from a string.\n",
    "remv_punc = str.maketrans('','',string.punctuation + '“' +\"‘\"+'”')\n",
    "\n",
    "df_S['text_lower'] =  df_S['text'].str.lower().str.replace(\"\\n\",\"\")\n",
    "\n",
    "df_S['text_clean'] = df_S.text_lower.str.translate(remv_punc)\n",
    "\n",
    "from nltk.corpus import stopwords\n",
    "\n",
    "sw_list = stopwords.words('english') + ['amp','',\" \",\"sorrynotsorry\"]\n",
    "\n",
    "df_S['words'] = [x.split(\" \") for x in df_S['text_clean']]\n",
    "\n",
    "df_S['words'] = [list(set(x) - set(sw_list)) for x in df_S['words']]\n",
    "\n",
    "series_list = [pd.Series(x).value_counts() for x in df_S['words']]\n",
    "word_df_S = pd.concat(series_list,axis=1).fillna(0).T"
   ]
  },
  {
   "cell_type": "code",
   "execution_count": 58,
   "metadata": {
    "slideshow": {
     "slide_type": "slide"
    }
   },
   "outputs": [
    {
     "data": {
      "text/plain": [
       "la            169.0\n",
       "de            149.0\n",
       "el            107.0\n",
       "se            103.0\n",
       "que            94.0\n",
       "con            93.0\n",
       "es             83.0\n",
       "va             80.0\n",
       "cuando         79.0\n",
       "les            78.0\n",
       "like           78.0\n",
       "e              76.0\n",
       "cada           74.0\n",
       "poder          73.0\n",
       "ahí            73.0\n",
       "algunos        72.0\n",
       "acabe          72.0\n",
       "quedando       71.0\n",
       "registrado     71.0\n",
       "acto           71.0\n",
       "aúnque         71.0\n",
       "acción         71.0\n",
       "ignoren        71.0\n",
       "acaba          71.0\n",
       "olviden        71.0\n",
       "dtype: float64"
      ]
     },
     "execution_count": 58,
     "metadata": {},
     "output_type": "execute_result"
    }
   ],
   "source": [
    "word_df_S.sum().sort_values(ascending=False).head(25)"
   ]
  },
  {
   "cell_type": "markdown",
   "metadata": {
    "slideshow": {
     "slide_type": "-"
    }
   },
   "source": [
    "#### What happened? (Que pasó?)"
   ]
  },
  {
   "cell_type": "code",
   "execution_count": 59,
   "metadata": {
    "slideshow": {
     "slide_type": "slide"
    }
   },
   "outputs": [
    {
     "name": "stderr",
     "output_type": "stream",
     "text": [
      "C:\\Users\\jhtchns2\\AppData\\Local\\Temp\\ipykernel_10328\\1916797237.py:19: FutureWarning: The default dtype for empty Series will be 'object' instead of 'float64' in a future version. Specify a dtype explicitly to silence this warning.\n",
      "  series_list = [pd.Series(x).value_counts() for x in df_S['words']]\n",
      "C:\\Users\\jhtchns2\\AppData\\Local\\Temp\\ipykernel_10328\\1916797237.py:19: FutureWarning: The default dtype for empty Series will be 'object' instead of 'float64' in a future version. Specify a dtype explicitly to silence this warning.\n",
      "  series_list = [pd.Series(x).value_counts() for x in df_S['words']]\n",
      "C:\\Users\\jhtchns2\\AppData\\Local\\Temp\\ipykernel_10328\\1916797237.py:19: FutureWarning: The default dtype for empty Series will be 'object' instead of 'float64' in a future version. Specify a dtype explicitly to silence this warning.\n",
      "  series_list = [pd.Series(x).value_counts() for x in df_S['words']]\n",
      "C:\\Users\\jhtchns2\\AppData\\Local\\Temp\\ipykernel_10328\\1916797237.py:19: FutureWarning: The default dtype for empty Series will be 'object' instead of 'float64' in a future version. Specify a dtype explicitly to silence this warning.\n",
      "  series_list = [pd.Series(x).value_counts() for x in df_S['words']]\n",
      "C:\\Users\\jhtchns2\\AppData\\Local\\Temp\\ipykernel_10328\\1916797237.py:19: FutureWarning: The default dtype for empty Series will be 'object' instead of 'float64' in a future version. Specify a dtype explicitly to silence this warning.\n",
      "  series_list = [pd.Series(x).value_counts() for x in df_S['words']]\n"
     ]
    }
   ],
   "source": [
    "import string\n",
    "string.punctuation\n",
    "\n",
    "# This maketrans function can be used to remove a list of characters from a string.\n",
    "remv_punc = str.maketrans('','',string.punctuation + '“' +\"‘\"+'”')\n",
    "\n",
    "df_S['text_lower'] =  df_S['text'].str.lower().str.replace(\"\\n\",\"\")\n",
    "\n",
    "df_S['text_clean'] = df_S.text_lower.str.translate(remv_punc)\n",
    "\n",
    "from nltk.corpus import stopwords\n",
    "\n",
    "sw_list = stopwords.words('english') + stopwords.words('spanish') + ['amp','',\" \",\"sorrynotsorry\"]\n",
    "\n",
    "df_S['words'] = [x.split(\" \") for x in df_S['text_clean']]\n",
    "\n",
    "df_S['words'] = [list(set(x) - set(sw_list)) for x in df_S['words']]\n",
    "\n",
    "series_list = [pd.Series(x).value_counts() for x in df_S['words']]\n",
    "word_df_S = pd.concat(series_list,axis=1).fillna(0).T"
   ]
  },
  {
   "cell_type": "code",
   "execution_count": 60,
   "metadata": {
    "slideshow": {
     "slide_type": "slide"
    }
   },
   "outputs": [
    {
     "data": {
      "text/plain": [
       "va                 80.0\n",
       "like               78.0\n",
       "cada               74.0\n",
       "poder              73.0\n",
       "ahí                73.0\n",
       "acabe              72.0\n",
       "acaba              71.0\n",
       "corrupción         71.0\n",
       "aúnque             71.0\n",
       "ignoren            71.0\n",
       "abuso              71.0\n",
       "antidemocrática    71.0\n",
       "quedando           71.0\n",
       "acto               71.0\n",
       "olviden            71.0\n",
       "vínculo            71.0\n",
       "narcos             71.0\n",
       "registrado         71.0\n",
       "impunidad          71.0\n",
       "acción             71.0\n",
       "dtype: float64"
      ]
     },
     "execution_count": 60,
     "metadata": {},
     "output_type": "execute_result"
    }
   ],
   "source": [
    "word_df_S.sum().sort_values(ascending=False).head(20)"
   ]
  },
  {
   "cell_type": "markdown",
   "metadata": {
    "slideshow": {
     "slide_type": "-"
    }
   },
   "source": [
    "### ????"
   ]
  },
  {
   "cell_type": "markdown",
   "metadata": {
    "slideshow": {
     "slide_type": "slide"
    }
   },
   "source": [
    "### Then I found this tweet..."
   ]
  },
  {
   "attachments": {
    "image.png": {
     "image/png": "[encoded data removed]"
    }
   },
   "cell_type": "markdown",
   "metadata": {
    "slideshow": {
     "slide_type": "-"
    }
   },
   "source": [
    "![image.png](attachment:image.png)"
   ]
  },
  {
   "cell_type": "markdown",
   "metadata": {
    "slideshow": {
     "slide_type": "-"
    }
   },
   "source": [
    "Notice how many times it's been retweeted..."
   ]
  },
  {
   "cell_type": "code",
   "execution_count": 61,
   "metadata": {
    "slideshow": {
     "slide_type": "slide"
    }
   },
   "outputs": [
    {
     "data": {
      "text/plain": [
       "people                49.0\n",
       "ser                   47.0\n",
       "get                   47.0\n",
       "sorry                 44.0\n",
       "i’m                   43.0\n",
       "love                  41.0\n",
       "gym                   38.0\n",
       "aria                  37.0\n",
       "nueva                 37.0\n",
       "raza                  37.0\n",
       "indígena              37.0\n",
       "dont                  35.0\n",
       "selfies               35.0\n",
       "httpstcoi0itblyio5    35.0\n",
       "say                   34.0\n",
       "im                    33.0\n",
       "si                    33.0\n",
       "think                 32.0\n",
       "don’t                 32.0\n",
       "it’s                  30.0\n",
       "dtype: float64"
      ]
     },
     "execution_count": 61,
     "metadata": {},
     "output_type": "execute_result"
    }
   ],
   "source": [
    "S_word_sums = word_df_S.sum(axis=0)\n",
    "\n",
    "S_word_sums[S_word_sums<71].sort_values(ascending=False).head(20)"
   ]
  },
  {
   "attachments": {
    "image.png": {
     "image/png": "[encoded data removed]"
    }
   },
   "cell_type": "markdown",
   "metadata": {
    "slideshow": {
     "slide_type": "slide"
    }
   },
   "source": [
    "![image.png](attachment:image.png)"
   ]
  },
  {
   "cell_type": "markdown",
   "metadata": {
    "slideshow": {
     "slide_type": "-"
    }
   },
   "source": [
    "What is the problem here? How would we fix it?"
   ]
  },
  {
   "cell_type": "code",
   "execution_count": 62,
   "metadata": {
    "slideshow": {
     "slide_type": "slide"
    }
   },
   "outputs": [
    {
     "data": {
      "text/plain": [
       "(957, 1308)"
      ]
     },
     "execution_count": 62,
     "metadata": {},
     "output_type": "execute_result"
    }
   ],
   "source": [
    "df_S['text'].nunique(), len(df_S)"
   ]
  },
  {
   "cell_type": "markdown",
   "metadata": {
    "slideshow": {
     "slide_type": "slide"
    }
   },
   "source": [
    "Alot of these tweets are just RTs...\n",
    "\n",
    "Here's what happens if we don't count RTs."
   ]
  },
  {
   "cell_type": "code",
   "execution_count": 63,
   "metadata": {
    "slideshow": {
     "slide_type": "-"
    }
   },
   "outputs": [
    {
     "name": "stderr",
     "output_type": "stream",
     "text": [
      "C:\\Users\\jhtchns2\\AppData\\Local\\Temp\\ipykernel_10328\\184949714.py:6: FutureWarning: The default dtype for empty Series will be 'object' instead of 'float64' in a future version. Specify a dtype explicitly to silence this warning.\n",
      "  series_list = [pd.Series(x).value_counts() for x in unique_words]\n"
     ]
    }
   ],
   "source": [
    "unique_tweets = df_S['text_clean'].drop_duplicates()\n",
    "unique_words = [x.split(\" \") for x in unique_tweets]\n",
    "\n",
    "unique_words = [list(set(x) - set(sw_list)) for x in unique_words]\n",
    "\n",
    "series_list = [pd.Series(x).value_counts() for x in unique_words]\n",
    "word_df_S_unique = pd.concat(series_list,axis=1).fillna(0).T"
   ]
  },
  {
   "cell_type": "code",
   "execution_count": 64,
   "metadata": {
    "slideshow": {
     "slide_type": "slide"
    }
   },
   "outputs": [
    {
     "data": {
      "text/plain": [
       "like      64.0\n",
       "get       37.0\n",
       "i’m       36.0\n",
       "people    35.0\n",
       "love      34.0\n",
       "im        32.0\n",
       "sorry     32.0\n",
       "si        29.0\n",
       "think     28.0\n",
       "don’t     26.0\n",
       "really    25.0\n",
       "dont      24.0\n",
       "good      24.0\n",
       "it’s      23.0\n",
       "go        22.0\n",
       "much      21.0\n",
       "one       21.0\n",
       "say       21.0\n",
       "see       19.0\n",
       "shit      19.0\n",
       "dtype: float64"
      ]
     },
     "execution_count": 64,
     "metadata": {},
     "output_type": "execute_result"
    }
   ],
   "source": [
    "word_df_S_unique.sum().sort_values(ascending=False).head(20)"
   ]
  },
  {
   "cell_type": "markdown",
   "metadata": {
    "slideshow": {
     "slide_type": "slide"
    }
   },
   "source": [
    "With EconTwitter :"
   ]
  },
  {
   "cell_type": "code",
   "execution_count": 65,
   "metadata": {
    "scrolled": true,
    "slideshow": {
     "slide_type": "-"
    }
   },
   "outputs": [
    {
     "data": {
      "text/plain": [
       "econtwitter           529.0\n",
       "economics              70.0\n",
       "inflation              58.0\n",
       "new                    58.0\n",
       "wsj                    57.0\n",
       "nytimes                54.0\n",
       "bloomberg              54.0\n",
       "antitrust              53.0\n",
       "economic               52.0\n",
       "cnbc                   52.0\n",
       "wapo                   50.0\n",
       "paper                  49.0\n",
       "cnn                    48.0\n",
       "bigtech                47.0\n",
       "economy                47.0\n",
       "research               41.0\n",
       "latimes                41.0\n",
       "us                     37.0\n",
       "economists             29.0\n",
       "httpstco3jzisqtt5h     27.0\n",
       "big                    27.0\n",
       "join                   23.0\n",
       "great                  23.0\n",
       "2022                   22.0\n",
       "one                    22.0\n",
       "dtype: float64"
      ]
     },
     "execution_count": 65,
     "metadata": {},
     "output_type": "execute_result"
    }
   ],
   "source": [
    "unique_tweets = df_E['text_clean'].drop_duplicates()\n",
    "unique_words = [x.split(\" \") for x in unique_tweets]\n",
    "\n",
    "unique_words = [list(set(x) - set(sw_list)) for x in unique_words]\n",
    "\n",
    "series_list = [pd.Series(x).value_counts() for x in unique_words]\n",
    "word_df_E_unique = pd.concat(series_list,axis=1).fillna(0).T\n",
    "word_df_E_unique.sum().sort_values(ascending=False).head(25)"
   ]
  }
 ],
 "metadata": {
  "celltoolbar": "Slideshow",
  "kernelspec": {
   "display_name": "Python 3 (ipykernel)",
   "language": "python",
   "name": "python3"
  },
  "language_info": {
   "codemirror_mode": {
    "name": "ipython",
    "version": 3
   },
   "file_extension": ".py",
   "mimetype": "text/x-python",
   "name": "python",
   "nbconvert_exporter": "python",
   "pygments_lexer": "ipython3",
   "version": "3.11.7"
  },
  "rise": {
   "height": "80%",
   "transition": "none"
  }
 },
 "nbformat": 4,
 "nbformat_minor": 4
}
