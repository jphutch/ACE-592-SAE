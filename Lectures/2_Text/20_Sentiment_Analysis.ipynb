{
 "cells": [
  {
   "cell_type": "markdown",
   "metadata": {
    "slideshow": {
     "slide_type": "slide"
    }
   },
   "source": [
    "# Text Analysis and Sentiment"
   ]
  },
  {
   "cell_type": "markdown",
   "metadata": {
    "slideshow": {
     "slide_type": "slide"
    }
   },
   "source": [
    "## What is sentiment analysis?\n",
    "Broadly, it is extracting some kind of \"sentiment\" from text.\n",
    "\n",
    "This sentiment could be positive vs negative, biased vs. objective, or even a topic.\n",
    "\n",
    "While we will not spend too much time training ML algorithms, it is important to understand how they work:"
   ]
  },
  {
   "cell_type": "markdown",
   "metadata": {
    "slideshow": {
     "slide_type": "slide"
    }
   },
   "source": [
    "## Use in Economics Research\n",
    "- Many economics papers currently featurize text for analysis, but do not engage in ML algorithm training to predict sentiment.\n",
    "    - ML algorithms do not allow interpretation of underlying parameters, and so are mostly useless for inference.\n",
    "- The most cutting edge ones introduce their own measure of some \"sentiment\" in text (e.g. bias, positivity, dissent) and use it in their analysis.\n",
    "- Another popular method is using text features or sentiment as covariates to explain another factor entirely.\n",
    "\n",
    "See the article \"Text as Data\" for an exhaustive list of papers."
   ]
  },
  {
   "cell_type": "markdown",
   "metadata": {
    "slideshow": {
     "slide_type": "slide"
    }
   },
   "source": [
    "There are essentially three ways to do sentiment analysis:\n",
    "1. Rule Based\n",
    "2. Supervised Machine Learning\n",
    "3. Unsupervised Machine Learning \n"
   ]
  },
  {
   "cell_type": "markdown",
   "metadata": {
    "slideshow": {
     "slide_type": "slide"
    }
   },
   "source": [
    "## 1. Rule Based\n",
    "Most of the time there is no place to begin with assessing sentiment; there is no explicit \"sentiment\" variable. In this case the rule based approach is the most useful.\n",
    "\n",
    "In this approach, individual words, phrases, and structures are __scored__ on some spectrum.\n",
    "\n",
    "The rule for a string is then to score the tokens $X$ and summarize them to find $y$.\n",
    "\n",
    "In this approach:\n",
    "- You do not need labeled data...\n",
    "- ... but you need all the possible words to be scored."
   ]
  },
  {
   "cell_type": "markdown",
   "metadata": {
    "slideshow": {
     "slide_type": "slide"
    }
   },
   "source": [
    "### How do these algorithms obtain word scorings?\n",
    "From what I can tell, there are two parts to it:\n",
    "1. Linguistic experts constructing sentiment scores and rules for calculating sentiment.\n",
    "2. Random people on Amazon Mechanical Turk being asked to score word sentiment.\n",
    "\n",
    "The advantage of this approach is that is informed by linguistic theory and not simply barfed out by a machine learning algorithm.\n",
    "\n",
    "By incorporating linguistic theory, we can avoid the possibly weird mistakes an ML algorithm might make if it did not have enough data."
   ]
  },
  {
   "cell_type": "markdown",
   "metadata": {
    "slideshow": {
     "slide_type": "slide"
    }
   },
   "source": [
    "### Example: VADER\n",
    "Valence Aware Dictionary and sEntiment Reasoner (VADER) is a rule-based sentiment analyzer. Using a detailed dictionary, it works by:\n",
    "1. Assessing the \"polarity\" (positive or negative) of a word.\n",
    "2. Assessing whether any word near that word \"enhances\" the polarity.\n",
    "\n",
    "This is what makes it \"aware\" of \"valence\" (degree to which it is good or bad)."
   ]
  },
  {
   "cell_type": "code",
   "execution_count": 1,
   "metadata": {
    "slideshow": {
     "slide_type": "-"
    }
   },
   "outputs": [],
   "source": [
    "from nltk.sentiment.vader import SentimentIntensityAnalyzer\n",
    "vader = SentimentIntensityAnalyzer()"
   ]
  },
  {
   "cell_type": "markdown",
   "metadata": {
    "slideshow": {
     "slide_type": "slide"
    }
   },
   "source": [
    "VADER can see the difference between these phrases:"
   ]
  },
  {
   "cell_type": "code",
   "execution_count": 2,
   "metadata": {
    "slideshow": {
     "slide_type": "-"
    }
   },
   "outputs": [
    {
     "data": {
      "text/plain": [
       "({'neg': 0.0, 'neu': 0.0, 'pos': 1.0, 'compound': 0.4404},\n",
       " {'neg': 0.0, 'neu': 0.238, 'pos': 0.762, 'compound': 0.4927},\n",
       " {'neg': 0.706, 'neu': 0.294, 'pos': 0.0, 'compound': -0.3412},\n",
       " {'neg': 0.0, 'neu': 0.26, 'pos': 0.74, 'compound': 0.431})"
      ]
     },
     "execution_count": 2,
     "metadata": {},
     "output_type": "execute_result"
    }
   ],
   "source": [
    "vader.polarity_scores(\"good\"),\\\n",
    "vader.polarity_scores(\"very good\"),\\\n",
    "vader.polarity_scores(\"not good\"),\\\n",
    "vader.polarity_scores(\"not bad\")"
   ]
  },
  {
   "cell_type": "markdown",
   "metadata": {
    "slideshow": {
     "slide_type": "slide"
    }
   },
   "source": [
    "It understands how punctuation can enhance things:"
   ]
  },
  {
   "cell_type": "code",
   "execution_count": 3,
   "metadata": {
    "slideshow": {
     "slide_type": "-"
    }
   },
   "outputs": [
    {
     "data": {
      "text/plain": [
       "({'neg': 1.0, 'neu': 0.0, 'pos': 0.0, 'compound': -0.5423},\n",
       " {'neg': 1.0, 'neu': 0.0, 'pos': 0.0, 'compound': -0.5848},\n",
       " {'neg': 1.0, 'neu': 0.0, 'pos': 0.0, 'compound': -0.6571})"
      ]
     },
     "execution_count": 3,
     "metadata": {},
     "output_type": "execute_result"
    }
   ],
   "source": [
    "vader.polarity_scores(\"bad\"),\\\n",
    "vader.polarity_scores(\"bad!\"),\\\n",
    "vader.polarity_scores(\"bad!!!\")"
   ]
  },
  {
   "cell_type": "markdown",
   "metadata": {
    "slideshow": {
     "slide_type": "slide"
    }
   },
   "source": [
    "It was made specifically for analyzing Tweets:"
   ]
  },
  {
   "cell_type": "code",
   "execution_count": 4,
   "metadata": {},
   "outputs": [
    {
     "data": {
      "text/plain": [
       "({'neg': 0.0, 'neu': 0.0, 'pos': 1.0, 'compound': 0.4215},\n",
       " {'neg': 1.0, 'neu': 0.0, 'pos': 0.0, 'compound': -0.5859},\n",
       " {'neg': 1.0, 'neu': 0.0, 'pos': 0.0, 'compound': -0.3182},\n",
       " {'neg': 0.0, 'neu': 0.0, 'pos': 1.0, 'compound': 0.4588},\n",
       " {'neg': 1.0, 'neu': 0.0, 'pos': 0.0, 'compound': -0.4404})"
      ]
     },
     "execution_count": 4,
     "metadata": {},
     "output_type": "execute_result"
    }
   ],
   "source": [
    "vader.polarity_scores(\"lol\"),\\\n",
    "vader.polarity_scores(\"wtf\"),\\\n",
    "vader.polarity_scores(\"smh\"),\\\n",
    "vader.polarity_scores(\":)\"),\\\n",
    "vader.polarity_scores(\":(\")"
   ]
  },
  {
   "cell_type": "markdown",
   "metadata": {
    "slideshow": {
     "slide_type": "slide"
    }
   },
   "source": [
    "... but it doesn't understand emojis."
   ]
  },
  {
   "cell_type": "code",
   "execution_count": 5,
   "metadata": {
    "slideshow": {
     "slide_type": "-"
    }
   },
   "outputs": [
    {
     "data": {
      "text/plain": [
       "{'neg': 0.0, 'neu': 0.0, 'pos': 0.0, 'compound': 0.0}"
      ]
     },
     "execution_count": 5,
     "metadata": {},
     "output_type": "execute_result"
    }
   ],
   "source": [
    "vader.polarity_scores(\"😍\")"
   ]
  },
  {
   "cell_type": "markdown",
   "metadata": {
    "slideshow": {
     "slide_type": "-"
    }
   },
   "source": [
    "__How could we get it to understand emojis?__"
   ]
  },
  {
   "cell_type": "markdown",
   "metadata": {
    "slideshow": {
     "slide_type": "slide"
    }
   },
   "source": [
    "Two possible ways:\n",
    "1. Rule based: have someone assign sentiment scores to each emoji.\n",
    "2. Convert to words: replace emojis with words that describe them.\n",
    "\n",
    "2 is made easier by the fact that all emojis have \"unicode text\" attached to them:"
   ]
  },
  {
   "cell_type": "code",
   "execution_count": 6,
   "metadata": {
    "slideshow": {
     "slide_type": "-"
    }
   },
   "outputs": [
    {
     "data": {
      "text/plain": [
       "':smiling_face_with_heart-eyes:'"
      ]
     },
     "execution_count": 6,
     "metadata": {},
     "output_type": "execute_result"
    }
   ],
   "source": [
    "from emoji import demojize\n",
    "demojize(\"😍\")"
   ]
  },
  {
   "cell_type": "code",
   "execution_count": 7,
   "metadata": {
    "slideshow": {
     "slide_type": "-"
    }
   },
   "outputs": [
    {
     "name": "stdout",
     "output_type": "stream",
     "text": [
      ":smiling face with heart-eyes:\n"
     ]
    },
    {
     "data": {
      "text/plain": [
       "{'neg': 0.0, 'neu': 0.5, 'pos': 0.5, 'compound': 0.4588}"
      ]
     },
     "execution_count": 7,
     "metadata": {},
     "output_type": "execute_result"
    }
   ],
   "source": [
    "# make this a set of words\n",
    "print(demojize(\"😍\").replace(\"_\",\" \"))\n",
    "\n",
    "# now run it through\n",
    "vader.polarity_scores(demojize(\"😍\").replace(\"_\",\" \"))"
   ]
  },
  {
   "cell_type": "markdown",
   "metadata": {
    "slideshow": {
     "slide_type": "slide"
    }
   },
   "source": [
    "### An aside: what are emojis?\n",
    "You will run into this in your next homework assignment.\n",
    "\n",
    "Emojis are technically blocks of \"unicode,\" a representation used for glyphs and other unusual symbols for typsetting.\n",
    "\n",
    "Each emoji has a unicode \"code\" and usually text describing it."
   ]
  },
  {
   "cell_type": "code",
   "execution_count": 8,
   "metadata": {},
   "outputs": [],
   "source": [
    "import emoji"
   ]
  },
  {
   "cell_type": "code",
   "execution_count": 9,
   "metadata": {
    "slideshow": {
     "slide_type": "slide"
    }
   },
   "outputs": [
    {
     "data": {
      "text/plain": [
       "':loudly_crying_face:'"
      ]
     },
     "execution_count": 9,
     "metadata": {},
     "output_type": "execute_result"
    }
   ],
   "source": [
    "demojize('😭')"
   ]
  },
  {
   "cell_type": "code",
   "execution_count": 10,
   "metadata": {
    "slideshow": {
     "slide_type": "-"
    }
   },
   "outputs": [
    {
     "data": {
      "text/plain": [
       "'😭'"
      ]
     },
     "execution_count": 10,
     "metadata": {},
     "output_type": "execute_result"
    }
   ],
   "source": [
    "emoji.emojize(\":loudly_crying_face:\")"
   ]
  },
  {
   "cell_type": "code",
   "execution_count": 11,
   "metadata": {
    "slideshow": {
     "slide_type": "-"
    }
   },
   "outputs": [
    {
     "name": "stdout",
     "output_type": "stream",
     "text": [
      "😭\n"
     ]
    }
   ],
   "source": [
    "# This is the unicode\n",
    "print('\\U0001F62D')"
   ]
  },
  {
   "cell_type": "markdown",
   "metadata": {
    "slideshow": {
     "slide_type": "slide"
    }
   },
   "source": [
    "### When would you want to use the rule-based approach?\n",
    "1. You need to infer sentiment and have no labeled data (like in the case of our book analysis).\n",
    "2. Your case is generic enough that one of the rule algorithms will work well.\n",
    "\n",
    "__Useful when you have no labeled examples of sentiment__."
   ]
  },
  {
   "cell_type": "markdown",
   "metadata": {
    "slideshow": {
     "slide_type": "slide"
    }
   },
   "source": [
    "## 2. Supervised Machine Learning\n",
    "__Supervised__ algorithms are those that predict a target, usually called $y$, with \"features,\" usually called $X$. \n",
    "\n",
    "### The Test-Training Paradigm\n",
    "Supervised learning algorithms focus mostly on prediction instead of inference. They are trained to minimize a certain function for a certain variable $(y)$ given a set of \"features\" ($X$)."
   ]
  },
  {
   "cell_type": "markdown",
   "metadata": {
    "slideshow": {
     "slide_type": "slide"
    }
   },
   "source": [
    "The recipe:\n",
    "1. Split your data randomly into \"training\" and \"test\" set.\n",
    "2. Find the set of parameters for your model that minimizes the function on the training set.\n",
    "3. Use those parameters to \"predict\" $y$ with $X$ in the test set.\n",
    "4. Compare the $y$ you predicted with the actual $y$."
   ]
  },
  {
   "cell_type": "markdown",
   "metadata": {
    "slideshow": {
     "slide_type": "slide"
    }
   },
   "source": [
    "#### Example: Linear Regression\n",
    "For ordinary least squares regression, the function minimizes sum of squared error $\\sum (y-\\beta x)^2$ given a target $y$, a feature vector $X$, and a parameter vector $\\beta$.\n",
    "\n",
    "$$ y_{train} = \\beta_{train} X_{train}$$\n",
    "\n",
    "After splitting our data, we can minimize the function on the training set and estimate $\\hat{\\beta}_{train}$. Going to the test set, we then can predict: \n",
    "\n",
    "$$\\hat{y}_{test} = \\hat{\\beta}_{train} X_{test}$$\n",
    "\n",
    "Then we can compare $y_{test}$ to $\\hat{y}_{test}$ to see how close we got."
   ]
  },
  {
   "cell_type": "markdown",
   "metadata": {
    "slideshow": {
     "slide_type": "slide"
    }
   },
   "source": [
    "#### Ok, now what?\n",
    "If our prediction is not very good, for example the difference is really large, what can we do to improve fit?"
   ]
  },
  {
   "cell_type": "markdown",
   "metadata": {
    "slideshow": {
     "slide_type": "slide"
    }
   },
   "source": [
    "### Hyperparameters\n",
    "\n",
    "One thing we could do is add more variables. Suppose, for example, that we think $X$ is non-linear in $y$. What if we added a squared term?\n",
    "\n",
    "$$ y = \\beta_1 X + \\beta_2 X^2$$\n",
    "\n",
    "But why not just keep adding more polynomials? What power of polynomial helps us?\n",
    "\n",
    "Call $P$ the order of polynomial that we have in our model. This would be an example of a __hyperparameter__."
   ]
  },
  {
   "cell_type": "markdown",
   "metadata": {
    "slideshow": {
     "slide_type": "slide"
    }
   },
   "source": [
    "To choose the parameter, we can plug in different $P$ to figure out which one gets the difference between $y_{test}$ and $\\hat{y}_{test}$ the smallest.\n",
    "\n",
    "But are the results sensitive to the particular set of the data we chose?\n",
    "\n",
    "This is why we use __k-fold cross validation__."
   ]
  },
  {
   "cell_type": "markdown",
   "metadata": {
    "slideshow": {
     "slide_type": "slide"
    }
   },
   "source": [
    "### K-Fold Cross Validation"
   ]
  },
  {
   "cell_type": "markdown",
   "metadata": {
    "slideshow": {
     "slide_type": "-"
    }
   },
   "source": [
    "<center> <img width=\"800\" src=\"kfolds.png\"> </center>\n",
    "\n",
    "[Graph from this guy's notebook](http://ethen8181.github.io/machine-learning/model_selection/model_selection.html)"
   ]
  },
  {
   "cell_type": "markdown",
   "metadata": {
    "slideshow": {
     "slide_type": "slide"
    }
   },
   "source": [
    "   So in essence, we take the average \"performance\" across a number of splits of the data.\n",
    "   \n",
    "   We tend to pick the hyper parameter value that maximizes the average performance."
   ]
  },
  {
   "cell_type": "markdown",
   "metadata": {
    "slideshow": {
     "slide_type": "slide"
    }
   },
   "source": [
    "### Implementation\n",
    "\n",
    "To use supervised machine learning to do sentiment analysis:\n",
    "\n",
    "- $y$ is a discrete variable\n",
    "    - Example: positive or negative.\n",
    "    - Example: star rating.\n",
    "    - Example: subjective rating.\n",
    "- $X$ is made up of features of the text (word counts, n-grams, etc.)"
   ]
  },
  {
   "cell_type": "markdown",
   "metadata": {
    "slideshow": {
     "slide_type": "slide"
    }
   },
   "source": [
    "The machine learning approach to sentiment analysis:\n",
    "1. Find \"labeled\" text. For example, Amazon reviews with ratings.\n",
    "2. Use the features of the text to predict ratings.\n",
    "3. Train the algorithm with as much labeled text as possible.\n",
    "\n",
    "Finally, feed it in text you want to understand the sentiment of."
   ]
  },
  {
   "cell_type": "markdown",
   "metadata": {
    "slideshow": {
     "slide_type": "slide"
    }
   },
   "source": [
    "#### Example: Naive Bayes\n",
    "What is the probability that a certain text is positive or negative given features of the text $X$?\n",
    "\n",
    "Otherwise stated, what is $P(Positive|X)$?\n",
    "\n",
    "Bayes Theorem tells us:\n",
    "$$ P(Positive|X) = \\frac{P(X|Positive) P(Positive)}{P(X)}$$"
   ]
  },
  {
   "cell_type": "markdown",
   "metadata": {
    "slideshow": {
     "slide_type": "slide"
    }
   },
   "source": [
    "So we could figure out this probability if we happen to have a model for $P(X|Positive)$. We care about the numerator because we can a make a metric to help us classify by dividing posterior probabilities:\n",
    "\n",
    "$$ \\frac{P(Positive|X)}{P(Not Positive|X)} = \\frac{P(X|Positive) P(Positive)}{P(X|Not Positive) P(Not Positive)}$$"
   ]
  },
  {
   "attachments": {
    "image.png": {
     "image/png": "[encoded data removed]"
    }
   },
   "cell_type": "markdown",
   "metadata": {
    "slideshow": {
     "slide_type": "slide"
    }
   },
   "source": [
    "#### Why is it naive?\n",
    "The numerator is equivalent to $P(X,Positive)$, the joint probability. This is more complex the bigger $X$ is. From the wikipedia entry:\n",
    "![image.png](attachment:image.png)\n",
    "\n",
    "\n"
   ]
  },
  {
   "attachments": {
    "image.png": {
     "image/png": "[encoded data removed]"
    }
   },
   "cell_type": "markdown",
   "metadata": {
    "slideshow": {
     "slide_type": "slide"
    }
   },
   "source": [
    "hard to estimate... __unless__ all components of $X$ are conditionally independent.\n",
    "\n",
    "![image.png](attachment:image.png)\n",
    "\n",
    "In our case:\n",
    "\n",
    "$P(Positive|X) = P(Positive)\\Pi^n_{i=1} P(x_i|Positive) $\n",
    "\n",
    "__What does conditional independence imply for text?__"
   ]
  },
  {
   "cell_type": "markdown",
   "metadata": {
    "slideshow": {
     "slide_type": "slide"
    }
   },
   "source": [
    "\n",
    "If X is a vector of word counts, it means that __saying one word cannot reduce the probability of saying another word__.\n",
    "\n",
    "This is a \"generative model\" since we are attempting to specify how certain words are generated."
   ]
  },
  {
   "cell_type": "markdown",
   "metadata": {
    "slideshow": {
     "slide_type": "slide"
    }
   },
   "source": [
    "All we now have to do is specify a distribution from $P(X|Positive)$ and we can estimate the model.\n",
    "\n",
    "For example, Gaussian Naive Bayes assumes the probabilities are distributed Gaussian.\n",
    "\n",
    "For text analysis, people often use a variant called \"Multinomial Naive Bayes\" (MNB) which assumes that a given text has a multinomial distribution producing the words. This would mean __our word counts are drawn from a multinomial distribution.__\n",
    "\n",
    "This allows using one word to lower the the probability of __all other words__ (but not a specific one)."
   ]
  },
  {
   "cell_type": "markdown",
   "metadata": {
    "slideshow": {
     "slide_type": "slide"
    }
   },
   "source": [
    "### When would you want to use the supervised approach?\n",
    "1. When you have labeled sentiment and you need to predict sentiment for unlabeled data.\n",
    "2. Your sentiment is specific to your case: star ratings, percent ratings, etc. and you need to predict it.\n",
    "\n",
    "__Useful when you need to predict something and have some labeled data already__."
   ]
  },
  {
   "cell_type": "markdown",
   "metadata": {
    "slideshow": {
     "slide_type": "slide"
    }
   },
   "source": [
    "### 3. Unsupervised Machine Learning\n",
    "There is still a way to learn from text even if \"sentiment\" is not explicitly defined.\n",
    "\n",
    "But first, __what do I mean by supervised and unsupervised?__\n",
    "\n",
    "Supervised algorithms are trained to predict $y$ using $X$.\n",
    "\n",
    "Unsupervised algorithms find latent features of the data using __only__ $X$.\n"
   ]
  },
  {
   "cell_type": "markdown",
   "metadata": {
    "slideshow": {
     "slide_type": "slide"
    }
   },
   "source": [
    "#### Topic Analysis\n",
    "\n",
    "One example of an unsupervised learning approach to text analysis is \"topic analysis.\"\n",
    "\n",
    "This analysis assumes there are $K$ underlying \"topics\" from which words are drawn from.\n",
    "\n",
    "Mathematically, this is equivalent to a __factor model__ where observed word frequencies are predicting latent factors."
   ]
  },
  {
   "cell_type": "markdown",
   "metadata": {
    "slideshow": {
     "slide_type": "slide"
    }
   },
   "source": [
    "<center>\n",
    "<img src=factor_model.png>\n",
    "</center>\n",
    "<center>\n",
    "From \"Text as Data,\" pg. 548 \n",
    "    </center>"
   ]
  },
  {
   "cell_type": "markdown",
   "metadata": {
    "slideshow": {
     "slide_type": "slide"
    }
   },
   "source": [
    "One algorithm to do this is __Latent Dirichlet Allocation__, so called because it is a generative model where the prior is Dirichlet distributed.\n",
    "\n",
    "The algorithm works in the following steps.\n",
    "1. Randomly allocate $K$ topics across your documents $M$, which have word counts $W$.\n",
    "2. Calculate probabilities that indicate how often:\n",
    "\n",
    "    a. A topic appears in a document, something like $p(k | m)$\n",
    "\n",
    "    b. A word appears with a document, something like $p(w| k)$\n",
    "    \n",
    "3. Use these probabilities to update $p(k,w) = p(k | m)p(w| k)$\n",
    "\n",
    "Do this until the topics don't move anymore."
   ]
  },
  {
   "cell_type": "markdown",
   "metadata": {
    "slideshow": {
     "slide_type": "slide"
    }
   },
   "source": [
    "End goal is something that looks like this:\n",
    "\n",
    "$$ K_1 = .32  \\text{fish} + .41  \\text{cat}$$\n",
    "$$ K_2 = .12  \\text{beef} + .26  \\text{dogs}$$\n",
    "\n",
    "Which are \"factor scores\" calculated for the different words and how they associate with topics.\n",
    "\n",
    "It is then up to the researcher to determine whether $K$ mean anything at all."
   ]
  },
  {
   "cell_type": "markdown",
   "metadata": {
    "slideshow": {
     "slide_type": "slide"
    }
   },
   "source": [
    "__What did this really do?__\n",
    "\n",
    "It looked for correlations between observed word counts to estimate a probability vector of topics over words. It did this by randomly choosing topics, calculating conditional probabilities, and iterating until topics were stable."
   ]
  },
  {
   "cell_type": "markdown",
   "metadata": {
    "slideshow": {
     "slide_type": "slide"
    }
   },
   "source": [
    "Did we have to assume all that stuff about the underlying distributions?\n",
    "\n",
    "__Sort of__.\n",
    "\n",
    "An algorithm similar to this is __Principal Component Analysis__, which attempts to find underlying components of the data using eigenvectors of the covariance matrix of the features $X$.\n",
    "\n",
    "PCA puts less structure on the problem but potentially tells you less."
   ]
  },
  {
   "cell_type": "markdown",
   "metadata": {
    "slideshow": {
     "slide_type": "slide"
    }
   },
   "source": [
    "Some key differences:\n",
    "\n",
    "- Model\n",
    "    1. LDA assumes probability distributions.\n",
    "    2. PCA does not assume any probability distributions.\n",
    "- Criteria\n",
    "    1. LDA maximizes the shared variance between one latent topic.\n",
    "    2. PCA maximizes the total variance with one component and then subsequent components.\n",
    "    \n"
   ]
  },
  {
   "cell_type": "markdown",
   "metadata": {
    "slideshow": {
     "slide_type": "slide"
    }
   },
   "source": [
    "- Variables\n",
    "    1. LDA: Topics, Documents, Words.\n",
    "    2. PCA: Word counts.\n",
    "- Use\n",
    "    1. LDA is used to test a formal model.\n",
    "    2. PCA is used as a dimensionality reduction technique."
   ]
  },
  {
   "cell_type": "markdown",
   "metadata": {
    "slideshow": {
     "slide_type": "slide"
    }
   },
   "source": [
    "### When do we use the unsupervised approach?\n",
    "- When you have no labled data, but still want to discover underlying patterns.\n",
    "- Requires you to interpret what combinations of words mean instead of letting a rule based algorithm do it for you.\n",
    "- Good for more complex sentiment for which rule based approaches don't exist.\n",
    "\n",
    "__Use unsupervised approach when you need to find broader patterns in the data beyond simple sentiment.__"
   ]
  },
  {
   "cell_type": "markdown",
   "metadata": {
    "slideshow": {
     "slide_type": "slide"
    }
   },
   "source": [
    "### An Example from \"Python for Data Science\"\n",
    "\n",
    "Using a Naive Bayes classifier to predict group labels."
   ]
  },
  {
   "cell_type": "markdown",
   "metadata": {
    "slideshow": {
     "slide_type": "slide"
    }
   },
   "source": [
    "Use some data from online news articles"
   ]
  },
  {
   "cell_type": "code",
   "execution_count": 23,
   "metadata": {
    "slideshow": {
     "slide_type": "-"
    }
   },
   "outputs": [
    {
     "data": {
      "text/plain": [
       "['alt.atheism',\n",
       " 'comp.graphics',\n",
       " 'comp.os.ms-windows.misc',\n",
       " 'comp.sys.ibm.pc.hardware',\n",
       " 'comp.sys.mac.hardware',\n",
       " 'comp.windows.x',\n",
       " 'misc.forsale',\n",
       " 'rec.autos',\n",
       " 'rec.motorcycles',\n",
       " 'rec.sport.baseball',\n",
       " 'rec.sport.hockey',\n",
       " 'sci.crypt',\n",
       " 'sci.electronics',\n",
       " 'sci.med',\n",
       " 'sci.space',\n",
       " 'soc.religion.christian',\n",
       " 'talk.politics.guns',\n",
       " 'talk.politics.mideast',\n",
       " 'talk.politics.misc',\n",
       " 'talk.religion.misc']"
      ]
     },
     "execution_count": 23,
     "metadata": {},
     "output_type": "execute_result"
    }
   ],
   "source": [
    "from sklearn.datasets import fetch_20newsgroups\n",
    "\n",
    "data = fetch_20newsgroups()\n",
    "data.target_names"
   ]
  },
  {
   "cell_type": "code",
   "execution_count": 24,
   "metadata": {
    "slideshow": {
     "slide_type": "-"
    }
   },
   "outputs": [],
   "source": [
    "categories = ['talk.religion.misc', 'soc.religion.christian', 'rec.sport.baseball','rec.sport.hockey',\n",
    "              'sci.crypt', 'comp.graphics','talk.politics.guns','talk.politics.mideast']\n",
    "train = fetch_20newsgroups(subset='train', categories=categories)\n",
    "test = fetch_20newsgroups(subset='test', categories=categories)"
   ]
  },
  {
   "cell_type": "code",
   "execution_count": 39,
   "metadata": {
    "slideshow": {
     "slide_type": "slide"
    }
   },
   "outputs": [],
   "source": [
    "from sklearn.feature_extraction.text import TfidfVectorizer, CountVectorizer\n",
    "from sklearn.naive_bayes import MultinomialNB\n",
    "from sklearn.pipeline import make_pipeline\n",
    "import numpy as np\n",
    "import pandas as pd\n",
    "\n",
    "#       Function that sends input through to one function and then the output from \n",
    "#       that function to the next one.\n",
    "model = make_pipeline(CountVectorizer(stop_words=\"english\"), MultinomialNB())"
   ]
  },
  {
   "cell_type": "markdown",
   "metadata": {
    "slideshow": {
     "slide_type": "slide"
    }
   },
   "source": [
    "What does the vectorizer do?"
   ]
  },
  {
   "cell_type": "code",
   "execution_count": 40,
   "metadata": {},
   "outputs": [
    {
     "data": {
      "text/plain": [
       "4462"
      ]
     },
     "execution_count": 40,
     "metadata": {},
     "output_type": "execute_result"
    }
   ],
   "source": [
    "len(train['data'])"
   ]
  },
  {
   "cell_type": "code",
   "execution_count": 41,
   "metadata": {
    "slideshow": {
     "slide_type": "-"
    }
   },
   "outputs": [],
   "source": [
    "tf_vec = CountVectorizer(stop_words=\"english\")\n",
    "\n",
    "X = tf_vec.fit_transform(train.data)"
   ]
  },
  {
   "cell_type": "code",
   "execution_count": 42,
   "metadata": {},
   "outputs": [
    {
     "data": {
      "text/plain": [
       "<4462x57579 sparse matrix of type '<class 'numpy.int64'>'\n",
       "\twith 563577 stored elements in Compressed Sparse Row format>"
      ]
     },
     "execution_count": 42,
     "metadata": {},
     "output_type": "execute_result"
    }
   ],
   "source": [
    "X"
   ]
  },
  {
   "cell_type": "markdown",
   "metadata": {
    "slideshow": {
     "slide_type": "-"
    }
   },
   "source": [
    "The feature names are stored here:"
   ]
  },
  {
   "cell_type": "code",
   "execution_count": 43,
   "metadata": {
    "slideshow": {
     "slide_type": "-"
    }
   },
   "outputs": [],
   "source": [
    "feature_names = tf_vec.get_feature_names_out()"
   ]
  },
  {
   "cell_type": "markdown",
   "metadata": {
    "slideshow": {
     "slide_type": "slide"
    }
   },
   "source": [
    "Make a dataframe:"
   ]
  },
  {
   "cell_type": "code",
   "execution_count": 46,
   "metadata": {
    "slideshow": {
     "slide_type": "-"
    }
   },
   "outputs": [
    {
     "data": {
      "text/html": [
       "<div>\n",
       "<style scoped>\n",
       "    .dataframe tbody tr th:only-of-type {\n",
       "        vertical-align: middle;\n",
       "    }\n",
       "\n",
       "    .dataframe tbody tr th {\n",
       "        vertical-align: top;\n",
       "    }\n",
       "\n",
       "    .dataframe thead th {\n",
       "        text-align: right;\n",
       "    }\n",
       "</style>\n",
       "<table border=\"1\" class=\"dataframe\">\n",
       "  <thead>\n",
       "    <tr style=\"text-align: right;\">\n",
       "      <th></th>\n",
       "      <th>00</th>\n",
       "      <th>000</th>\n",
       "      <th>0000</th>\n",
       "      <th>00000000</th>\n",
       "      <th>00000000b</th>\n",
       "      <th>00000001</th>\n",
       "      <th>00000001b</th>\n",
       "      <th>00000010</th>\n",
       "      <th>00000010b</th>\n",
       "      <th>00000011</th>\n",
       "      <th>...</th>\n",
       "      <th>ºnd</th>\n",
       "      <th>çait</th>\n",
       "      <th>çon</th>\n",
       "      <th>ère</th>\n",
       "      <th>ée</th>\n",
       "      <th>égligent</th>\n",
       "      <th>élangea</th>\n",
       "      <th>érale</th>\n",
       "      <th>ête</th>\n",
       "      <th>ñaustin</th>\n",
       "    </tr>\n",
       "  </thead>\n",
       "  <tbody>\n",
       "    <tr>\n",
       "      <th>0</th>\n",
       "      <td>0</td>\n",
       "      <td>0</td>\n",
       "      <td>0</td>\n",
       "      <td>0</td>\n",
       "      <td>0</td>\n",
       "      <td>0</td>\n",
       "      <td>0</td>\n",
       "      <td>0</td>\n",
       "      <td>0</td>\n",
       "      <td>0</td>\n",
       "      <td>...</td>\n",
       "      <td>0</td>\n",
       "      <td>0</td>\n",
       "      <td>0</td>\n",
       "      <td>0</td>\n",
       "      <td>0</td>\n",
       "      <td>0</td>\n",
       "      <td>0</td>\n",
       "      <td>0</td>\n",
       "      <td>0</td>\n",
       "      <td>0</td>\n",
       "    </tr>\n",
       "    <tr>\n",
       "      <th>1</th>\n",
       "      <td>0</td>\n",
       "      <td>0</td>\n",
       "      <td>0</td>\n",
       "      <td>0</td>\n",
       "      <td>0</td>\n",
       "      <td>0</td>\n",
       "      <td>0</td>\n",
       "      <td>0</td>\n",
       "      <td>0</td>\n",
       "      <td>0</td>\n",
       "      <td>...</td>\n",
       "      <td>0</td>\n",
       "      <td>0</td>\n",
       "      <td>0</td>\n",
       "      <td>0</td>\n",
       "      <td>0</td>\n",
       "      <td>0</td>\n",
       "      <td>0</td>\n",
       "      <td>0</td>\n",
       "      <td>0</td>\n",
       "      <td>0</td>\n",
       "    </tr>\n",
       "    <tr>\n",
       "      <th>2</th>\n",
       "      <td>0</td>\n",
       "      <td>0</td>\n",
       "      <td>0</td>\n",
       "      <td>0</td>\n",
       "      <td>0</td>\n",
       "      <td>0</td>\n",
       "      <td>0</td>\n",
       "      <td>0</td>\n",
       "      <td>0</td>\n",
       "      <td>0</td>\n",
       "      <td>...</td>\n",
       "      <td>0</td>\n",
       "      <td>0</td>\n",
       "      <td>0</td>\n",
       "      <td>0</td>\n",
       "      <td>0</td>\n",
       "      <td>0</td>\n",
       "      <td>0</td>\n",
       "      <td>0</td>\n",
       "      <td>0</td>\n",
       "      <td>0</td>\n",
       "    </tr>\n",
       "    <tr>\n",
       "      <th>3</th>\n",
       "      <td>0</td>\n",
       "      <td>0</td>\n",
       "      <td>0</td>\n",
       "      <td>0</td>\n",
       "      <td>0</td>\n",
       "      <td>0</td>\n",
       "      <td>0</td>\n",
       "      <td>0</td>\n",
       "      <td>0</td>\n",
       "      <td>0</td>\n",
       "      <td>...</td>\n",
       "      <td>0</td>\n",
       "      <td>0</td>\n",
       "      <td>0</td>\n",
       "      <td>0</td>\n",
       "      <td>0</td>\n",
       "      <td>0</td>\n",
       "      <td>0</td>\n",
       "      <td>0</td>\n",
       "      <td>0</td>\n",
       "      <td>0</td>\n",
       "    </tr>\n",
       "    <tr>\n",
       "      <th>4</th>\n",
       "      <td>0</td>\n",
       "      <td>0</td>\n",
       "      <td>0</td>\n",
       "      <td>0</td>\n",
       "      <td>0</td>\n",
       "      <td>0</td>\n",
       "      <td>0</td>\n",
       "      <td>0</td>\n",
       "      <td>0</td>\n",
       "      <td>0</td>\n",
       "      <td>...</td>\n",
       "      <td>0</td>\n",
       "      <td>0</td>\n",
       "      <td>0</td>\n",
       "      <td>0</td>\n",
       "      <td>0</td>\n",
       "      <td>0</td>\n",
       "      <td>0</td>\n",
       "      <td>0</td>\n",
       "      <td>0</td>\n",
       "      <td>0</td>\n",
       "    </tr>\n",
       "    <tr>\n",
       "      <th>...</th>\n",
       "      <td>...</td>\n",
       "      <td>...</td>\n",
       "      <td>...</td>\n",
       "      <td>...</td>\n",
       "      <td>...</td>\n",
       "      <td>...</td>\n",
       "      <td>...</td>\n",
       "      <td>...</td>\n",
       "      <td>...</td>\n",
       "      <td>...</td>\n",
       "      <td>...</td>\n",
       "      <td>...</td>\n",
       "      <td>...</td>\n",
       "      <td>...</td>\n",
       "      <td>...</td>\n",
       "      <td>...</td>\n",
       "      <td>...</td>\n",
       "      <td>...</td>\n",
       "      <td>...</td>\n",
       "      <td>...</td>\n",
       "      <td>...</td>\n",
       "    </tr>\n",
       "    <tr>\n",
       "      <th>4457</th>\n",
       "      <td>0</td>\n",
       "      <td>0</td>\n",
       "      <td>0</td>\n",
       "      <td>0</td>\n",
       "      <td>0</td>\n",
       "      <td>0</td>\n",
       "      <td>0</td>\n",
       "      <td>0</td>\n",
       "      <td>0</td>\n",
       "      <td>0</td>\n",
       "      <td>...</td>\n",
       "      <td>0</td>\n",
       "      <td>0</td>\n",
       "      <td>0</td>\n",
       "      <td>0</td>\n",
       "      <td>0</td>\n",
       "      <td>0</td>\n",
       "      <td>0</td>\n",
       "      <td>0</td>\n",
       "      <td>0</td>\n",
       "      <td>0</td>\n",
       "    </tr>\n",
       "    <tr>\n",
       "      <th>4458</th>\n",
       "      <td>0</td>\n",
       "      <td>0</td>\n",
       "      <td>0</td>\n",
       "      <td>0</td>\n",
       "      <td>0</td>\n",
       "      <td>0</td>\n",
       "      <td>0</td>\n",
       "      <td>0</td>\n",
       "      <td>0</td>\n",
       "      <td>0</td>\n",
       "      <td>...</td>\n",
       "      <td>0</td>\n",
       "      <td>0</td>\n",
       "      <td>0</td>\n",
       "      <td>0</td>\n",
       "      <td>0</td>\n",
       "      <td>0</td>\n",
       "      <td>0</td>\n",
       "      <td>0</td>\n",
       "      <td>0</td>\n",
       "      <td>0</td>\n",
       "    </tr>\n",
       "    <tr>\n",
       "      <th>4459</th>\n",
       "      <td>0</td>\n",
       "      <td>0</td>\n",
       "      <td>0</td>\n",
       "      <td>0</td>\n",
       "      <td>0</td>\n",
       "      <td>0</td>\n",
       "      <td>0</td>\n",
       "      <td>0</td>\n",
       "      <td>0</td>\n",
       "      <td>0</td>\n",
       "      <td>...</td>\n",
       "      <td>0</td>\n",
       "      <td>0</td>\n",
       "      <td>0</td>\n",
       "      <td>0</td>\n",
       "      <td>0</td>\n",
       "      <td>0</td>\n",
       "      <td>0</td>\n",
       "      <td>0</td>\n",
       "      <td>0</td>\n",
       "      <td>0</td>\n",
       "    </tr>\n",
       "    <tr>\n",
       "      <th>4460</th>\n",
       "      <td>0</td>\n",
       "      <td>0</td>\n",
       "      <td>0</td>\n",
       "      <td>0</td>\n",
       "      <td>0</td>\n",
       "      <td>0</td>\n",
       "      <td>0</td>\n",
       "      <td>0</td>\n",
       "      <td>0</td>\n",
       "      <td>0</td>\n",
       "      <td>...</td>\n",
       "      <td>0</td>\n",
       "      <td>0</td>\n",
       "      <td>0</td>\n",
       "      <td>0</td>\n",
       "      <td>0</td>\n",
       "      <td>0</td>\n",
       "      <td>0</td>\n",
       "      <td>0</td>\n",
       "      <td>0</td>\n",
       "      <td>0</td>\n",
       "    </tr>\n",
       "    <tr>\n",
       "      <th>4461</th>\n",
       "      <td>0</td>\n",
       "      <td>0</td>\n",
       "      <td>0</td>\n",
       "      <td>0</td>\n",
       "      <td>0</td>\n",
       "      <td>0</td>\n",
       "      <td>0</td>\n",
       "      <td>0</td>\n",
       "      <td>0</td>\n",
       "      <td>0</td>\n",
       "      <td>...</td>\n",
       "      <td>0</td>\n",
       "      <td>0</td>\n",
       "      <td>0</td>\n",
       "      <td>0</td>\n",
       "      <td>0</td>\n",
       "      <td>0</td>\n",
       "      <td>0</td>\n",
       "      <td>0</td>\n",
       "      <td>0</td>\n",
       "      <td>0</td>\n",
       "    </tr>\n",
       "  </tbody>\n",
       "</table>\n",
       "<p>4462 rows × 57579 columns</p>\n",
       "</div>"
      ],
      "text/plain": [
       "      00  000  0000  00000000  00000000b  00000001  00000001b  00000010  \\\n",
       "0      0    0     0         0          0         0          0         0   \n",
       "1      0    0     0         0          0         0          0         0   \n",
       "2      0    0     0         0          0         0          0         0   \n",
       "3      0    0     0         0          0         0          0         0   \n",
       "4      0    0     0         0          0         0          0         0   \n",
       "...   ..  ...   ...       ...        ...       ...        ...       ...   \n",
       "4457   0    0     0         0          0         0          0         0   \n",
       "4458   0    0     0         0          0         0          0         0   \n",
       "4459   0    0     0         0          0         0          0         0   \n",
       "4460   0    0     0         0          0         0          0         0   \n",
       "4461   0    0     0         0          0         0          0         0   \n",
       "\n",
       "      00000010b  00000011  ...  ºnd  çait  çon  ère  ée  égligent  élangea  \\\n",
       "0             0         0  ...    0     0    0    0   0         0        0   \n",
       "1             0         0  ...    0     0    0    0   0         0        0   \n",
       "2             0         0  ...    0     0    0    0   0         0        0   \n",
       "3             0         0  ...    0     0    0    0   0         0        0   \n",
       "4             0         0  ...    0     0    0    0   0         0        0   \n",
       "...         ...       ...  ...  ...   ...  ...  ...  ..       ...      ...   \n",
       "4457          0         0  ...    0     0    0    0   0         0        0   \n",
       "4458          0         0  ...    0     0    0    0   0         0        0   \n",
       "4459          0         0  ...    0     0    0    0   0         0        0   \n",
       "4460          0         0  ...    0     0    0    0   0         0        0   \n",
       "4461          0         0  ...    0     0    0    0   0         0        0   \n",
       "\n",
       "      érale  ête  ñaustin  \n",
       "0         0    0        0  \n",
       "1         0    0        0  \n",
       "2         0    0        0  \n",
       "3         0    0        0  \n",
       "4         0    0        0  \n",
       "...     ...  ...      ...  \n",
       "4457      0    0        0  \n",
       "4458      0    0        0  \n",
       "4459      0    0        0  \n",
       "4460      0    0        0  \n",
       "4461      0    0        0  \n",
       "\n",
       "[4462 rows x 57579 columns]"
      ]
     },
     "execution_count": 46,
     "metadata": {},
     "output_type": "execute_result"
    }
   ],
   "source": [
    "df =pd.DataFrame(X.toarray(), \\\n",
    "                 columns=feature_names)\n",
    "\n",
    "df"
   ]
  },
  {
   "cell_type": "markdown",
   "metadata": {
    "slideshow": {
     "slide_type": "-"
    }
   },
   "source": [
    "Get the top 10 word counts:"
   ]
  },
  {
   "cell_type": "code",
   "execution_count": 47,
   "metadata": {
    "slideshow": {
     "slide_type": "-"
    }
   },
   "outputs": [
    {
     "data": {
      "text/plain": [
       "edu             8721\n",
       "subject         4852\n",
       "lines           4638\n",
       "organization    4396\n",
       "com             4332\n",
       "people          3488\n",
       "writes          3422\n",
       "article         3085\n",
       "don             2713\n",
       "like            2524\n",
       "dtype: int64"
      ]
     },
     "execution_count": 47,
     "metadata": {},
     "output_type": "execute_result"
    }
   ],
   "source": [
    "df.sum().sort_values(ascending=False).head(10)"
   ]
  },
  {
   "cell_type": "markdown",
   "metadata": {
    "slideshow": {
     "slide_type": "slide"
    }
   },
   "source": [
    "Here we will fit the model and predict on the test set."
   ]
  },
  {
   "cell_type": "code",
   "execution_count": 48,
   "metadata": {
    "slideshow": {
     "slide_type": "-"
    }
   },
   "outputs": [],
   "source": [
    "model.fit(train.data, train.target)\n",
    "labels = model.predict(test.data)"
   ]
  },
  {
   "cell_type": "markdown",
   "metadata": {
    "slideshow": {
     "slide_type": "-"
    }
   },
   "source": [
    "How do we know it's correct? The confusion matrix is one metric:"
   ]
  },
  {
   "cell_type": "code",
   "execution_count": 49,
   "metadata": {
    "slideshow": {
     "slide_type": "slide"
    }
   },
   "outputs": [
    {
     "data": {
      "image/png": "[encoded data removed]",
      "text/plain": [
       "<Figure size 640x480 with 1 Axes>"
      ]
     },
     "metadata": {},
     "output_type": "display_data"
    }
   ],
   "source": [
    "import seaborn as sns\n",
    "import matplotlib.pyplot as plt\n",
    "\n",
    "from sklearn.metrics import confusion_matrix\n",
    "mat = confusion_matrix(test.target, labels)\n",
    "sns.heatmap(mat.T, square=True, annot=True, fmt='d', cbar=False,\n",
    "            xticklabels=train.target_names, yticklabels=train.target_names)\n",
    "plt.xlabel('true label')\n",
    "plt.ylabel('predicted label');"
   ]
  },
  {
   "cell_type": "markdown",
   "metadata": {
    "slideshow": {
     "slide_type": "slide"
    }
   },
   "source": [
    "Let's see how it predicts..."
   ]
  },
  {
   "cell_type": "code",
   "execution_count": 50,
   "metadata": {
    "slideshow": {
     "slide_type": "-"
    }
   },
   "outputs": [],
   "source": [
    "def predict_category(s, train=train, model=model):\n",
    "    pred = model.predict([s])\n",
    "    return train.target_names[pred[0]]"
   ]
  },
  {
   "cell_type": "code",
   "execution_count": 69,
   "metadata": {
    "slideshow": {
     "slide_type": "-"
    }
   },
   "outputs": [
    {
     "data": {
      "text/plain": [
       "'rec.sport.hockey'"
      ]
     },
     "execution_count": 69,
     "metadata": {},
     "output_type": "execute_result"
    }
   ],
   "source": [
    "predict_category(\"maple leaf\")"
   ]
  },
  {
   "cell_type": "markdown",
   "metadata": {
    "slideshow": {
     "slide_type": "slide"
    }
   },
   "source": [
    "What would you do from here?\n",
    "- Try picking different hyperparameters for the estimator, trying them out on different splits of the data.\n",
    "    - The default parameter ($\\alpha$) was set to 1 (\"Laplace Smoothing\").\n",
    "    - Ideally you would choose this using cross-validation.\n",
    "- Look at some kind of metric that tells you how accurate its being (your loss function)."
   ]
  }
 ],
 "metadata": {
  "celltoolbar": "Slideshow",
  "kernelspec": {
   "display_name": "Python 3 (ipykernel)",
   "language": "python",
   "name": "python3"
  },
  "language_info": {
   "codemirror_mode": {
    "name": "ipython",
    "version": 3
   },
   "file_extension": ".py",
   "mimetype": "text/x-python",
   "name": "python",
   "nbconvert_exporter": "python",
   "pygments_lexer": "ipython3",
   "version": "3.11.7"
  },
  "rise": {
   "height": "80%",
   "transition": "none"
  }
 },
 "nbformat": 4,
 "nbformat_minor": 4
}
